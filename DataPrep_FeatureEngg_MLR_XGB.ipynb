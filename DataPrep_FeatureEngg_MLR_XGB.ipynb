{
 "cells": [
  {
   "cell_type": "code",
   "execution_count": 89,
   "id": "14ed0f9b-45bb-4a38-8d7d-c0500cd152ed",
   "metadata": {},
   "outputs": [],
   "source": [
    "#Importing libraries\n",
    "import numpy as np\n",
    "import pandas as pd\n",
    "import matplotlib.pyplot as plt \n",
    "import pickle\n",
    "from sklearn.decomposition import PCA\n",
    "from sklearn.preprocessing import PolynomialFeatures\n",
    "from sklearn.preprocessing import (\n",
    "    MaxAbsScaler,\n",
    "    MinMaxScaler,\n",
    "    Normalizer,\n",
    "    PowerTransformer,\n",
    "    QuantileTransformer,\n",
    "    RobustScaler,\n",
    "    StandardScaler,\n",
    "    minmax_scale,\n",
    ")\n",
    "from sklearn.pipeline import Pipeline\n",
    "\n",
    "from sklearn.feature_selection import SelectKBest\n",
    "from sklearn.feature_selection import mutual_info_regression\n",
    "from sklearn.linear_model import LinearRegression\n",
    "from sklearn.model_selection import KFold\n",
    "\n",
    "from sklearn.linear_model import Ridge\n",
    "from sklearn.linear_model import Lasso\n",
    "from sklearn.metrics import mean_absolute_error,mean_squared_error,r2_score,mean_absolute_percentage_error\n",
    "\n",
    "from sklearn.model_selection import GridSearchCV\n",
    "import xgboost as xgb\n",
    "from xgboost import XGBRegressor"
   ]
  },
  {
   "cell_type": "code",
   "execution_count": 2,
   "id": "884ea496-52aa-47de-a68e-e806a34f7157",
   "metadata": {},
   "outputs": [],
   "source": [
    "#Read files\n",
    "energy_use_data=pd.read_csv('D:/MSDA_SJSU/Data 245 ML/Project/Bldg59_clean data/ele.csv')\n",
    "out_env_data=pd.read_csv('D:/MSDA_SJSU/Data 245 ML/Project/Bldg59_clean data/site_weather.csv')\n",
    "in_cooling_data=pd.read_csv('D:/MSDA_SJSU/Data 245 ML/Project/Bldg59_clean data/zone_temp_sp_c.csv')\n",
    "in_heating_data=pd.read_csv('D:/MSDA_SJSU/Data 245 ML/Project/Bldg59_clean data/zone_temp_sp_h.csv')\n",
    "zone_temp_interior=pd.read_csv('D:/MSDA_SJSU/Data 245 ML/Project/Bldg59_clean data/zone_temp_interior.csv')\n",
    "zone_temp_exterior=pd.read_csv('D:/MSDA_SJSU/Data 245 ML/Project/Bldg59_clean data/zone_temp_exterior.csv')\n",
    "co2_conc=pd.read_csv('D:/MSDA_SJSU/Data 245 ML/Project/Bldg59_clean data/zone_co2.csv')\n",
    "occupant=pd.read_csv('D:/MSDA_SJSU/Data 245 ML/Project/Bldg59_clean data/occ.csv')\n",
    "wifi_data=pd.read_csv('D:/MSDA_SJSU/Data 245 ML/Project/Bldg59_clean data/wifi.csv')"
   ]
  },
  {
   "cell_type": "code",
   "execution_count": 4,
   "id": "39e46392-5309-4351-baa5-6a9b6b833dfe",
   "metadata": {},
   "outputs": [
    {
     "data": {
      "text/html": [
       "<div>\n",
       "<style scoped>\n",
       "    .dataframe tbody tr th:only-of-type {\n",
       "        vertical-align: middle;\n",
       "    }\n",
       "\n",
       "    .dataframe tbody tr th {\n",
       "        vertical-align: top;\n",
       "    }\n",
       "\n",
       "    .dataframe thead th {\n",
       "        text-align: right;\n",
       "    }\n",
       "</style>\n",
       "<table border=\"1\" class=\"dataframe\">\n",
       "  <thead>\n",
       "    <tr style=\"text-align: right;\">\n",
       "      <th></th>\n",
       "      <th>date</th>\n",
       "      <th>mels_S</th>\n",
       "      <th>lig_S</th>\n",
       "      <th>mels_N</th>\n",
       "      <th>hvac_N</th>\n",
       "      <th>hvac_S</th>\n",
       "      <th>Unnamed: 6</th>\n",
       "    </tr>\n",
       "  </thead>\n",
       "  <tbody>\n",
       "    <tr>\n",
       "      <th>0</th>\n",
       "      <td>2018/1/1 1:00</td>\n",
       "      <td>1.2</td>\n",
       "      <td>0.2</td>\n",
       "      <td>7.5</td>\n",
       "      <td>37.400002</td>\n",
       "      <td>19.500000</td>\n",
       "      <td>NaN</td>\n",
       "    </tr>\n",
       "    <tr>\n",
       "      <th>1</th>\n",
       "      <td>2018/1/1 1:15</td>\n",
       "      <td>1.3</td>\n",
       "      <td>0.2</td>\n",
       "      <td>6.8</td>\n",
       "      <td>37.500000</td>\n",
       "      <td>19.889999</td>\n",
       "      <td>NaN</td>\n",
       "    </tr>\n",
       "    <tr>\n",
       "      <th>2</th>\n",
       "      <td>2018/1/1 1:30</td>\n",
       "      <td>1.1</td>\n",
       "      <td>0.2</td>\n",
       "      <td>7.4</td>\n",
       "      <td>38.000000</td>\n",
       "      <td>19.299999</td>\n",
       "      <td>NaN</td>\n",
       "    </tr>\n",
       "    <tr>\n",
       "      <th>3</th>\n",
       "      <td>2018/1/1 1:45</td>\n",
       "      <td>1.2</td>\n",
       "      <td>0.2</td>\n",
       "      <td>7.7</td>\n",
       "      <td>37.200001</td>\n",
       "      <td>18.889999</td>\n",
       "      <td>NaN</td>\n",
       "    </tr>\n",
       "    <tr>\n",
       "      <th>4</th>\n",
       "      <td>2018/1/1 2:00</td>\n",
       "      <td>1.1</td>\n",
       "      <td>0.2</td>\n",
       "      <td>7.3</td>\n",
       "      <td>37.400002</td>\n",
       "      <td>24.700001</td>\n",
       "      <td>NaN</td>\n",
       "    </tr>\n",
       "  </tbody>\n",
       "</table>\n",
       "</div>"
      ],
      "text/plain": [
       "            date  mels_S  lig_S  mels_N     hvac_N     hvac_S  Unnamed: 6\n",
       "0  2018/1/1 1:00     1.2    0.2     7.5  37.400002  19.500000         NaN\n",
       "1  2018/1/1 1:15     1.3    0.2     6.8  37.500000  19.889999         NaN\n",
       "2  2018/1/1 1:30     1.1    0.2     7.4  38.000000  19.299999         NaN\n",
       "3  2018/1/1 1:45     1.2    0.2     7.7  37.200001  18.889999         NaN\n",
       "4  2018/1/1 2:00     1.1    0.2     7.3  37.400002  24.700001         NaN"
      ]
     },
     "execution_count": 4,
     "metadata": {},
     "output_type": "execute_result"
    }
   ],
   "source": [
    "energy_use_data.head()"
   ]
  },
  {
   "cell_type": "markdown",
   "id": "90a89bb9-3062-476e-99e6-81b3eefa2399",
   "metadata": {},
   "source": [
    "For current project we will keep hvac_N and hvac_S as target variable.Based on this assumption, here we will drop mels_S, lig_S, mels_N and Unnamed:6 variable from erergy_use_data"
   ]
  },
  {
   "cell_type": "code",
   "execution_count": 5,
   "id": "c704452f-9bbe-4ce5-8c16-7fa82d702e58",
   "metadata": {},
   "outputs": [],
   "source": [
    "energy_use_target=energy_use_data[['date','hvac_N','hvac_S']]"
   ]
  },
  {
   "cell_type": "code",
   "execution_count": 6,
   "id": "27583dbf-323e-4b6d-b376-f5b8bcaa780c",
   "metadata": {},
   "outputs": [
    {
     "data": {
      "text/html": [
       "<div>\n",
       "<style scoped>\n",
       "    .dataframe tbody tr th:only-of-type {\n",
       "        vertical-align: middle;\n",
       "    }\n",
       "\n",
       "    .dataframe tbody tr th {\n",
       "        vertical-align: top;\n",
       "    }\n",
       "\n",
       "    .dataframe thead th {\n",
       "        text-align: right;\n",
       "    }\n",
       "</style>\n",
       "<table border=\"1\" class=\"dataframe\">\n",
       "  <thead>\n",
       "    <tr style=\"text-align: right;\">\n",
       "      <th></th>\n",
       "      <th>date</th>\n",
       "      <th>hvac_N</th>\n",
       "      <th>hvac_S</th>\n",
       "    </tr>\n",
       "  </thead>\n",
       "  <tbody>\n",
       "    <tr>\n",
       "      <th>0</th>\n",
       "      <td>2018/1/1 1:00</td>\n",
       "      <td>37.400002</td>\n",
       "      <td>19.500000</td>\n",
       "    </tr>\n",
       "    <tr>\n",
       "      <th>1</th>\n",
       "      <td>2018/1/1 1:15</td>\n",
       "      <td>37.500000</td>\n",
       "      <td>19.889999</td>\n",
       "    </tr>\n",
       "    <tr>\n",
       "      <th>2</th>\n",
       "      <td>2018/1/1 1:30</td>\n",
       "      <td>38.000000</td>\n",
       "      <td>19.299999</td>\n",
       "    </tr>\n",
       "    <tr>\n",
       "      <th>3</th>\n",
       "      <td>2018/1/1 1:45</td>\n",
       "      <td>37.200001</td>\n",
       "      <td>18.889999</td>\n",
       "    </tr>\n",
       "    <tr>\n",
       "      <th>4</th>\n",
       "      <td>2018/1/1 2:00</td>\n",
       "      <td>37.400002</td>\n",
       "      <td>24.700001</td>\n",
       "    </tr>\n",
       "  </tbody>\n",
       "</table>\n",
       "</div>"
      ],
      "text/plain": [
       "            date     hvac_N     hvac_S\n",
       "0  2018/1/1 1:00  37.400002  19.500000\n",
       "1  2018/1/1 1:15  37.500000  19.889999\n",
       "2  2018/1/1 1:30  38.000000  19.299999\n",
       "3  2018/1/1 1:45  37.200001  18.889999\n",
       "4  2018/1/1 2:00  37.400002  24.700001"
      ]
     },
     "execution_count": 6,
     "metadata": {},
     "output_type": "execute_result"
    }
   ],
   "source": [
    "energy_use_target.head()"
   ]
  },
  {
   "cell_type": "code",
   "execution_count": 7,
   "id": "8f689339-8f06-448d-80dc-abdf5c93ec74",
   "metadata": {},
   "outputs": [
    {
     "name": "stdout",
     "output_type": "stream",
     "text": [
      "<class 'pandas.core.frame.DataFrame'>\n",
      "RangeIndex: 103048 entries, 0 to 103047\n",
      "Data columns (total 3 columns):\n",
      " #   Column  Non-Null Count   Dtype  \n",
      "---  ------  --------------   -----  \n",
      " 0   date    103048 non-null  object \n",
      " 1   hvac_N  101506 non-null  float64\n",
      " 2   hvac_S  101506 non-null  float64\n",
      "dtypes: float64(2), object(1)\n",
      "memory usage: 2.4+ MB\n"
     ]
    }
   ],
   "source": [
    "energy_use_target.info()"
   ]
  },
  {
   "cell_type": "code",
   "execution_count": 8,
   "id": "a4e1bbb0-eda4-42e7-8b9c-7f13237f7418",
   "metadata": {},
   "outputs": [
    {
     "data": {
      "text/html": [
       "<div>\n",
       "<style scoped>\n",
       "    .dataframe tbody tr th:only-of-type {\n",
       "        vertical-align: middle;\n",
       "    }\n",
       "\n",
       "    .dataframe tbody tr th {\n",
       "        vertical-align: top;\n",
       "    }\n",
       "\n",
       "    .dataframe thead th {\n",
       "        text-align: right;\n",
       "    }\n",
       "</style>\n",
       "<table border=\"1\" class=\"dataframe\">\n",
       "  <thead>\n",
       "    <tr style=\"text-align: right;\">\n",
       "      <th></th>\n",
       "      <th>date</th>\n",
       "      <th>air_temp_set_1</th>\n",
       "      <th>air_temp_set_2</th>\n",
       "      <th>dew_point_temperature_set_1d</th>\n",
       "      <th>relative_humidity_set_1</th>\n",
       "      <th>solar_radiation_set_1</th>\n",
       "    </tr>\n",
       "  </thead>\n",
       "  <tbody>\n",
       "    <tr>\n",
       "      <th>0</th>\n",
       "      <td>2018-01-01 00:00:00</td>\n",
       "      <td>11.64</td>\n",
       "      <td>11.51</td>\n",
       "      <td>8.10</td>\n",
       "      <td>79.07</td>\n",
       "      <td>86.70</td>\n",
       "    </tr>\n",
       "    <tr>\n",
       "      <th>1</th>\n",
       "      <td>2018-01-01 00:15:00</td>\n",
       "      <td>11.49</td>\n",
       "      <td>11.42</td>\n",
       "      <td>8.14</td>\n",
       "      <td>80.10</td>\n",
       "      <td>45.88</td>\n",
       "    </tr>\n",
       "    <tr>\n",
       "      <th>2</th>\n",
       "      <td>2018-01-01 00:30:00</td>\n",
       "      <td>11.59</td>\n",
       "      <td>11.51</td>\n",
       "      <td>8.21</td>\n",
       "      <td>79.92</td>\n",
       "      <td>51.62</td>\n",
       "    </tr>\n",
       "    <tr>\n",
       "      <th>3</th>\n",
       "      <td>2018-01-01 00:45:00</td>\n",
       "      <td>11.44</td>\n",
       "      <td>11.41</td>\n",
       "      <td>8.11</td>\n",
       "      <td>80.20</td>\n",
       "      <td>21.43</td>\n",
       "    </tr>\n",
       "    <tr>\n",
       "      <th>4</th>\n",
       "      <td>2018-01-01 01:00:00</td>\n",
       "      <td>11.12</td>\n",
       "      <td>11.15</td>\n",
       "      <td>8.04</td>\n",
       "      <td>81.50</td>\n",
       "      <td>6.45</td>\n",
       "    </tr>\n",
       "  </tbody>\n",
       "</table>\n",
       "</div>"
      ],
      "text/plain": [
       "                  date  air_temp_set_1  air_temp_set_2  \\\n",
       "0  2018-01-01 00:00:00           11.64           11.51   \n",
       "1  2018-01-01 00:15:00           11.49           11.42   \n",
       "2  2018-01-01 00:30:00           11.59           11.51   \n",
       "3  2018-01-01 00:45:00           11.44           11.41   \n",
       "4  2018-01-01 01:00:00           11.12           11.15   \n",
       "\n",
       "   dew_point_temperature_set_1d  relative_humidity_set_1  \\\n",
       "0                          8.10                    79.07   \n",
       "1                          8.14                    80.10   \n",
       "2                          8.21                    79.92   \n",
       "3                          8.11                    80.20   \n",
       "4                          8.04                    81.50   \n",
       "\n",
       "   solar_radiation_set_1  \n",
       "0                  86.70  \n",
       "1                  45.88  \n",
       "2                  51.62  \n",
       "3                  21.43  \n",
       "4                   6.45  "
      ]
     },
     "execution_count": 8,
     "metadata": {},
     "output_type": "execute_result"
    }
   ],
   "source": [
    "out_env_data.head()"
   ]
  },
  {
   "cell_type": "code",
   "execution_count": 9,
   "id": "aab0e058-8a59-423f-9e6d-4138f1fab553",
   "metadata": {},
   "outputs": [
    {
     "name": "stdout",
     "output_type": "stream",
     "text": [
      "<class 'pandas.core.frame.DataFrame'>\n",
      "RangeIndex: 105217 entries, 0 to 105216\n",
      "Data columns (total 6 columns):\n",
      " #   Column                        Non-Null Count   Dtype  \n",
      "---  ------                        --------------   -----  \n",
      " 0   date                          105217 non-null  object \n",
      " 1   air_temp_set_1                105217 non-null  float64\n",
      " 2   air_temp_set_2                105217 non-null  float64\n",
      " 3   dew_point_temperature_set_1d  105217 non-null  float64\n",
      " 4   relative_humidity_set_1       105217 non-null  float64\n",
      " 5   solar_radiation_set_1         105217 non-null  float64\n",
      "dtypes: float64(5), object(1)\n",
      "memory usage: 4.8+ MB\n"
     ]
    }
   ],
   "source": [
    "out_env_data.info()"
   ]
  },
  {
   "cell_type": "code",
   "execution_count": 10,
   "id": "9f8c35f1-0a50-4eb0-9933-b5011991c8ba",
   "metadata": {},
   "outputs": [
    {
     "data": {
      "text/html": [
       "<div>\n",
       "<style scoped>\n",
       "    .dataframe tbody tr th:only-of-type {\n",
       "        vertical-align: middle;\n",
       "    }\n",
       "\n",
       "    .dataframe tbody tr th {\n",
       "        vertical-align: top;\n",
       "    }\n",
       "\n",
       "    .dataframe thead th {\n",
       "        text-align: right;\n",
       "    }\n",
       "</style>\n",
       "<table border=\"1\" class=\"dataframe\">\n",
       "  <thead>\n",
       "    <tr style=\"text-align: right;\">\n",
       "      <th></th>\n",
       "      <th>date</th>\n",
       "      <th>zone_016_cooling_sp</th>\n",
       "      <th>zone_017_cooling_sp</th>\n",
       "      <th>zone_018_cooling_sp</th>\n",
       "      <th>zone_019_cooling_sp</th>\n",
       "      <th>zone_021_cooling_sp</th>\n",
       "      <th>zone_023_cooling_sp</th>\n",
       "      <th>zone_024_cooling_sp</th>\n",
       "      <th>zone_025_cooling_sp</th>\n",
       "      <th>zone_026_cooling_sp</th>\n",
       "      <th>...</th>\n",
       "      <th>Unnamed: 42</th>\n",
       "      <th>Unnamed: 43</th>\n",
       "      <th>Unnamed: 44</th>\n",
       "      <th>Unnamed: 45</th>\n",
       "      <th>Unnamed: 46</th>\n",
       "      <th>Unnamed: 47</th>\n",
       "      <th>Unnamed: 48</th>\n",
       "      <th>Unnamed: 49</th>\n",
       "      <th>Unnamed: 50</th>\n",
       "      <th>Unnamed: 51</th>\n",
       "    </tr>\n",
       "  </thead>\n",
       "  <tbody>\n",
       "    <tr>\n",
       "      <th>0</th>\n",
       "      <td>2018/9/15 10:00</td>\n",
       "      <td>73.0</td>\n",
       "      <td>73.0</td>\n",
       "      <td>75.0</td>\n",
       "      <td>78.0</td>\n",
       "      <td>75.0</td>\n",
       "      <td>73.0</td>\n",
       "      <td>73.0</td>\n",
       "      <td>73.0</td>\n",
       "      <td>73.0</td>\n",
       "      <td>...</td>\n",
       "      <td>NaN</td>\n",
       "      <td>NaN</td>\n",
       "      <td>NaN</td>\n",
       "      <td>NaN</td>\n",
       "      <td>NaN</td>\n",
       "      <td>NaN</td>\n",
       "      <td>NaN</td>\n",
       "      <td>NaN</td>\n",
       "      <td>NaN</td>\n",
       "      <td>NaN</td>\n",
       "    </tr>\n",
       "    <tr>\n",
       "      <th>1</th>\n",
       "      <td>2018/9/15 10:05</td>\n",
       "      <td>73.0</td>\n",
       "      <td>73.0</td>\n",
       "      <td>75.0</td>\n",
       "      <td>78.0</td>\n",
       "      <td>75.0</td>\n",
       "      <td>73.0</td>\n",
       "      <td>73.0</td>\n",
       "      <td>73.0</td>\n",
       "      <td>73.0</td>\n",
       "      <td>...</td>\n",
       "      <td>NaN</td>\n",
       "      <td>NaN</td>\n",
       "      <td>NaN</td>\n",
       "      <td>NaN</td>\n",
       "      <td>NaN</td>\n",
       "      <td>NaN</td>\n",
       "      <td>NaN</td>\n",
       "      <td>NaN</td>\n",
       "      <td>NaN</td>\n",
       "      <td>NaN</td>\n",
       "    </tr>\n",
       "    <tr>\n",
       "      <th>2</th>\n",
       "      <td>2018/9/15 10:10</td>\n",
       "      <td>73.0</td>\n",
       "      <td>73.0</td>\n",
       "      <td>75.0</td>\n",
       "      <td>78.0</td>\n",
       "      <td>75.0</td>\n",
       "      <td>73.0</td>\n",
       "      <td>73.0</td>\n",
       "      <td>73.0</td>\n",
       "      <td>73.0</td>\n",
       "      <td>...</td>\n",
       "      <td>NaN</td>\n",
       "      <td>NaN</td>\n",
       "      <td>NaN</td>\n",
       "      <td>NaN</td>\n",
       "      <td>NaN</td>\n",
       "      <td>NaN</td>\n",
       "      <td>NaN</td>\n",
       "      <td>NaN</td>\n",
       "      <td>NaN</td>\n",
       "      <td>NaN</td>\n",
       "    </tr>\n",
       "    <tr>\n",
       "      <th>3</th>\n",
       "      <td>2018/9/15 10:15</td>\n",
       "      <td>73.0</td>\n",
       "      <td>73.0</td>\n",
       "      <td>75.0</td>\n",
       "      <td>78.0</td>\n",
       "      <td>75.0</td>\n",
       "      <td>73.0</td>\n",
       "      <td>73.0</td>\n",
       "      <td>73.0</td>\n",
       "      <td>73.0</td>\n",
       "      <td>...</td>\n",
       "      <td>NaN</td>\n",
       "      <td>NaN</td>\n",
       "      <td>NaN</td>\n",
       "      <td>NaN</td>\n",
       "      <td>NaN</td>\n",
       "      <td>NaN</td>\n",
       "      <td>NaN</td>\n",
       "      <td>NaN</td>\n",
       "      <td>NaN</td>\n",
       "      <td>NaN</td>\n",
       "    </tr>\n",
       "    <tr>\n",
       "      <th>4</th>\n",
       "      <td>2018/9/15 10:20</td>\n",
       "      <td>73.0</td>\n",
       "      <td>73.0</td>\n",
       "      <td>75.0</td>\n",
       "      <td>78.0</td>\n",
       "      <td>75.0</td>\n",
       "      <td>73.0</td>\n",
       "      <td>73.0</td>\n",
       "      <td>73.0</td>\n",
       "      <td>73.0</td>\n",
       "      <td>...</td>\n",
       "      <td>NaN</td>\n",
       "      <td>NaN</td>\n",
       "      <td>NaN</td>\n",
       "      <td>NaN</td>\n",
       "      <td>NaN</td>\n",
       "      <td>NaN</td>\n",
       "      <td>NaN</td>\n",
       "      <td>NaN</td>\n",
       "      <td>NaN</td>\n",
       "      <td>NaN</td>\n",
       "    </tr>\n",
       "  </tbody>\n",
       "</table>\n",
       "<p>5 rows × 52 columns</p>\n",
       "</div>"
      ],
      "text/plain": [
       "              date  zone_016_cooling_sp  zone_017_cooling_sp  \\\n",
       "0  2018/9/15 10:00                 73.0                 73.0   \n",
       "1  2018/9/15 10:05                 73.0                 73.0   \n",
       "2  2018/9/15 10:10                 73.0                 73.0   \n",
       "3  2018/9/15 10:15                 73.0                 73.0   \n",
       "4  2018/9/15 10:20                 73.0                 73.0   \n",
       "\n",
       "   zone_018_cooling_sp  zone_019_cooling_sp  zone_021_cooling_sp  \\\n",
       "0                 75.0                 78.0                 75.0   \n",
       "1                 75.0                 78.0                 75.0   \n",
       "2                 75.0                 78.0                 75.0   \n",
       "3                 75.0                 78.0                 75.0   \n",
       "4                 75.0                 78.0                 75.0   \n",
       "\n",
       "   zone_023_cooling_sp  zone_024_cooling_sp  zone_025_cooling_sp  \\\n",
       "0                 73.0                 73.0                 73.0   \n",
       "1                 73.0                 73.0                 73.0   \n",
       "2                 73.0                 73.0                 73.0   \n",
       "3                 73.0                 73.0                 73.0   \n",
       "4                 73.0                 73.0                 73.0   \n",
       "\n",
       "   zone_026_cooling_sp  ...  Unnamed: 42  Unnamed: 43  Unnamed: 44  \\\n",
       "0                 73.0  ...          NaN          NaN          NaN   \n",
       "1                 73.0  ...          NaN          NaN          NaN   \n",
       "2                 73.0  ...          NaN          NaN          NaN   \n",
       "3                 73.0  ...          NaN          NaN          NaN   \n",
       "4                 73.0  ...          NaN          NaN          NaN   \n",
       "\n",
       "   Unnamed: 45  Unnamed: 46  Unnamed: 47  Unnamed: 48  Unnamed: 49  \\\n",
       "0          NaN          NaN          NaN          NaN          NaN   \n",
       "1          NaN          NaN          NaN          NaN          NaN   \n",
       "2          NaN          NaN          NaN          NaN          NaN   \n",
       "3          NaN          NaN          NaN          NaN          NaN   \n",
       "4          NaN          NaN          NaN          NaN          NaN   \n",
       "\n",
       "   Unnamed: 50  Unnamed: 51  \n",
       "0          NaN          NaN  \n",
       "1          NaN          NaN  \n",
       "2          NaN          NaN  \n",
       "3          NaN          NaN  \n",
       "4          NaN          NaN  \n",
       "\n",
       "[5 rows x 52 columns]"
      ]
     },
     "execution_count": 10,
     "metadata": {},
     "output_type": "execute_result"
    }
   ],
   "source": [
    "in_cooling_data.head()"
   ]
  },
  {
   "cell_type": "code",
   "execution_count": 11,
   "id": "93e456e4-2678-460f-803c-7be06374625d",
   "metadata": {},
   "outputs": [
    {
     "name": "stdout",
     "output_type": "stream",
     "text": [
      "<class 'pandas.core.frame.DataFrame'>\n",
      "RangeIndex: 237133 entries, 0 to 237132\n",
      "Data columns (total 52 columns):\n",
      " #   Column               Non-Null Count   Dtype  \n",
      "---  ------               --------------   -----  \n",
      " 0   date                 237133 non-null  object \n",
      " 1   zone_016_cooling_sp  236632 non-null  float64\n",
      " 2   zone_017_cooling_sp  236634 non-null  float64\n",
      " 3   zone_018_cooling_sp  236634 non-null  float64\n",
      " 4   zone_019_cooling_sp  235917 non-null  float64\n",
      " 5   zone_021_cooling_sp  236710 non-null  float64\n",
      " 6   zone_023_cooling_sp  236329 non-null  float64\n",
      " 7   zone_024_cooling_sp  236263 non-null  float64\n",
      " 8   zone_025_cooling_sp  236260 non-null  float64\n",
      " 9   zone_026_cooling_sp  236665 non-null  float64\n",
      " 10  zone_027_cooling_sp  236162 non-null  float64\n",
      " 11  zone_030_cooling_sp  236191 non-null  float64\n",
      " 12  zone_032_cooling_sp  236157 non-null  float64\n",
      " 13  zone_035_cooling_sp  236700 non-null  float64\n",
      " 14  zone_036_cooling_sp  236634 non-null  float64\n",
      " 15  zone_037_cooling_sp  236634 non-null  float64\n",
      " 16  zone_038_cooling_sp  236026 non-null  float64\n",
      " 17  zone_039_cooling_sp  236025 non-null  float64\n",
      " 18  zone_041_cooling_sp  237132 non-null  float64\n",
      " 19  zone_042_cooling_sp  236632 non-null  float64\n",
      " 20  zone_043_cooling_sp  236631 non-null  float64\n",
      " 21  zone_046_cooling_sp  236317 non-null  float64\n",
      " 22  zone_047_cooling_sp  236345 non-null  float64\n",
      " 23  zone_048_cooling_sp  236345 non-null  float64\n",
      " 24  zone_049_cooling_sp  235997 non-null  float64\n",
      " 25  zone_051_cooling_sp  236845 non-null  float64\n",
      " 26  zone_053_cooling_sp  236177 non-null  float64\n",
      " 27  zone_054_cooling_sp  236629 non-null  float64\n",
      " 28  zone_055_cooling_sp  235847 non-null  float64\n",
      " 29  zone_056_cooling_sp  235849 non-null  float64\n",
      " 30  zone_057_cooling_sp  235847 non-null  float64\n",
      " 31  zone_059_cooling_sp  235841 non-null  float64\n",
      " 32  zone_061_cooling_sp  235542 non-null  float64\n",
      " 33  zone_062_cooling_sp  237133 non-null  float64\n",
      " 34  zone_063_cooling_sp  236411 non-null  float64\n",
      " 35  zone_064_cooling_sp  236347 non-null  float64\n",
      " 36  zone_065_cooling_sp  236699 non-null  float64\n",
      " 37  zone_066_cooling_sp  235916 non-null  float64\n",
      " 38  zone_067_cooling_sp  235917 non-null  float64\n",
      " 39  zone_069_cooling_sp  236276 non-null  float64\n",
      " 40  zone_070_cooling_sp  184559 non-null  float64\n",
      " 41  zone_071_cooling_sp  236273 non-null  float64\n",
      " 42  Unnamed: 42          105408 non-null  float64\n",
      " 43  Unnamed: 43          105408 non-null  float64\n",
      " 44  Unnamed: 44          105408 non-null  float64\n",
      " 45  Unnamed: 45          105408 non-null  float64\n",
      " 46  Unnamed: 46          105408 non-null  float64\n",
      " 47  Unnamed: 47          105408 non-null  float64\n",
      " 48  Unnamed: 48          105408 non-null  float64\n",
      " 49  Unnamed: 49          105408 non-null  float64\n",
      " 50  Unnamed: 50          105408 non-null  float64\n",
      " 51  Unnamed: 51          105408 non-null  float64\n",
      "dtypes: float64(51), object(1)\n",
      "memory usage: 94.1+ MB\n"
     ]
    }
   ],
   "source": [
    "in_cooling_data.info()"
   ]
  },
  {
   "cell_type": "code",
   "execution_count": 12,
   "id": "a535f574-4a24-497e-b92f-a18fef347061",
   "metadata": {},
   "outputs": [
    {
     "data": {
      "text/html": [
       "<div>\n",
       "<style scoped>\n",
       "    .dataframe tbody tr th:only-of-type {\n",
       "        vertical-align: middle;\n",
       "    }\n",
       "\n",
       "    .dataframe tbody tr th {\n",
       "        vertical-align: top;\n",
       "    }\n",
       "\n",
       "    .dataframe thead th {\n",
       "        text-align: right;\n",
       "    }\n",
       "</style>\n",
       "<table border=\"1\" class=\"dataframe\">\n",
       "  <thead>\n",
       "    <tr style=\"text-align: right;\">\n",
       "      <th></th>\n",
       "      <th>date</th>\n",
       "      <th>zone_016_heating_sp</th>\n",
       "      <th>zone_017_heating_sp</th>\n",
       "      <th>zone_018_heating_sp</th>\n",
       "      <th>zone_019_heating_sp</th>\n",
       "      <th>zone_021_heating_sp</th>\n",
       "      <th>zone_023_heating_sp</th>\n",
       "      <th>zone_024_heating_sp</th>\n",
       "      <th>zone_025_heating_sp</th>\n",
       "      <th>zone_026_heating_sp</th>\n",
       "      <th>...</th>\n",
       "      <th>Unnamed: 42</th>\n",
       "      <th>Unnamed: 43</th>\n",
       "      <th>Unnamed: 44</th>\n",
       "      <th>Unnamed: 45</th>\n",
       "      <th>Unnamed: 46</th>\n",
       "      <th>Unnamed: 47</th>\n",
       "      <th>Unnamed: 48</th>\n",
       "      <th>Unnamed: 49</th>\n",
       "      <th>Unnamed: 50</th>\n",
       "      <th>Unnamed: 51</th>\n",
       "    </tr>\n",
       "  </thead>\n",
       "  <tbody>\n",
       "    <tr>\n",
       "      <th>0</th>\n",
       "      <td>2018/9/15 10:00</td>\n",
       "      <td>70.0</td>\n",
       "      <td>70.0</td>\n",
       "      <td>72.0</td>\n",
       "      <td>64.0</td>\n",
       "      <td>72.0</td>\n",
       "      <td>70.0</td>\n",
       "      <td>70.0</td>\n",
       "      <td>70.0</td>\n",
       "      <td>70.0</td>\n",
       "      <td>...</td>\n",
       "      <td>NaN</td>\n",
       "      <td>NaN</td>\n",
       "      <td>NaN</td>\n",
       "      <td>NaN</td>\n",
       "      <td>NaN</td>\n",
       "      <td>NaN</td>\n",
       "      <td>NaN</td>\n",
       "      <td>NaN</td>\n",
       "      <td>NaN</td>\n",
       "      <td>NaN</td>\n",
       "    </tr>\n",
       "    <tr>\n",
       "      <th>1</th>\n",
       "      <td>2018/9/15 10:05</td>\n",
       "      <td>70.0</td>\n",
       "      <td>70.0</td>\n",
       "      <td>72.0</td>\n",
       "      <td>64.0</td>\n",
       "      <td>72.0</td>\n",
       "      <td>70.0</td>\n",
       "      <td>70.0</td>\n",
       "      <td>70.0</td>\n",
       "      <td>70.0</td>\n",
       "      <td>...</td>\n",
       "      <td>NaN</td>\n",
       "      <td>NaN</td>\n",
       "      <td>NaN</td>\n",
       "      <td>NaN</td>\n",
       "      <td>NaN</td>\n",
       "      <td>NaN</td>\n",
       "      <td>NaN</td>\n",
       "      <td>NaN</td>\n",
       "      <td>NaN</td>\n",
       "      <td>NaN</td>\n",
       "    </tr>\n",
       "    <tr>\n",
       "      <th>2</th>\n",
       "      <td>2018/9/15 10:10</td>\n",
       "      <td>70.0</td>\n",
       "      <td>70.0</td>\n",
       "      <td>72.0</td>\n",
       "      <td>64.0</td>\n",
       "      <td>72.0</td>\n",
       "      <td>70.0</td>\n",
       "      <td>70.0</td>\n",
       "      <td>70.0</td>\n",
       "      <td>70.0</td>\n",
       "      <td>...</td>\n",
       "      <td>NaN</td>\n",
       "      <td>NaN</td>\n",
       "      <td>NaN</td>\n",
       "      <td>NaN</td>\n",
       "      <td>NaN</td>\n",
       "      <td>NaN</td>\n",
       "      <td>NaN</td>\n",
       "      <td>NaN</td>\n",
       "      <td>NaN</td>\n",
       "      <td>NaN</td>\n",
       "    </tr>\n",
       "    <tr>\n",
       "      <th>3</th>\n",
       "      <td>2018/9/15 10:15</td>\n",
       "      <td>70.0</td>\n",
       "      <td>70.0</td>\n",
       "      <td>72.0</td>\n",
       "      <td>64.0</td>\n",
       "      <td>72.0</td>\n",
       "      <td>70.0</td>\n",
       "      <td>70.0</td>\n",
       "      <td>70.0</td>\n",
       "      <td>70.0</td>\n",
       "      <td>...</td>\n",
       "      <td>NaN</td>\n",
       "      <td>NaN</td>\n",
       "      <td>NaN</td>\n",
       "      <td>NaN</td>\n",
       "      <td>NaN</td>\n",
       "      <td>NaN</td>\n",
       "      <td>NaN</td>\n",
       "      <td>NaN</td>\n",
       "      <td>NaN</td>\n",
       "      <td>NaN</td>\n",
       "    </tr>\n",
       "    <tr>\n",
       "      <th>4</th>\n",
       "      <td>2018/9/15 10:20</td>\n",
       "      <td>70.0</td>\n",
       "      <td>70.0</td>\n",
       "      <td>72.0</td>\n",
       "      <td>64.0</td>\n",
       "      <td>72.0</td>\n",
       "      <td>70.0</td>\n",
       "      <td>70.0</td>\n",
       "      <td>70.0</td>\n",
       "      <td>70.0</td>\n",
       "      <td>...</td>\n",
       "      <td>NaN</td>\n",
       "      <td>NaN</td>\n",
       "      <td>NaN</td>\n",
       "      <td>NaN</td>\n",
       "      <td>NaN</td>\n",
       "      <td>NaN</td>\n",
       "      <td>NaN</td>\n",
       "      <td>NaN</td>\n",
       "      <td>NaN</td>\n",
       "      <td>NaN</td>\n",
       "    </tr>\n",
       "  </tbody>\n",
       "</table>\n",
       "<p>5 rows × 52 columns</p>\n",
       "</div>"
      ],
      "text/plain": [
       "              date  zone_016_heating_sp  zone_017_heating_sp  \\\n",
       "0  2018/9/15 10:00                 70.0                 70.0   \n",
       "1  2018/9/15 10:05                 70.0                 70.0   \n",
       "2  2018/9/15 10:10                 70.0                 70.0   \n",
       "3  2018/9/15 10:15                 70.0                 70.0   \n",
       "4  2018/9/15 10:20                 70.0                 70.0   \n",
       "\n",
       "   zone_018_heating_sp  zone_019_heating_sp  zone_021_heating_sp  \\\n",
       "0                 72.0                 64.0                 72.0   \n",
       "1                 72.0                 64.0                 72.0   \n",
       "2                 72.0                 64.0                 72.0   \n",
       "3                 72.0                 64.0                 72.0   \n",
       "4                 72.0                 64.0                 72.0   \n",
       "\n",
       "   zone_023_heating_sp  zone_024_heating_sp  zone_025_heating_sp  \\\n",
       "0                 70.0                 70.0                 70.0   \n",
       "1                 70.0                 70.0                 70.0   \n",
       "2                 70.0                 70.0                 70.0   \n",
       "3                 70.0                 70.0                 70.0   \n",
       "4                 70.0                 70.0                 70.0   \n",
       "\n",
       "   zone_026_heating_sp  ...  Unnamed: 42  Unnamed: 43  Unnamed: 44  \\\n",
       "0                 70.0  ...          NaN          NaN          NaN   \n",
       "1                 70.0  ...          NaN          NaN          NaN   \n",
       "2                 70.0  ...          NaN          NaN          NaN   \n",
       "3                 70.0  ...          NaN          NaN          NaN   \n",
       "4                 70.0  ...          NaN          NaN          NaN   \n",
       "\n",
       "   Unnamed: 45  Unnamed: 46  Unnamed: 47  Unnamed: 48  Unnamed: 49  \\\n",
       "0          NaN          NaN          NaN          NaN          NaN   \n",
       "1          NaN          NaN          NaN          NaN          NaN   \n",
       "2          NaN          NaN          NaN          NaN          NaN   \n",
       "3          NaN          NaN          NaN          NaN          NaN   \n",
       "4          NaN          NaN          NaN          NaN          NaN   \n",
       "\n",
       "   Unnamed: 50  Unnamed: 51  \n",
       "0          NaN          NaN  \n",
       "1          NaN          NaN  \n",
       "2          NaN          NaN  \n",
       "3          NaN          NaN  \n",
       "4          NaN          NaN  \n",
       "\n",
       "[5 rows x 52 columns]"
      ]
     },
     "execution_count": 12,
     "metadata": {},
     "output_type": "execute_result"
    }
   ],
   "source": [
    "in_heating_data.head()"
   ]
  },
  {
   "cell_type": "code",
   "execution_count": 13,
   "id": "3df9516a-c251-4703-bfd8-fd815e8fa278",
   "metadata": {},
   "outputs": [
    {
     "name": "stdout",
     "output_type": "stream",
     "text": [
      "<class 'pandas.core.frame.DataFrame'>\n",
      "RangeIndex: 237126 entries, 0 to 237125\n",
      "Data columns (total 52 columns):\n",
      " #   Column               Non-Null Count   Dtype  \n",
      "---  ------               --------------   -----  \n",
      " 0   date                 237126 non-null  object \n",
      " 1   zone_016_heating_sp  236626 non-null  float64\n",
      " 2   zone_017_heating_sp  236626 non-null  float64\n",
      " 3   zone_018_heating_sp  236626 non-null  float64\n",
      " 4   zone_019_heating_sp  235911 non-null  float64\n",
      " 5   zone_021_heating_sp  236704 non-null  float64\n",
      " 6   zone_023_heating_sp  236325 non-null  float64\n",
      " 7   zone_024_heating_sp  236256 non-null  float64\n",
      " 8   zone_025_heating_sp  236253 non-null  float64\n",
      " 9   zone_026_heating_sp  236658 non-null  float64\n",
      " 10  zone_027_heating_sp  236155 non-null  float64\n",
      " 11  zone_030_heating_sp  236183 non-null  float64\n",
      " 12  zone_032_heating_sp  235793 non-null  float64\n",
      " 13  zone_035_heating_sp  236693 non-null  float64\n",
      " 14  zone_036_heating_sp  236629 non-null  float64\n",
      " 15  zone_037_heating_sp  236628 non-null  float64\n",
      " 16  zone_038_heating_sp  236019 non-null  float64\n",
      " 17  zone_039_heating_sp  236019 non-null  float64\n",
      " 18  zone_041_heating_sp  237125 non-null  float64\n",
      " 19  zone_042_heating_sp  236625 non-null  float64\n",
      " 20  zone_043_heating_sp  236625 non-null  float64\n",
      " 21  zone_046_heating_sp  236601 non-null  float64\n",
      " 22  zone_047_heating_sp  236626 non-null  float64\n",
      " 23  zone_048_heating_sp  236626 non-null  float64\n",
      " 24  zone_049_heating_sp  235990 non-null  float64\n",
      " 25  zone_051_heating_sp  237125 non-null  float64\n",
      " 26  zone_053_heating_sp  236168 non-null  float64\n",
      " 27  zone_054_heating_sp  236622 non-null  float64\n",
      " 28  zone_055_heating_sp  235839 non-null  float64\n",
      " 29  zone_056_heating_sp  235841 non-null  float64\n",
      " 30  zone_057_heating_sp  235841 non-null  float64\n",
      " 31  zone_059_heating_sp  235835 non-null  float64\n",
      " 32  zone_061_heating_sp  235535 non-null  float64\n",
      " 33  zone_062_heating_sp  237126 non-null  float64\n",
      " 34  zone_063_heating_sp  236693 non-null  float64\n",
      " 35  zone_064_heating_sp  236629 non-null  float64\n",
      " 36  zone_065_heating_sp  236692 non-null  float64\n",
      " 37  zone_066_heating_sp  235910 non-null  float64\n",
      " 38  zone_067_heating_sp  235912 non-null  float64\n",
      " 39  zone_069_heating_sp  236269 non-null  float64\n",
      " 40  zone_070_heating_sp  184552 non-null  float64\n",
      " 41  zone_071_heating_sp  235914 non-null  float64\n",
      " 42  Unnamed: 42          105408 non-null  float64\n",
      " 43  Unnamed: 43          105408 non-null  float64\n",
      " 44  Unnamed: 44          105408 non-null  float64\n",
      " 45  Unnamed: 45          105408 non-null  float64\n",
      " 46  Unnamed: 46          105408 non-null  float64\n",
      " 47  Unnamed: 47          105408 non-null  float64\n",
      " 48  Unnamed: 48          105408 non-null  float64\n",
      " 49  Unnamed: 49          105408 non-null  float64\n",
      " 50  Unnamed: 50          105408 non-null  float64\n",
      " 51  Unnamed: 51          105408 non-null  float64\n",
      "dtypes: float64(51), object(1)\n",
      "memory usage: 94.1+ MB\n"
     ]
    }
   ],
   "source": [
    "in_heating_data.info()"
   ]
  },
  {
   "cell_type": "code",
   "execution_count": 14,
   "id": "8d3cd38c-0728-44e8-831b-4e6c6bb4ef1f",
   "metadata": {},
   "outputs": [
    {
     "data": {
      "text/html": [
       "<div>\n",
       "<style scoped>\n",
       "    .dataframe tbody tr th:only-of-type {\n",
       "        vertical-align: middle;\n",
       "    }\n",
       "\n",
       "    .dataframe tbody tr th {\n",
       "        vertical-align: top;\n",
       "    }\n",
       "\n",
       "    .dataframe thead th {\n",
       "        text-align: right;\n",
       "    }\n",
       "</style>\n",
       "<table border=\"1\" class=\"dataframe\">\n",
       "  <thead>\n",
       "    <tr style=\"text-align: right;\">\n",
       "      <th></th>\n",
       "      <th>date</th>\n",
       "      <th>cerc_templogger_1</th>\n",
       "      <th>cerc_templogger_10</th>\n",
       "      <th>cerc_templogger_11</th>\n",
       "      <th>cerc_templogger_12</th>\n",
       "      <th>cerc_templogger_13</th>\n",
       "      <th>cerc_templogger_14</th>\n",
       "      <th>cerc_templogger_15</th>\n",
       "      <th>cerc_templogger_16</th>\n",
       "      <th>cerc_templogger_2</th>\n",
       "      <th>cerc_templogger_3</th>\n",
       "      <th>cerc_templogger_4</th>\n",
       "      <th>cerc_templogger_5</th>\n",
       "      <th>cerc_templogger_6</th>\n",
       "      <th>cerc_templogger_7</th>\n",
       "      <th>cerc_templogger_8</th>\n",
       "      <th>cerc_templogger_9</th>\n",
       "    </tr>\n",
       "  </thead>\n",
       "  <tbody>\n",
       "    <tr>\n",
       "      <th>0</th>\n",
       "      <td>2018-02-22 00:30:00</td>\n",
       "      <td>22.875</td>\n",
       "      <td>22.062</td>\n",
       "      <td>23.312</td>\n",
       "      <td>21.250</td>\n",
       "      <td>21.812</td>\n",
       "      <td>22.687</td>\n",
       "      <td>23.500</td>\n",
       "      <td>22.062</td>\n",
       "      <td>23.375</td>\n",
       "      <td>24.062</td>\n",
       "      <td>23.500</td>\n",
       "      <td>23.125</td>\n",
       "      <td>23.562</td>\n",
       "      <td>22.312</td>\n",
       "      <td>22.375</td>\n",
       "      <td>22.625</td>\n",
       "    </tr>\n",
       "    <tr>\n",
       "      <th>1</th>\n",
       "      <td>2018-02-22 00:40:00</td>\n",
       "      <td>22.937</td>\n",
       "      <td>22.750</td>\n",
       "      <td>23.375</td>\n",
       "      <td>21.937</td>\n",
       "      <td>21.812</td>\n",
       "      <td>22.687</td>\n",
       "      <td>23.500</td>\n",
       "      <td>21.937</td>\n",
       "      <td>23.125</td>\n",
       "      <td>24.000</td>\n",
       "      <td>23.562</td>\n",
       "      <td>22.875</td>\n",
       "      <td>23.750</td>\n",
       "      <td>22.500</td>\n",
       "      <td>22.500</td>\n",
       "      <td>22.687</td>\n",
       "    </tr>\n",
       "    <tr>\n",
       "      <th>2</th>\n",
       "      <td>2018-02-22 00:50:00</td>\n",
       "      <td>22.937</td>\n",
       "      <td>22.875</td>\n",
       "      <td>23.312</td>\n",
       "      <td>22.312</td>\n",
       "      <td>21.875</td>\n",
       "      <td>22.812</td>\n",
       "      <td>23.562</td>\n",
       "      <td>21.937</td>\n",
       "      <td>23.125</td>\n",
       "      <td>24.250</td>\n",
       "      <td>23.500</td>\n",
       "      <td>23.000</td>\n",
       "      <td>23.625</td>\n",
       "      <td>22.375</td>\n",
       "      <td>22.500</td>\n",
       "      <td>22.687</td>\n",
       "    </tr>\n",
       "    <tr>\n",
       "      <th>3</th>\n",
       "      <td>2018-02-22 01:00:00</td>\n",
       "      <td>22.937</td>\n",
       "      <td>23.000</td>\n",
       "      <td>23.375</td>\n",
       "      <td>22.375</td>\n",
       "      <td>21.812</td>\n",
       "      <td>22.812</td>\n",
       "      <td>23.125</td>\n",
       "      <td>21.750</td>\n",
       "      <td>23.375</td>\n",
       "      <td>24.187</td>\n",
       "      <td>23.500</td>\n",
       "      <td>23.062</td>\n",
       "      <td>24.000</td>\n",
       "      <td>22.437</td>\n",
       "      <td>22.375</td>\n",
       "      <td>22.875</td>\n",
       "    </tr>\n",
       "    <tr>\n",
       "      <th>4</th>\n",
       "      <td>2018-02-22 01:10:00</td>\n",
       "      <td>23.000</td>\n",
       "      <td>23.000</td>\n",
       "      <td>23.312</td>\n",
       "      <td>22.437</td>\n",
       "      <td>21.812</td>\n",
       "      <td>22.937</td>\n",
       "      <td>23.187</td>\n",
       "      <td>21.937</td>\n",
       "      <td>23.875</td>\n",
       "      <td>24.187</td>\n",
       "      <td>23.500</td>\n",
       "      <td>23.125</td>\n",
       "      <td>24.062</td>\n",
       "      <td>22.437</td>\n",
       "      <td>22.687</td>\n",
       "      <td>22.875</td>\n",
       "    </tr>\n",
       "  </tbody>\n",
       "</table>\n",
       "</div>"
      ],
      "text/plain": [
       "                  date  cerc_templogger_1  cerc_templogger_10  \\\n",
       "0  2018-02-22 00:30:00             22.875              22.062   \n",
       "1  2018-02-22 00:40:00             22.937              22.750   \n",
       "2  2018-02-22 00:50:00             22.937              22.875   \n",
       "3  2018-02-22 01:00:00             22.937              23.000   \n",
       "4  2018-02-22 01:10:00             23.000              23.000   \n",
       "\n",
       "   cerc_templogger_11  cerc_templogger_12  cerc_templogger_13  \\\n",
       "0              23.312              21.250              21.812   \n",
       "1              23.375              21.937              21.812   \n",
       "2              23.312              22.312              21.875   \n",
       "3              23.375              22.375              21.812   \n",
       "4              23.312              22.437              21.812   \n",
       "\n",
       "   cerc_templogger_14  cerc_templogger_15  cerc_templogger_16  \\\n",
       "0              22.687              23.500              22.062   \n",
       "1              22.687              23.500              21.937   \n",
       "2              22.812              23.562              21.937   \n",
       "3              22.812              23.125              21.750   \n",
       "4              22.937              23.187              21.937   \n",
       "\n",
       "   cerc_templogger_2  cerc_templogger_3  cerc_templogger_4  cerc_templogger_5  \\\n",
       "0             23.375             24.062             23.500             23.125   \n",
       "1             23.125             24.000             23.562             22.875   \n",
       "2             23.125             24.250             23.500             23.000   \n",
       "3             23.375             24.187             23.500             23.062   \n",
       "4             23.875             24.187             23.500             23.125   \n",
       "\n",
       "   cerc_templogger_6  cerc_templogger_7  cerc_templogger_8  cerc_templogger_9  \n",
       "0             23.562             22.312             22.375             22.625  \n",
       "1             23.750             22.500             22.500             22.687  \n",
       "2             23.625             22.375             22.500             22.687  \n",
       "3             24.000             22.437             22.375             22.875  \n",
       "4             24.062             22.437             22.687             22.875  "
      ]
     },
     "execution_count": 14,
     "metadata": {},
     "output_type": "execute_result"
    }
   ],
   "source": [
    "zone_temp_interior.head()"
   ]
  },
  {
   "cell_type": "code",
   "execution_count": 15,
   "id": "350fb641-79ba-4751-a3b2-7f98aa80721d",
   "metadata": {},
   "outputs": [
    {
     "data": {
      "text/html": [
       "<div>\n",
       "<style scoped>\n",
       "    .dataframe tbody tr th:only-of-type {\n",
       "        vertical-align: middle;\n",
       "    }\n",
       "\n",
       "    .dataframe tbody tr th {\n",
       "        vertical-align: top;\n",
       "    }\n",
       "\n",
       "    .dataframe thead th {\n",
       "        text-align: right;\n",
       "    }\n",
       "</style>\n",
       "<table border=\"1\" class=\"dataframe\">\n",
       "  <thead>\n",
       "    <tr style=\"text-align: right;\">\n",
       "      <th></th>\n",
       "      <th>date</th>\n",
       "      <th>zone_016_temp</th>\n",
       "      <th>zone_017_temp</th>\n",
       "      <th>zone_018_temp</th>\n",
       "      <th>zone_019_temp</th>\n",
       "      <th>zone_021_temp</th>\n",
       "      <th>zone_022_temp</th>\n",
       "      <th>zone_023_temp</th>\n",
       "      <th>zone_024_temp</th>\n",
       "      <th>zone_025_temp</th>\n",
       "      <th>...</th>\n",
       "      <th>zone_063_temp</th>\n",
       "      <th>zone_064_temp</th>\n",
       "      <th>zone_065_temp</th>\n",
       "      <th>zone_066_temp</th>\n",
       "      <th>zone_067_temp</th>\n",
       "      <th>zone_068_temp</th>\n",
       "      <th>zone_069_temp</th>\n",
       "      <th>zone_070_temp</th>\n",
       "      <th>zone_071_temp</th>\n",
       "      <th>zone_072_temp</th>\n",
       "    </tr>\n",
       "  </thead>\n",
       "  <tbody>\n",
       "    <tr>\n",
       "      <th>0</th>\n",
       "      <td>2018-01-01 00:00:00</td>\n",
       "      <td>67.9</td>\n",
       "      <td>66.7</td>\n",
       "      <td>66.4</td>\n",
       "      <td>69.6</td>\n",
       "      <td>65.2</td>\n",
       "      <td>67.4</td>\n",
       "      <td>66.4</td>\n",
       "      <td>67.5</td>\n",
       "      <td>66.5</td>\n",
       "      <td>...</td>\n",
       "      <td>71.0</td>\n",
       "      <td>71.2</td>\n",
       "      <td>69.3</td>\n",
       "      <td>69.9</td>\n",
       "      <td>70.3</td>\n",
       "      <td>71.7</td>\n",
       "      <td>70.7</td>\n",
       "      <td>69.8</td>\n",
       "      <td>70.0</td>\n",
       "      <td>71.0</td>\n",
       "    </tr>\n",
       "    <tr>\n",
       "      <th>1</th>\n",
       "      <td>2018-01-01 00:01:00</td>\n",
       "      <td>67.9</td>\n",
       "      <td>66.7</td>\n",
       "      <td>66.4</td>\n",
       "      <td>69.6</td>\n",
       "      <td>65.2</td>\n",
       "      <td>67.4</td>\n",
       "      <td>66.4</td>\n",
       "      <td>67.5</td>\n",
       "      <td>66.5</td>\n",
       "      <td>...</td>\n",
       "      <td>71.0</td>\n",
       "      <td>71.2</td>\n",
       "      <td>69.3</td>\n",
       "      <td>69.9</td>\n",
       "      <td>70.3</td>\n",
       "      <td>71.7</td>\n",
       "      <td>70.7</td>\n",
       "      <td>69.8</td>\n",
       "      <td>70.0</td>\n",
       "      <td>71.0</td>\n",
       "    </tr>\n",
       "    <tr>\n",
       "      <th>2</th>\n",
       "      <td>2018-01-01 00:02:00</td>\n",
       "      <td>67.9</td>\n",
       "      <td>66.7</td>\n",
       "      <td>66.4</td>\n",
       "      <td>69.6</td>\n",
       "      <td>65.2</td>\n",
       "      <td>67.4</td>\n",
       "      <td>66.4</td>\n",
       "      <td>67.5</td>\n",
       "      <td>66.5</td>\n",
       "      <td>...</td>\n",
       "      <td>71.0</td>\n",
       "      <td>71.2</td>\n",
       "      <td>69.3</td>\n",
       "      <td>69.9</td>\n",
       "      <td>70.3</td>\n",
       "      <td>71.7</td>\n",
       "      <td>70.7</td>\n",
       "      <td>69.8</td>\n",
       "      <td>70.0</td>\n",
       "      <td>71.0</td>\n",
       "    </tr>\n",
       "    <tr>\n",
       "      <th>3</th>\n",
       "      <td>2018-01-01 00:03:00</td>\n",
       "      <td>67.9</td>\n",
       "      <td>66.7</td>\n",
       "      <td>66.4</td>\n",
       "      <td>69.6</td>\n",
       "      <td>65.2</td>\n",
       "      <td>67.4</td>\n",
       "      <td>66.4</td>\n",
       "      <td>67.5</td>\n",
       "      <td>66.5</td>\n",
       "      <td>...</td>\n",
       "      <td>71.0</td>\n",
       "      <td>71.2</td>\n",
       "      <td>69.3</td>\n",
       "      <td>69.9</td>\n",
       "      <td>70.3</td>\n",
       "      <td>71.7</td>\n",
       "      <td>70.6</td>\n",
       "      <td>69.8</td>\n",
       "      <td>70.0</td>\n",
       "      <td>71.0</td>\n",
       "    </tr>\n",
       "    <tr>\n",
       "      <th>4</th>\n",
       "      <td>2018-01-01 00:04:00</td>\n",
       "      <td>67.9</td>\n",
       "      <td>66.7</td>\n",
       "      <td>66.4</td>\n",
       "      <td>69.6</td>\n",
       "      <td>65.2</td>\n",
       "      <td>67.4</td>\n",
       "      <td>66.4</td>\n",
       "      <td>67.5</td>\n",
       "      <td>66.5</td>\n",
       "      <td>...</td>\n",
       "      <td>71.0</td>\n",
       "      <td>71.2</td>\n",
       "      <td>69.3</td>\n",
       "      <td>69.9</td>\n",
       "      <td>70.3</td>\n",
       "      <td>71.7</td>\n",
       "      <td>70.6</td>\n",
       "      <td>69.8</td>\n",
       "      <td>70.0</td>\n",
       "      <td>71.0</td>\n",
       "    </tr>\n",
       "  </tbody>\n",
       "</table>\n",
       "<p>5 rows × 52 columns</p>\n",
       "</div>"
      ],
      "text/plain": [
       "                  date  zone_016_temp  zone_017_temp  zone_018_temp  \\\n",
       "0  2018-01-01 00:00:00           67.9           66.7           66.4   \n",
       "1  2018-01-01 00:01:00           67.9           66.7           66.4   \n",
       "2  2018-01-01 00:02:00           67.9           66.7           66.4   \n",
       "3  2018-01-01 00:03:00           67.9           66.7           66.4   \n",
       "4  2018-01-01 00:04:00           67.9           66.7           66.4   \n",
       "\n",
       "   zone_019_temp  zone_021_temp  zone_022_temp  zone_023_temp  zone_024_temp  \\\n",
       "0           69.6           65.2           67.4           66.4           67.5   \n",
       "1           69.6           65.2           67.4           66.4           67.5   \n",
       "2           69.6           65.2           67.4           66.4           67.5   \n",
       "3           69.6           65.2           67.4           66.4           67.5   \n",
       "4           69.6           65.2           67.4           66.4           67.5   \n",
       "\n",
       "   zone_025_temp  ...  zone_063_temp  zone_064_temp  zone_065_temp  \\\n",
       "0           66.5  ...           71.0           71.2           69.3   \n",
       "1           66.5  ...           71.0           71.2           69.3   \n",
       "2           66.5  ...           71.0           71.2           69.3   \n",
       "3           66.5  ...           71.0           71.2           69.3   \n",
       "4           66.5  ...           71.0           71.2           69.3   \n",
       "\n",
       "   zone_066_temp  zone_067_temp  zone_068_temp  zone_069_temp  zone_070_temp  \\\n",
       "0           69.9           70.3           71.7           70.7           69.8   \n",
       "1           69.9           70.3           71.7           70.7           69.8   \n",
       "2           69.9           70.3           71.7           70.7           69.8   \n",
       "3           69.9           70.3           71.7           70.6           69.8   \n",
       "4           69.9           70.3           71.7           70.6           69.8   \n",
       "\n",
       "   zone_071_temp  zone_072_temp  \n",
       "0           70.0           71.0  \n",
       "1           70.0           71.0  \n",
       "2           70.0           71.0  \n",
       "3           70.0           71.0  \n",
       "4           70.0           71.0  \n",
       "\n",
       "[5 rows x 52 columns]"
      ]
     },
     "execution_count": 15,
     "metadata": {},
     "output_type": "execute_result"
    }
   ],
   "source": [
    "zone_temp_exterior.head()"
   ]
  },
  {
   "cell_type": "code",
   "execution_count": 16,
   "id": "c738b5a4-f4fa-469c-97c6-cd38496e84d9",
   "metadata": {},
   "outputs": [
    {
     "data": {
      "text/html": [
       "<div>\n",
       "<style scoped>\n",
       "    .dataframe tbody tr th:only-of-type {\n",
       "        vertical-align: middle;\n",
       "    }\n",
       "\n",
       "    .dataframe tbody tr th {\n",
       "        vertical-align: top;\n",
       "    }\n",
       "\n",
       "    .dataframe thead th {\n",
       "        text-align: right;\n",
       "    }\n",
       "</style>\n",
       "<table border=\"1\" class=\"dataframe\">\n",
       "  <thead>\n",
       "    <tr style=\"text-align: right;\">\n",
       "      <th></th>\n",
       "      <th>date</th>\n",
       "      <th>zone_022_co2</th>\n",
       "      <th>zone_028_co2</th>\n",
       "      <th>zone_033_co2</th>\n",
       "      <th>zone_040_co2</th>\n",
       "      <th>zone_044_co2</th>\n",
       "      <th>zone_045_co2</th>\n",
       "      <th>zone_052_co2</th>\n",
       "      <th>zone_058_co2</th>\n",
       "      <th>zone_062_co2</th>\n",
       "      <th>zone_068_co2</th>\n",
       "      <th>zone_072_co2</th>\n",
       "    </tr>\n",
       "  </thead>\n",
       "  <tbody>\n",
       "    <tr>\n",
       "      <th>0</th>\n",
       "      <td>2019/8/19 01:33</td>\n",
       "      <td>410.0</td>\n",
       "      <td>416.0</td>\n",
       "      <td>428.0</td>\n",
       "      <td>410.0</td>\n",
       "      <td>397.0</td>\n",
       "      <td>423.0</td>\n",
       "      <td>415.0</td>\n",
       "      <td>405.0</td>\n",
       "      <td>415.0</td>\n",
       "      <td>419.0</td>\n",
       "      <td>408.0</td>\n",
       "    </tr>\n",
       "    <tr>\n",
       "      <th>1</th>\n",
       "      <td>2019/8/19 01:34</td>\n",
       "      <td>410.0</td>\n",
       "      <td>418.0</td>\n",
       "      <td>421.0</td>\n",
       "      <td>411.0</td>\n",
       "      <td>406.0</td>\n",
       "      <td>420.0</td>\n",
       "      <td>408.0</td>\n",
       "      <td>405.0</td>\n",
       "      <td>417.0</td>\n",
       "      <td>412.0</td>\n",
       "      <td>412.0</td>\n",
       "    </tr>\n",
       "    <tr>\n",
       "      <th>2</th>\n",
       "      <td>2019/8/19 01:35</td>\n",
       "      <td>408.0</td>\n",
       "      <td>429.0</td>\n",
       "      <td>424.0</td>\n",
       "      <td>418.0</td>\n",
       "      <td>409.0</td>\n",
       "      <td>424.0</td>\n",
       "      <td>431.0</td>\n",
       "      <td>414.0</td>\n",
       "      <td>415.0</td>\n",
       "      <td>410.0</td>\n",
       "      <td>416.0</td>\n",
       "    </tr>\n",
       "    <tr>\n",
       "      <th>3</th>\n",
       "      <td>2019/8/19 01:36</td>\n",
       "      <td>413.0</td>\n",
       "      <td>414.0</td>\n",
       "      <td>426.0</td>\n",
       "      <td>416.0</td>\n",
       "      <td>407.0</td>\n",
       "      <td>418.0</td>\n",
       "      <td>436.0</td>\n",
       "      <td>414.0</td>\n",
       "      <td>423.0</td>\n",
       "      <td>409.0</td>\n",
       "      <td>417.0</td>\n",
       "    </tr>\n",
       "    <tr>\n",
       "      <th>4</th>\n",
       "      <td>2019/8/19 01:37</td>\n",
       "      <td>418.0</td>\n",
       "      <td>404.0</td>\n",
       "      <td>437.0</td>\n",
       "      <td>407.0</td>\n",
       "      <td>412.0</td>\n",
       "      <td>416.0</td>\n",
       "      <td>424.0</td>\n",
       "      <td>409.0</td>\n",
       "      <td>419.0</td>\n",
       "      <td>410.0</td>\n",
       "      <td>408.0</td>\n",
       "    </tr>\n",
       "  </tbody>\n",
       "</table>\n",
       "</div>"
      ],
      "text/plain": [
       "              date  zone_022_co2  zone_028_co2  zone_033_co2  zone_040_co2  \\\n",
       "0  2019/8/19 01:33         410.0         416.0         428.0         410.0   \n",
       "1  2019/8/19 01:34         410.0         418.0         421.0         411.0   \n",
       "2  2019/8/19 01:35         408.0         429.0         424.0         418.0   \n",
       "3  2019/8/19 01:36         413.0         414.0         426.0         416.0   \n",
       "4  2019/8/19 01:37         418.0         404.0         437.0         407.0   \n",
       "\n",
       "   zone_044_co2  zone_045_co2  zone_052_co2  zone_058_co2  zone_062_co2  \\\n",
       "0         397.0         423.0         415.0         405.0         415.0   \n",
       "1         406.0         420.0         408.0         405.0         417.0   \n",
       "2         409.0         424.0         431.0         414.0         415.0   \n",
       "3         407.0         418.0         436.0         414.0         423.0   \n",
       "4         412.0         416.0         424.0         409.0         419.0   \n",
       "\n",
       "   zone_068_co2  zone_072_co2  \n",
       "0         419.0         408.0  \n",
       "1         412.0         412.0  \n",
       "2         410.0         416.0  \n",
       "3         409.0         417.0  \n",
       "4         410.0         408.0  "
      ]
     },
     "execution_count": 16,
     "metadata": {},
     "output_type": "execute_result"
    }
   ],
   "source": [
    "co2_conc.head()"
   ]
  },
  {
   "cell_type": "code",
   "execution_count": 17,
   "id": "d610ccc8-d8cd-4d0b-a1ad-979ea1b76a71",
   "metadata": {},
   "outputs": [
    {
     "data": {
      "text/html": [
       "<div>\n",
       "<style scoped>\n",
       "    .dataframe tbody tr th:only-of-type {\n",
       "        vertical-align: middle;\n",
       "    }\n",
       "\n",
       "    .dataframe tbody tr th {\n",
       "        vertical-align: top;\n",
       "    }\n",
       "\n",
       "    .dataframe thead th {\n",
       "        text-align: right;\n",
       "    }\n",
       "</style>\n",
       "<table border=\"1\" class=\"dataframe\">\n",
       "  <thead>\n",
       "    <tr style=\"text-align: right;\">\n",
       "      <th></th>\n",
       "      <th>date</th>\n",
       "      <th>occ_third_south</th>\n",
       "      <th>occ_fourth_south</th>\n",
       "    </tr>\n",
       "  </thead>\n",
       "  <tbody>\n",
       "    <tr>\n",
       "      <th>0</th>\n",
       "      <td>2018-05-22 07:00:00</td>\n",
       "      <td>0.0</td>\n",
       "      <td>0.0</td>\n",
       "    </tr>\n",
       "    <tr>\n",
       "      <th>1</th>\n",
       "      <td>2018-05-22 07:01:00</td>\n",
       "      <td>0.0</td>\n",
       "      <td>1.0</td>\n",
       "    </tr>\n",
       "    <tr>\n",
       "      <th>2</th>\n",
       "      <td>2018-05-22 07:02:00</td>\n",
       "      <td>0.0</td>\n",
       "      <td>0.0</td>\n",
       "    </tr>\n",
       "    <tr>\n",
       "      <th>3</th>\n",
       "      <td>2018-05-22 07:03:00</td>\n",
       "      <td>0.0</td>\n",
       "      <td>1.0</td>\n",
       "    </tr>\n",
       "    <tr>\n",
       "      <th>4</th>\n",
       "      <td>2018-05-22 07:04:00</td>\n",
       "      <td>0.0</td>\n",
       "      <td>0.0</td>\n",
       "    </tr>\n",
       "  </tbody>\n",
       "</table>\n",
       "</div>"
      ],
      "text/plain": [
       "                  date  occ_third_south  occ_fourth_south\n",
       "0  2018-05-22 07:00:00              0.0               0.0\n",
       "1  2018-05-22 07:01:00              0.0               1.0\n",
       "2  2018-05-22 07:02:00              0.0               0.0\n",
       "3  2018-05-22 07:03:00              0.0               1.0\n",
       "4  2018-05-22 07:04:00              0.0               0.0"
      ]
     },
     "execution_count": 17,
     "metadata": {},
     "output_type": "execute_result"
    }
   ],
   "source": [
    "occupant.head()"
   ]
  },
  {
   "cell_type": "code",
   "execution_count": 18,
   "id": "378adca1-3f62-46ca-b883-fabcd839cbda",
   "metadata": {},
   "outputs": [
    {
     "data": {
      "text/html": [
       "<div>\n",
       "<style scoped>\n",
       "    .dataframe tbody tr th:only-of-type {\n",
       "        vertical-align: middle;\n",
       "    }\n",
       "\n",
       "    .dataframe tbody tr th {\n",
       "        vertical-align: top;\n",
       "    }\n",
       "\n",
       "    .dataframe thead th {\n",
       "        text-align: right;\n",
       "    }\n",
       "</style>\n",
       "<table border=\"1\" class=\"dataframe\">\n",
       "  <thead>\n",
       "    <tr style=\"text-align: right;\">\n",
       "      <th></th>\n",
       "      <th>date</th>\n",
       "      <th>wifi_first_south</th>\n",
       "      <th>wifi_second_south</th>\n",
       "      <th>wifi_third_south</th>\n",
       "      <th>wifi_fourth_south</th>\n",
       "    </tr>\n",
       "  </thead>\n",
       "  <tbody>\n",
       "    <tr>\n",
       "      <th>0</th>\n",
       "      <td>2018/5/22 00:00</td>\n",
       "      <td>NaN</td>\n",
       "      <td>NaN</td>\n",
       "      <td>38.0</td>\n",
       "      <td>26.0</td>\n",
       "    </tr>\n",
       "    <tr>\n",
       "      <th>1</th>\n",
       "      <td>2018/5/22 00:10</td>\n",
       "      <td>NaN</td>\n",
       "      <td>NaN</td>\n",
       "      <td>37.0</td>\n",
       "      <td>26.0</td>\n",
       "    </tr>\n",
       "    <tr>\n",
       "      <th>2</th>\n",
       "      <td>2018/5/22 00:20</td>\n",
       "      <td>NaN</td>\n",
       "      <td>NaN</td>\n",
       "      <td>37.0</td>\n",
       "      <td>28.0</td>\n",
       "    </tr>\n",
       "    <tr>\n",
       "      <th>3</th>\n",
       "      <td>2018/5/22 00:30</td>\n",
       "      <td>NaN</td>\n",
       "      <td>NaN</td>\n",
       "      <td>36.0</td>\n",
       "      <td>27.0</td>\n",
       "    </tr>\n",
       "    <tr>\n",
       "      <th>4</th>\n",
       "      <td>2018/5/22 00:40</td>\n",
       "      <td>NaN</td>\n",
       "      <td>NaN</td>\n",
       "      <td>36.0</td>\n",
       "      <td>28.0</td>\n",
       "    </tr>\n",
       "  </tbody>\n",
       "</table>\n",
       "</div>"
      ],
      "text/plain": [
       "              date  wifi_first_south  wifi_second_south  wifi_third_south  \\\n",
       "0  2018/5/22 00:00               NaN                NaN              38.0   \n",
       "1  2018/5/22 00:10               NaN                NaN              37.0   \n",
       "2  2018/5/22 00:20               NaN                NaN              37.0   \n",
       "3  2018/5/22 00:30               NaN                NaN              36.0   \n",
       "4  2018/5/22 00:40               NaN                NaN              36.0   \n",
       "\n",
       "   wifi_fourth_south  \n",
       "0               26.0  \n",
       "1               26.0  \n",
       "2               28.0  \n",
       "3               27.0  \n",
       "4               28.0  "
      ]
     },
     "execution_count": 18,
     "metadata": {},
     "output_type": "execute_result"
    }
   ],
   "source": [
    "wifi_data.head()"
   ]
  },
  {
   "cell_type": "markdown",
   "id": "f44b92af-9d7f-4fc3-ac50-3ac498d34c3a",
   "metadata": {},
   "source": [
    "## File Pre-processing and Merging"
   ]
  },
  {
   "cell_type": "markdown",
   "id": "f1b73b77-322b-4fce-8e62-b3519b356d39",
   "metadata": {},
   "source": [
    "#### Changing Date Format for all input files into '%Y-%m-%d %H:%M:%S'"
   ]
  },
  {
   "cell_type": "code",
   "execution_count": 19,
   "id": "c2df10da-031a-4cba-87f2-d0d030d07690",
   "metadata": {},
   "outputs": [
    {
     "name": "stderr",
     "output_type": "stream",
     "text": [
      "C:\\Users\\tanmoy\\AppData\\Local\\Temp\\2\\ipykernel_12064\\108079657.py:1: SettingWithCopyWarning: \n",
      "A value is trying to be set on a copy of a slice from a DataFrame.\n",
      "Try using .loc[row_indexer,col_indexer] = value instead\n",
      "\n",
      "See the caveats in the documentation: https://pandas.pydata.org/pandas-docs/stable/user_guide/indexing.html#returning-a-view-versus-a-copy\n",
      "  energy_use_target['date'] = pd.to_datetime(energy_use_target['date'],format='%Y/%m/%d %H:%M')\n",
      "C:\\Users\\tanmoy\\AppData\\Local\\Temp\\2\\ipykernel_12064\\108079657.py:2: SettingWithCopyWarning: \n",
      "A value is trying to be set on a copy of a slice from a DataFrame.\n",
      "Try using .loc[row_indexer,col_indexer] = value instead\n",
      "\n",
      "See the caveats in the documentation: https://pandas.pydata.org/pandas-docs/stable/user_guide/indexing.html#returning-a-view-versus-a-copy\n",
      "  energy_use_target['date'] = pd.to_datetime(energy_use_target['date'].dt.strftime('%Y-%m-%d %H:%M:%S'))\n"
     ]
    }
   ],
   "source": [
    "energy_use_target['date'] = pd.to_datetime(energy_use_target['date'],format='%Y/%m/%d %H:%M')\n",
    "energy_use_target['date'] = pd.to_datetime(energy_use_target['date'].dt.strftime('%Y-%m-%d %H:%M:%S'))"
   ]
  },
  {
   "cell_type": "code",
   "execution_count": 20,
   "id": "a44e16c2-3b4d-4a5a-bcdb-e7ed31c9165f",
   "metadata": {},
   "outputs": [
    {
     "data": {
      "text/plain": [
       "0        2018-01-01 01:00:00\n",
       "1        2018-01-01 01:15:00\n",
       "2        2018-01-01 01:30:00\n",
       "3        2018-01-01 01:45:00\n",
       "4        2018-01-01 02:00:00\n",
       "                 ...        \n",
       "103043   2020-12-31 23:00:00\n",
       "103044   2020-12-31 23:15:00\n",
       "103045   2020-12-31 23:30:00\n",
       "103046   2020-12-31 23:45:00\n",
       "103047   2021-01-01 00:00:00\n",
       "Name: date, Length: 103048, dtype: datetime64[ns]"
      ]
     },
     "execution_count": 20,
     "metadata": {},
     "output_type": "execute_result"
    }
   ],
   "source": [
    "energy_use_target.date"
   ]
  },
  {
   "cell_type": "code",
   "execution_count": 21,
   "id": "f830bcda-dfb9-4d89-9972-204a18b75fd7",
   "metadata": {},
   "outputs": [],
   "source": [
    "in_cooling_data['date'] = pd.to_datetime(in_cooling_data['date'],format='%Y/%m/%d %H:%M')\n",
    "in_cooling_data['date'] = pd.to_datetime(in_cooling_data['date'].dt.strftime('%Y-%m-%d %H:%M:%S'))"
   ]
  },
  {
   "cell_type": "code",
   "execution_count": 22,
   "id": "f4e47220-7f63-4ff5-8e86-ca62c45ada3c",
   "metadata": {},
   "outputs": [],
   "source": [
    "\n",
    "in_heating_data['date'] = pd.to_datetime(in_heating_data['date'],format='%Y/%m/%d %H:%M')\n",
    "in_heating_data['date'] = pd.to_datetime(in_heating_data['date'].dt.strftime('%Y-%m-%d %H:%M:%S'))\n"
   ]
  },
  {
   "cell_type": "code",
   "execution_count": 23,
   "id": "72ff52f0-31cd-45b8-bdef-3686e7909793",
   "metadata": {},
   "outputs": [],
   "source": [
    "co2_conc['date'] = pd.to_datetime(co2_conc['date'],format='%Y/%m/%d %H:%M')\n",
    "co2_conc['date'] = pd.to_datetime(co2_conc['date'].dt.strftime('%Y-%m-%d %H:%M:%S'))"
   ]
  },
  {
   "cell_type": "code",
   "execution_count": 24,
   "id": "4635fa3f-f0f6-4a50-ae88-8d7b78e5ca66",
   "metadata": {},
   "outputs": [],
   "source": [
    "\n",
    "wifi_data['date'] = pd.to_datetime(wifi_data['date'],format='%Y/%m/%d %H:%M')\n",
    "wifi_data['date'] = pd.to_datetime(wifi_data['date'].dt.strftime('%Y-%m-%d %H:%M:%S'))"
   ]
  },
  {
   "cell_type": "code",
   "execution_count": 25,
   "id": "ae8efd68-0277-4c3b-97bd-5af98db864fc",
   "metadata": {},
   "outputs": [],
   "source": [
    "##Converting all date columns into date formatted type\n",
    "out_env_data['date'] = pd.to_datetime(out_env_data['date'],format='%Y-%m-%d %H:%M:%S')\n",
    "zone_temp_interior['date'] = pd.to_datetime(zone_temp_interior['date'],format='%Y-%m-%d %H:%M:%S')\n",
    "zone_temp_exterior['date'] = pd.to_datetime(zone_temp_exterior['date'],format='%Y-%m-%d %H:%M:%S')\n",
    "occupant['date'] = pd.to_datetime(occupant['date'],format='%Y-%m-%d %H:%M:%S')\n"
   ]
  },
  {
   "cell_type": "code",
   "execution_count": 26,
   "id": "e36e59fb-acc9-4f8d-935f-404207091b63",
   "metadata": {},
   "outputs": [],
   "source": [
    "def change_dateformat(dataframe,col):\n",
    "    dataframe[col]=pd.to_datetime(dataframe[col],format=='%Y/%m/%d %H:%M')\n",
    "    dataframe[col]=dataframe[col].dt.strftime('%Y-%m-%d %H:%M:%S')\n",
    "    return dataframe"
   ]
  },
  {
   "cell_type": "markdown",
   "id": "977cec4f-424a-41a3-b070-f15669a9c708",
   "metadata": {},
   "source": [
    "#### Processing of in_cooling_data file and in_heating_data file"
   ]
  },
  {
   "cell_type": "markdown",
   "id": "080a26d4-9800-4231-a57e-a8fd53db6868",
   "metadata": {},
   "source": [
    "Both in_cooling_data and in_heating_data files have few unnamed fields with all NAN values. We will removed them for processing"
   ]
  },
  {
   "cell_type": "code",
   "execution_count": 27,
   "id": "e5650da2-8ef2-4fac-b5e4-726b57eb4d62",
   "metadata": {},
   "outputs": [],
   "source": [
    "in_cooling_data.drop(columns=['Unnamed: 42','Unnamed: 43','Unnamed: 44','Unnamed: 45',\n",
    "                            'Unnamed: 46',\n",
    "                            'Unnamed: 47', \n",
    "                            'Unnamed: 48',\n",
    "                            'Unnamed: 49',\n",
    "                            'Unnamed: 50',\n",
    "                            'Unnamed: 51'],inplace=True)"
   ]
  },
  {
   "cell_type": "code",
   "execution_count": 28,
   "id": "aaee1469-0824-43d7-a96f-0115286032a4",
   "metadata": {},
   "outputs": [],
   "source": [
    "in_heating_data.drop(columns=['Unnamed: 42','Unnamed: 43','Unnamed: 44','Unnamed: 45',\n",
    "                            'Unnamed: 46',\n",
    "                            'Unnamed: 47', \n",
    "                            'Unnamed: 48',\n",
    "                            'Unnamed: 49',\n",
    "                            'Unnamed: 50',\n",
    "                            'Unnamed: 51'],inplace=True)"
   ]
  },
  {
   "cell_type": "code",
   "execution_count": 29,
   "id": "9e1b8501-342e-4e40-987e-9c59cace8ece",
   "metadata": {},
   "outputs": [
    {
     "data": {
      "text/html": [
       "<div>\n",
       "<style scoped>\n",
       "    .dataframe tbody tr th:only-of-type {\n",
       "        vertical-align: middle;\n",
       "    }\n",
       "\n",
       "    .dataframe tbody tr th {\n",
       "        vertical-align: top;\n",
       "    }\n",
       "\n",
       "    .dataframe thead th {\n",
       "        text-align: right;\n",
       "    }\n",
       "</style>\n",
       "<table border=\"1\" class=\"dataframe\">\n",
       "  <thead>\n",
       "    <tr style=\"text-align: right;\">\n",
       "      <th></th>\n",
       "      <th>date</th>\n",
       "      <th>zone_016_heating_sp</th>\n",
       "      <th>zone_017_heating_sp</th>\n",
       "      <th>zone_018_heating_sp</th>\n",
       "      <th>zone_019_heating_sp</th>\n",
       "      <th>zone_021_heating_sp</th>\n",
       "      <th>zone_023_heating_sp</th>\n",
       "      <th>zone_024_heating_sp</th>\n",
       "      <th>zone_025_heating_sp</th>\n",
       "      <th>zone_026_heating_sp</th>\n",
       "      <th>...</th>\n",
       "      <th>zone_061_heating_sp</th>\n",
       "      <th>zone_062_heating_sp</th>\n",
       "      <th>zone_063_heating_sp</th>\n",
       "      <th>zone_064_heating_sp</th>\n",
       "      <th>zone_065_heating_sp</th>\n",
       "      <th>zone_066_heating_sp</th>\n",
       "      <th>zone_067_heating_sp</th>\n",
       "      <th>zone_069_heating_sp</th>\n",
       "      <th>zone_070_heating_sp</th>\n",
       "      <th>zone_071_heating_sp</th>\n",
       "    </tr>\n",
       "  </thead>\n",
       "  <tbody>\n",
       "    <tr>\n",
       "      <th>0</th>\n",
       "      <td>2018-09-15 10:00:00</td>\n",
       "      <td>70.0</td>\n",
       "      <td>70.0</td>\n",
       "      <td>72.0</td>\n",
       "      <td>64.0</td>\n",
       "      <td>72.0</td>\n",
       "      <td>70.0</td>\n",
       "      <td>70.0</td>\n",
       "      <td>70.0</td>\n",
       "      <td>70.0</td>\n",
       "      <td>...</td>\n",
       "      <td>64.0</td>\n",
       "      <td>64.0</td>\n",
       "      <td>72.0</td>\n",
       "      <td>70.0</td>\n",
       "      <td>70.0</td>\n",
       "      <td>70.0</td>\n",
       "      <td>70.0</td>\n",
       "      <td>72.0</td>\n",
       "      <td>72.0</td>\n",
       "      <td>70.0</td>\n",
       "    </tr>\n",
       "    <tr>\n",
       "      <th>1</th>\n",
       "      <td>2018-09-15 10:05:00</td>\n",
       "      <td>70.0</td>\n",
       "      <td>70.0</td>\n",
       "      <td>72.0</td>\n",
       "      <td>64.0</td>\n",
       "      <td>72.0</td>\n",
       "      <td>70.0</td>\n",
       "      <td>70.0</td>\n",
       "      <td>70.0</td>\n",
       "      <td>70.0</td>\n",
       "      <td>...</td>\n",
       "      <td>64.0</td>\n",
       "      <td>64.0</td>\n",
       "      <td>72.0</td>\n",
       "      <td>70.0</td>\n",
       "      <td>70.0</td>\n",
       "      <td>70.0</td>\n",
       "      <td>70.0</td>\n",
       "      <td>72.0</td>\n",
       "      <td>72.0</td>\n",
       "      <td>70.0</td>\n",
       "    </tr>\n",
       "    <tr>\n",
       "      <th>2</th>\n",
       "      <td>2018-09-15 10:10:00</td>\n",
       "      <td>70.0</td>\n",
       "      <td>70.0</td>\n",
       "      <td>72.0</td>\n",
       "      <td>64.0</td>\n",
       "      <td>72.0</td>\n",
       "      <td>70.0</td>\n",
       "      <td>70.0</td>\n",
       "      <td>70.0</td>\n",
       "      <td>70.0</td>\n",
       "      <td>...</td>\n",
       "      <td>64.0</td>\n",
       "      <td>64.0</td>\n",
       "      <td>72.0</td>\n",
       "      <td>70.0</td>\n",
       "      <td>70.0</td>\n",
       "      <td>70.0</td>\n",
       "      <td>70.0</td>\n",
       "      <td>72.0</td>\n",
       "      <td>72.0</td>\n",
       "      <td>70.0</td>\n",
       "    </tr>\n",
       "    <tr>\n",
       "      <th>3</th>\n",
       "      <td>2018-09-15 10:15:00</td>\n",
       "      <td>70.0</td>\n",
       "      <td>70.0</td>\n",
       "      <td>72.0</td>\n",
       "      <td>64.0</td>\n",
       "      <td>72.0</td>\n",
       "      <td>70.0</td>\n",
       "      <td>70.0</td>\n",
       "      <td>70.0</td>\n",
       "      <td>70.0</td>\n",
       "      <td>...</td>\n",
       "      <td>64.0</td>\n",
       "      <td>64.0</td>\n",
       "      <td>72.0</td>\n",
       "      <td>70.0</td>\n",
       "      <td>70.0</td>\n",
       "      <td>70.0</td>\n",
       "      <td>70.0</td>\n",
       "      <td>72.0</td>\n",
       "      <td>72.0</td>\n",
       "      <td>70.0</td>\n",
       "    </tr>\n",
       "    <tr>\n",
       "      <th>4</th>\n",
       "      <td>2018-09-15 10:20:00</td>\n",
       "      <td>70.0</td>\n",
       "      <td>70.0</td>\n",
       "      <td>72.0</td>\n",
       "      <td>64.0</td>\n",
       "      <td>72.0</td>\n",
       "      <td>70.0</td>\n",
       "      <td>70.0</td>\n",
       "      <td>70.0</td>\n",
       "      <td>70.0</td>\n",
       "      <td>...</td>\n",
       "      <td>64.0</td>\n",
       "      <td>64.0</td>\n",
       "      <td>72.0</td>\n",
       "      <td>70.0</td>\n",
       "      <td>70.0</td>\n",
       "      <td>70.0</td>\n",
       "      <td>70.0</td>\n",
       "      <td>72.0</td>\n",
       "      <td>72.0</td>\n",
       "      <td>70.0</td>\n",
       "    </tr>\n",
       "  </tbody>\n",
       "</table>\n",
       "<p>5 rows × 42 columns</p>\n",
       "</div>"
      ],
      "text/plain": [
       "                 date  zone_016_heating_sp  zone_017_heating_sp  \\\n",
       "0 2018-09-15 10:00:00                 70.0                 70.0   \n",
       "1 2018-09-15 10:05:00                 70.0                 70.0   \n",
       "2 2018-09-15 10:10:00                 70.0                 70.0   \n",
       "3 2018-09-15 10:15:00                 70.0                 70.0   \n",
       "4 2018-09-15 10:20:00                 70.0                 70.0   \n",
       "\n",
       "   zone_018_heating_sp  zone_019_heating_sp  zone_021_heating_sp  \\\n",
       "0                 72.0                 64.0                 72.0   \n",
       "1                 72.0                 64.0                 72.0   \n",
       "2                 72.0                 64.0                 72.0   \n",
       "3                 72.0                 64.0                 72.0   \n",
       "4                 72.0                 64.0                 72.0   \n",
       "\n",
       "   zone_023_heating_sp  zone_024_heating_sp  zone_025_heating_sp  \\\n",
       "0                 70.0                 70.0                 70.0   \n",
       "1                 70.0                 70.0                 70.0   \n",
       "2                 70.0                 70.0                 70.0   \n",
       "3                 70.0                 70.0                 70.0   \n",
       "4                 70.0                 70.0                 70.0   \n",
       "\n",
       "   zone_026_heating_sp  ...  zone_061_heating_sp  zone_062_heating_sp  \\\n",
       "0                 70.0  ...                 64.0                 64.0   \n",
       "1                 70.0  ...                 64.0                 64.0   \n",
       "2                 70.0  ...                 64.0                 64.0   \n",
       "3                 70.0  ...                 64.0                 64.0   \n",
       "4                 70.0  ...                 64.0                 64.0   \n",
       "\n",
       "   zone_063_heating_sp  zone_064_heating_sp  zone_065_heating_sp  \\\n",
       "0                 72.0                 70.0                 70.0   \n",
       "1                 72.0                 70.0                 70.0   \n",
       "2                 72.0                 70.0                 70.0   \n",
       "3                 72.0                 70.0                 70.0   \n",
       "4                 72.0                 70.0                 70.0   \n",
       "\n",
       "   zone_066_heating_sp  zone_067_heating_sp  zone_069_heating_sp  \\\n",
       "0                 70.0                 70.0                 72.0   \n",
       "1                 70.0                 70.0                 72.0   \n",
       "2                 70.0                 70.0                 72.0   \n",
       "3                 70.0                 70.0                 72.0   \n",
       "4                 70.0                 70.0                 72.0   \n",
       "\n",
       "   zone_070_heating_sp  zone_071_heating_sp  \n",
       "0                 72.0                 70.0  \n",
       "1                 72.0                 70.0  \n",
       "2                 72.0                 70.0  \n",
       "3                 72.0                 70.0  \n",
       "4                 72.0                 70.0  \n",
       "\n",
       "[5 rows x 42 columns]"
      ]
     },
     "execution_count": 29,
     "metadata": {},
     "output_type": "execute_result"
    }
   ],
   "source": [
    "in_heating_data.head()"
   ]
  },
  {
   "cell_type": "markdown",
   "id": "263e287c-96b5-490e-95b7-20561bf0574d",
   "metadata": {},
   "source": [
    "#### Merging all the files based on date timestamp"
   ]
  },
  {
   "cell_type": "code",
   "execution_count": 30,
   "id": "a0424389-2542-4fce-8020-8d5ce4f644cf",
   "metadata": {},
   "outputs": [],
   "source": [
    "#Merged_df=pd.merge(out_env_data,in_cooling_data,in_heating_data,zone_temp_interior,zone_temp_exterior,co2_conc,occupant,how='left')"
   ]
  },
  {
   "cell_type": "code",
   "execution_count": 31,
   "id": "40c556fc-e7e5-44ee-baad-837565747106",
   "metadata": {},
   "outputs": [],
   "source": [
    "#Merging indoor cooling and heating data\n",
    "Merge_cooling_heating=pd.merge(in_cooling_data,in_heating_data,how='left')"
   ]
  },
  {
   "cell_type": "code",
   "execution_count": 32,
   "id": "5dd33141-11fa-41f5-959f-19e7f1e65e0e",
   "metadata": {},
   "outputs": [],
   "source": [
    "#Merging outdoor environment data with indoor merged cooling and heating data\n",
    "Merge_indoor_outdoor=pd.merge(out_env_data,Merge_cooling_heating,how='left')"
   ]
  },
  {
   "cell_type": "code",
   "execution_count": 33,
   "id": "ea4d8597-da63-4892-816e-4b2469c60eaa",
   "metadata": {},
   "outputs": [],
   "source": [
    "#Merging with energy_use_target data\n",
    "Merge_en=pd.merge(energy_use_target,Merge_indoor_outdoor,how='left')"
   ]
  },
  {
   "cell_type": "code",
   "execution_count": 34,
   "id": "c1ea4e59-d65d-48c0-b164-f5e6e0a6cd93",
   "metadata": {},
   "outputs": [
    {
     "data": {
      "text/plain": [
       "date                       0\n",
       "hvac_N                  1542\n",
       "hvac_S                  1542\n",
       "air_temp_set_1          1525\n",
       "air_temp_set_2          1525\n",
       "                       ...  \n",
       "zone_066_heating_sp    27256\n",
       "zone_067_heating_sp    27256\n",
       "zone_069_heating_sp    27137\n",
       "zone_070_heating_sp    43299\n",
       "zone_071_heating_sp    27255\n",
       "Length: 90, dtype: int64"
      ]
     },
     "execution_count": 34,
     "metadata": {},
     "output_type": "execute_result"
    }
   ],
   "source": [
    "Merge_en.isnull().sum()"
   ]
  },
  {
   "cell_type": "code",
   "execution_count": 35,
   "id": "804ef09d-05aa-4134-adbe-cd3e2093c7ba",
   "metadata": {},
   "outputs": [
    {
     "data": {
      "text/plain": [
       "(103048, 90)"
      ]
     },
     "execution_count": 35,
     "metadata": {},
     "output_type": "execute_result"
    }
   ],
   "source": [
    "Merge_en.shape"
   ]
  },
  {
   "cell_type": "code",
   "execution_count": 36,
   "id": "99ba4168-287c-4ab5-a533-c9a7c0a950bb",
   "metadata": {},
   "outputs": [
    {
     "data": {
      "text/plain": [
       "date                    0.000000\n",
       "hvac_N                  1.496390\n",
       "hvac_S                  1.496390\n",
       "air_temp_set_1          1.479893\n",
       "air_temp_set_2          1.479893\n",
       "                         ...    \n",
       "zone_066_heating_sp    26.449810\n",
       "zone_067_heating_sp    26.449810\n",
       "zone_069_heating_sp    26.334330\n",
       "zone_070_heating_sp    42.018283\n",
       "zone_071_heating_sp    26.448839\n",
       "Length: 90, dtype: float64"
      ]
     },
     "execution_count": 36,
     "metadata": {},
     "output_type": "execute_result"
    }
   ],
   "source": [
    "#Percentage of null values in each columns\n",
    "Merge_en.isnull().sum() * 100 / len(Merge_en)"
   ]
  },
  {
   "cell_type": "markdown",
   "id": "d0c193ed-4d6e-4d14-a0b3-012f271582a5",
   "metadata": {},
   "source": [
    "## Missing Value imputation "
   ]
  },
  {
   "cell_type": "markdown",
   "id": "7b5de3c0-1827-421b-b082-69e6a57f90fe",
   "metadata": {},
   "source": [
    "### Reference: \n",
    "  - https://machinelearningmastery.com/iterative-imputation-for-missing-values-in-machine-learning/\n",
    "       #### Here we will use Iterative Imputer / BayesianRidge model for iterative  imputations for all null values\n",
    "\n",
    "  - Scikit-learn: Machine Learning in Python, Pedregosa et al., JMLR 12, pp. 2825-2830, 2011."
   ]
  },
  {
   "cell_type": "code",
   "execution_count": 37,
   "id": "390d61de-17c6-41ea-bf80-6e60147c06fe",
   "metadata": {},
   "outputs": [],
   "source": [
    "from sklearn.experimental import enable_iterative_imputer\n",
    "from sklearn.impute import IterativeImputer, SimpleImputer\n",
    "from sklearn import linear_model\n",
    "\n",
    "#imputer = IterativeImputer(estimator=BayesianRidge(), n_nearest_features=None, imputation_order='ascending')\n"
   ]
  },
  {
   "cell_type": "code",
   "execution_count": 38,
   "id": "cd5fcef5-ded3-4ed3-976d-139cb8ed3f7e",
   "metadata": {},
   "outputs": [
    {
     "data": {
      "text/plain": [
       "Index(['date', 'hvac_N', 'hvac_S', 'air_temp_set_1', 'air_temp_set_2',\n",
       "       'dew_point_temperature_set_1d', 'relative_humidity_set_1',\n",
       "       'solar_radiation_set_1', 'zone_016_cooling_sp', 'zone_017_cooling_sp',\n",
       "       'zone_018_cooling_sp', 'zone_019_cooling_sp', 'zone_021_cooling_sp',\n",
       "       'zone_023_cooling_sp', 'zone_024_cooling_sp', 'zone_025_cooling_sp',\n",
       "       'zone_026_cooling_sp', 'zone_027_cooling_sp', 'zone_030_cooling_sp',\n",
       "       'zone_032_cooling_sp', 'zone_035_cooling_sp', 'zone_036_cooling_sp',\n",
       "       'zone_037_cooling_sp', 'zone_038_cooling_sp', 'zone_039_cooling_sp',\n",
       "       'zone_041_cooling_sp', 'zone_042_cooling_sp', 'zone_043_cooling_sp',\n",
       "       'zone_046_cooling_sp', 'zone_047_cooling_sp', 'zone_048_cooling_sp',\n",
       "       'zone_049_cooling_sp', 'zone_051_cooling_sp', 'zone_053_cooling_sp',\n",
       "       'zone_054_cooling_sp', 'zone_055_cooling_sp', 'zone_056_cooling_sp',\n",
       "       'zone_057_cooling_sp', 'zone_059_cooling_sp', 'zone_061_cooling_sp',\n",
       "       'zone_062_cooling_sp', 'zone_063_cooling_sp', 'zone_064_cooling_sp',\n",
       "       'zone_065_cooling_sp', 'zone_066_cooling_sp', 'zone_067_cooling_sp',\n",
       "       'zone_069_cooling_sp', 'zone_070_cooling_sp', 'zone_071_cooling_sp',\n",
       "       'zone_016_heating_sp', 'zone_017_heating_sp', 'zone_018_heating_sp',\n",
       "       'zone_019_heating_sp', 'zone_021_heating_sp', 'zone_023_heating_sp',\n",
       "       'zone_024_heating_sp', 'zone_025_heating_sp', 'zone_026_heating_sp',\n",
       "       'zone_027_heating_sp', 'zone_030_heating_sp', 'zone_032_heating_sp',\n",
       "       'zone_035_heating_sp', 'zone_036_heating_sp', 'zone_037_heating_sp',\n",
       "       'zone_038_heating_sp', 'zone_039_heating_sp', 'zone_041_heating_sp',\n",
       "       'zone_042_heating_sp', 'zone_043_heating_sp', 'zone_046_heating_sp',\n",
       "       'zone_047_heating_sp', 'zone_048_heating_sp', 'zone_049_heating_sp',\n",
       "       'zone_051_heating_sp', 'zone_053_heating_sp', 'zone_054_heating_sp',\n",
       "       'zone_055_heating_sp', 'zone_056_heating_sp', 'zone_057_heating_sp',\n",
       "       'zone_059_heating_sp', 'zone_061_heating_sp', 'zone_062_heating_sp',\n",
       "       'zone_063_heating_sp', 'zone_064_heating_sp', 'zone_065_heating_sp',\n",
       "       'zone_066_heating_sp', 'zone_067_heating_sp', 'zone_069_heating_sp',\n",
       "       'zone_070_heating_sp', 'zone_071_heating_sp'],\n",
       "      dtype='object')"
      ]
     },
     "execution_count": 38,
     "metadata": {},
     "output_type": "execute_result"
    }
   ],
   "source": [
    "Merge_en.columns"
   ]
  },
  {
   "cell_type": "code",
   "execution_count": null,
   "id": "18be16ff-bed6-463b-9667-290721d2d876",
   "metadata": {},
   "outputs": [],
   "source": []
  },
  {
   "cell_type": "code",
   "execution_count": 39,
   "id": "a1478f17-1d19-448a-a807-fcb88963d731",
   "metadata": {},
   "outputs": [],
   "source": [
    "#X=Merge_en.loc[:,'zone_016_heating_sp':'zone_071_heating_sp']"
   ]
  },
  {
   "cell_type": "code",
   "execution_count": 40,
   "id": "fbb89f3e-495c-4b75-b073-80862e0c6756",
   "metadata": {},
   "outputs": [],
   "source": [
    "X=Merge_en.loc[:,'hvac_N':'zone_071_heating_sp']"
   ]
  },
  {
   "cell_type": "code",
   "execution_count": 41,
   "id": "1bbf3f1f-17b6-4bf7-99c1-73d1f14acc9f",
   "metadata": {},
   "outputs": [
    {
     "data": {
      "text/html": [
       "<div>\n",
       "<style scoped>\n",
       "    .dataframe tbody tr th:only-of-type {\n",
       "        vertical-align: middle;\n",
       "    }\n",
       "\n",
       "    .dataframe tbody tr th {\n",
       "        vertical-align: top;\n",
       "    }\n",
       "\n",
       "    .dataframe thead th {\n",
       "        text-align: right;\n",
       "    }\n",
       "</style>\n",
       "<table border=\"1\" class=\"dataframe\">\n",
       "  <thead>\n",
       "    <tr style=\"text-align: right;\">\n",
       "      <th></th>\n",
       "      <th>hvac_N</th>\n",
       "      <th>hvac_S</th>\n",
       "      <th>air_temp_set_1</th>\n",
       "      <th>air_temp_set_2</th>\n",
       "      <th>dew_point_temperature_set_1d</th>\n",
       "      <th>relative_humidity_set_1</th>\n",
       "      <th>solar_radiation_set_1</th>\n",
       "      <th>zone_016_cooling_sp</th>\n",
       "      <th>zone_017_cooling_sp</th>\n",
       "      <th>zone_018_cooling_sp</th>\n",
       "      <th>...</th>\n",
       "      <th>zone_061_heating_sp</th>\n",
       "      <th>zone_062_heating_sp</th>\n",
       "      <th>zone_063_heating_sp</th>\n",
       "      <th>zone_064_heating_sp</th>\n",
       "      <th>zone_065_heating_sp</th>\n",
       "      <th>zone_066_heating_sp</th>\n",
       "      <th>zone_067_heating_sp</th>\n",
       "      <th>zone_069_heating_sp</th>\n",
       "      <th>zone_070_heating_sp</th>\n",
       "      <th>zone_071_heating_sp</th>\n",
       "    </tr>\n",
       "  </thead>\n",
       "  <tbody>\n",
       "    <tr>\n",
       "      <th>0</th>\n",
       "      <td>37.400002</td>\n",
       "      <td>19.500000</td>\n",
       "      <td>11.12</td>\n",
       "      <td>11.15</td>\n",
       "      <td>8.04</td>\n",
       "      <td>81.5</td>\n",
       "      <td>6.45</td>\n",
       "      <td>NaN</td>\n",
       "      <td>NaN</td>\n",
       "      <td>NaN</td>\n",
       "      <td>...</td>\n",
       "      <td>NaN</td>\n",
       "      <td>NaN</td>\n",
       "      <td>NaN</td>\n",
       "      <td>NaN</td>\n",
       "      <td>NaN</td>\n",
       "      <td>NaN</td>\n",
       "      <td>NaN</td>\n",
       "      <td>NaN</td>\n",
       "      <td>NaN</td>\n",
       "      <td>NaN</td>\n",
       "    </tr>\n",
       "    <tr>\n",
       "      <th>1</th>\n",
       "      <td>37.500000</td>\n",
       "      <td>19.889999</td>\n",
       "      <td>10.94</td>\n",
       "      <td>11.01</td>\n",
       "      <td>7.99</td>\n",
       "      <td>82.2</td>\n",
       "      <td>1.81</td>\n",
       "      <td>NaN</td>\n",
       "      <td>NaN</td>\n",
       "      <td>NaN</td>\n",
       "      <td>...</td>\n",
       "      <td>NaN</td>\n",
       "      <td>NaN</td>\n",
       "      <td>NaN</td>\n",
       "      <td>NaN</td>\n",
       "      <td>NaN</td>\n",
       "      <td>NaN</td>\n",
       "      <td>NaN</td>\n",
       "      <td>NaN</td>\n",
       "      <td>NaN</td>\n",
       "      <td>NaN</td>\n",
       "    </tr>\n",
       "    <tr>\n",
       "      <th>2</th>\n",
       "      <td>38.000000</td>\n",
       "      <td>19.299999</td>\n",
       "      <td>10.79</td>\n",
       "      <td>10.84</td>\n",
       "      <td>7.93</td>\n",
       "      <td>82.7</td>\n",
       "      <td>0.24</td>\n",
       "      <td>NaN</td>\n",
       "      <td>NaN</td>\n",
       "      <td>NaN</td>\n",
       "      <td>...</td>\n",
       "      <td>NaN</td>\n",
       "      <td>NaN</td>\n",
       "      <td>NaN</td>\n",
       "      <td>NaN</td>\n",
       "      <td>NaN</td>\n",
       "      <td>NaN</td>\n",
       "      <td>NaN</td>\n",
       "      <td>NaN</td>\n",
       "      <td>NaN</td>\n",
       "      <td>NaN</td>\n",
       "    </tr>\n",
       "    <tr>\n",
       "      <th>3</th>\n",
       "      <td>37.200001</td>\n",
       "      <td>18.889999</td>\n",
       "      <td>10.71</td>\n",
       "      <td>10.73</td>\n",
       "      <td>8.02</td>\n",
       "      <td>83.6</td>\n",
       "      <td>0.00</td>\n",
       "      <td>NaN</td>\n",
       "      <td>NaN</td>\n",
       "      <td>NaN</td>\n",
       "      <td>...</td>\n",
       "      <td>NaN</td>\n",
       "      <td>NaN</td>\n",
       "      <td>NaN</td>\n",
       "      <td>NaN</td>\n",
       "      <td>NaN</td>\n",
       "      <td>NaN</td>\n",
       "      <td>NaN</td>\n",
       "      <td>NaN</td>\n",
       "      <td>NaN</td>\n",
       "      <td>NaN</td>\n",
       "    </tr>\n",
       "    <tr>\n",
       "      <th>4</th>\n",
       "      <td>37.400002</td>\n",
       "      <td>24.700001</td>\n",
       "      <td>10.79</td>\n",
       "      <td>10.84</td>\n",
       "      <td>8.01</td>\n",
       "      <td>83.1</td>\n",
       "      <td>0.00</td>\n",
       "      <td>NaN</td>\n",
       "      <td>NaN</td>\n",
       "      <td>NaN</td>\n",
       "      <td>...</td>\n",
       "      <td>NaN</td>\n",
       "      <td>NaN</td>\n",
       "      <td>NaN</td>\n",
       "      <td>NaN</td>\n",
       "      <td>NaN</td>\n",
       "      <td>NaN</td>\n",
       "      <td>NaN</td>\n",
       "      <td>NaN</td>\n",
       "      <td>NaN</td>\n",
       "      <td>NaN</td>\n",
       "    </tr>\n",
       "  </tbody>\n",
       "</table>\n",
       "<p>5 rows × 89 columns</p>\n",
       "</div>"
      ],
      "text/plain": [
       "      hvac_N     hvac_S  air_temp_set_1  air_temp_set_2  \\\n",
       "0  37.400002  19.500000           11.12           11.15   \n",
       "1  37.500000  19.889999           10.94           11.01   \n",
       "2  38.000000  19.299999           10.79           10.84   \n",
       "3  37.200001  18.889999           10.71           10.73   \n",
       "4  37.400002  24.700001           10.79           10.84   \n",
       "\n",
       "   dew_point_temperature_set_1d  relative_humidity_set_1  \\\n",
       "0                          8.04                     81.5   \n",
       "1                          7.99                     82.2   \n",
       "2                          7.93                     82.7   \n",
       "3                          8.02                     83.6   \n",
       "4                          8.01                     83.1   \n",
       "\n",
       "   solar_radiation_set_1  zone_016_cooling_sp  zone_017_cooling_sp  \\\n",
       "0                   6.45                  NaN                  NaN   \n",
       "1                   1.81                  NaN                  NaN   \n",
       "2                   0.24                  NaN                  NaN   \n",
       "3                   0.00                  NaN                  NaN   \n",
       "4                   0.00                  NaN                  NaN   \n",
       "\n",
       "   zone_018_cooling_sp  ...  zone_061_heating_sp  zone_062_heating_sp  \\\n",
       "0                  NaN  ...                  NaN                  NaN   \n",
       "1                  NaN  ...                  NaN                  NaN   \n",
       "2                  NaN  ...                  NaN                  NaN   \n",
       "3                  NaN  ...                  NaN                  NaN   \n",
       "4                  NaN  ...                  NaN                  NaN   \n",
       "\n",
       "   zone_063_heating_sp  zone_064_heating_sp  zone_065_heating_sp  \\\n",
       "0                  NaN                  NaN                  NaN   \n",
       "1                  NaN                  NaN                  NaN   \n",
       "2                  NaN                  NaN                  NaN   \n",
       "3                  NaN                  NaN                  NaN   \n",
       "4                  NaN                  NaN                  NaN   \n",
       "\n",
       "   zone_066_heating_sp  zone_067_heating_sp  zone_069_heating_sp  \\\n",
       "0                  NaN                  NaN                  NaN   \n",
       "1                  NaN                  NaN                  NaN   \n",
       "2                  NaN                  NaN                  NaN   \n",
       "3                  NaN                  NaN                  NaN   \n",
       "4                  NaN                  NaN                  NaN   \n",
       "\n",
       "   zone_070_heating_sp  zone_071_heating_sp  \n",
       "0                  NaN                  NaN  \n",
       "1                  NaN                  NaN  \n",
       "2                  NaN                  NaN  \n",
       "3                  NaN                  NaN  \n",
       "4                  NaN                  NaN  \n",
       "\n",
       "[5 rows x 89 columns]"
      ]
     },
     "execution_count": 41,
     "metadata": {},
     "output_type": "execute_result"
    }
   ],
   "source": [
    "X.head()"
   ]
  },
  {
   "cell_type": "code",
   "execution_count": 42,
   "id": "baea89bb-a0a9-48d1-9749-097f26658df7",
   "metadata": {},
   "outputs": [],
   "source": [
    "# define imputer\n",
    "imputer = IterativeImputer(random_state=42)\n",
    "# fit on the dataset\n",
    "imputer.fit(X)\n",
    "# transform the dataset\n",
    "Xtrans = imputer.transform(X)"
   ]
  },
  {
   "cell_type": "code",
   "execution_count": 43,
   "id": "0361d3f6-77d0-4d3d-a1b6-40ee68211a28",
   "metadata": {},
   "outputs": [],
   "source": [
    "Xtrans=pd.DataFrame(Xtrans.tolist())"
   ]
  },
  {
   "cell_type": "markdown",
   "id": "8f84e311-e6f7-4d45-b070-99218ef88dbb",
   "metadata": {},
   "source": [
    "#Replacing transformed columns backinto Merge_indoor_outdoor dataframe \n",
    "Xtrans.columns=X.columns\n",
    "Merge_indoor_outdoor.loc[:,'zone_016_heating_sp':'zone_071_heating_sp']=Xtrans"
   ]
  },
  {
   "cell_type": "code",
   "execution_count": 44,
   "id": "5d7af6c6-417c-46cc-930b-37950fc46406",
   "metadata": {},
   "outputs": [],
   "source": [
    "#Replacing transformed columns backinto Merge_indoor_outdoor dataframe \n",
    "Xtrans.columns=X.columns\n",
    "Merge_en.loc[:,'hvac_N':'zone_071_heating_sp']=Xtrans"
   ]
  },
  {
   "cell_type": "code",
   "execution_count": 45,
   "id": "0b56e572-0fe6-4d1b-9b25-4afcc2e42993",
   "metadata": {},
   "outputs": [
    {
     "data": {
      "text/plain": [
       "date                   0.0\n",
       "hvac_N                 0.0\n",
       "hvac_S                 0.0\n",
       "air_temp_set_1         0.0\n",
       "air_temp_set_2         0.0\n",
       "                      ... \n",
       "zone_066_heating_sp    0.0\n",
       "zone_067_heating_sp    0.0\n",
       "zone_069_heating_sp    0.0\n",
       "zone_070_heating_sp    0.0\n",
       "zone_071_heating_sp    0.0\n",
       "Length: 90, dtype: float64"
      ]
     },
     "execution_count": 45,
     "metadata": {},
     "output_type": "execute_result"
    }
   ],
   "source": [
    "#Percentage of null values in each columns\n",
    "Merge_en.isnull().sum() * 100 / len(Merge_en)"
   ]
  },
  {
   "cell_type": "markdown",
   "id": "82fd44e7-0638-486c-88e0-a803c9e1a85c",
   "metadata": {},
   "source": [
    "We will merge zone_temp_interior, zone_temp_exterior and co2_conc based on date timestamp"
   ]
  },
  {
   "cell_type": "code",
   "execution_count": 46,
   "id": "b6f15bce-b063-4538-9ea2-4c75a5c4a709",
   "metadata": {},
   "outputs": [],
   "source": [
    "#Merging interior and exterior zone temperature data\n",
    "Merge_zone_temp=pd.merge(zone_temp_interior, zone_temp_exterior,how='left')"
   ]
  },
  {
   "cell_type": "code",
   "execution_count": 47,
   "id": "5b599548-b93c-4d26-a4bd-f27250d647ea",
   "metadata": {},
   "outputs": [],
   "source": [
    "#Merging zone temperature with CO2 concentration\n",
    "Merge_zonetemp_co2=pd.merge(Merge_zone_temp,co2_conc,how='left')"
   ]
  },
  {
   "cell_type": "code",
   "execution_count": 48,
   "id": "565dec00-ceac-4a3d-96ab-9ad0f7333eb5",
   "metadata": {},
   "outputs": [],
   "source": [
    "#Merging zone temperature with CO2 concentration\n",
    "#Merge_zonetemp_co2=pd.merge(Merge_zone_temp,Merge_zone_temp,how='left')"
   ]
  },
  {
   "cell_type": "code",
   "execution_count": 49,
   "id": "a5cca2c5-173d-418a-a500-4e2a995001ce",
   "metadata": {},
   "outputs": [
    {
     "data": {
      "text/html": [
       "<div>\n",
       "<style scoped>\n",
       "    .dataframe tbody tr th:only-of-type {\n",
       "        vertical-align: middle;\n",
       "    }\n",
       "\n",
       "    .dataframe tbody tr th {\n",
       "        vertical-align: top;\n",
       "    }\n",
       "\n",
       "    .dataframe thead th {\n",
       "        text-align: right;\n",
       "    }\n",
       "</style>\n",
       "<table border=\"1\" class=\"dataframe\">\n",
       "  <thead>\n",
       "    <tr style=\"text-align: right;\">\n",
       "      <th></th>\n",
       "      <th>date</th>\n",
       "      <th>cerc_templogger_1</th>\n",
       "      <th>cerc_templogger_10</th>\n",
       "      <th>cerc_templogger_11</th>\n",
       "      <th>cerc_templogger_12</th>\n",
       "      <th>cerc_templogger_13</th>\n",
       "      <th>cerc_templogger_14</th>\n",
       "      <th>cerc_templogger_15</th>\n",
       "      <th>cerc_templogger_16</th>\n",
       "      <th>cerc_templogger_2</th>\n",
       "      <th>...</th>\n",
       "      <th>zone_028_co2</th>\n",
       "      <th>zone_033_co2</th>\n",
       "      <th>zone_040_co2</th>\n",
       "      <th>zone_044_co2</th>\n",
       "      <th>zone_045_co2</th>\n",
       "      <th>zone_052_co2</th>\n",
       "      <th>zone_058_co2</th>\n",
       "      <th>zone_062_co2</th>\n",
       "      <th>zone_068_co2</th>\n",
       "      <th>zone_072_co2</th>\n",
       "    </tr>\n",
       "  </thead>\n",
       "  <tbody>\n",
       "    <tr>\n",
       "      <th>0</th>\n",
       "      <td>2018-02-22 00:30:00</td>\n",
       "      <td>22.875</td>\n",
       "      <td>22.062</td>\n",
       "      <td>23.312</td>\n",
       "      <td>21.250</td>\n",
       "      <td>21.812</td>\n",
       "      <td>22.687</td>\n",
       "      <td>23.500</td>\n",
       "      <td>22.062</td>\n",
       "      <td>23.375</td>\n",
       "      <td>...</td>\n",
       "      <td>NaN</td>\n",
       "      <td>NaN</td>\n",
       "      <td>NaN</td>\n",
       "      <td>NaN</td>\n",
       "      <td>NaN</td>\n",
       "      <td>NaN</td>\n",
       "      <td>NaN</td>\n",
       "      <td>NaN</td>\n",
       "      <td>NaN</td>\n",
       "      <td>NaN</td>\n",
       "    </tr>\n",
       "    <tr>\n",
       "      <th>1</th>\n",
       "      <td>2018-02-22 00:40:00</td>\n",
       "      <td>22.937</td>\n",
       "      <td>22.750</td>\n",
       "      <td>23.375</td>\n",
       "      <td>21.937</td>\n",
       "      <td>21.812</td>\n",
       "      <td>22.687</td>\n",
       "      <td>23.500</td>\n",
       "      <td>21.937</td>\n",
       "      <td>23.125</td>\n",
       "      <td>...</td>\n",
       "      <td>NaN</td>\n",
       "      <td>NaN</td>\n",
       "      <td>NaN</td>\n",
       "      <td>NaN</td>\n",
       "      <td>NaN</td>\n",
       "      <td>NaN</td>\n",
       "      <td>NaN</td>\n",
       "      <td>NaN</td>\n",
       "      <td>NaN</td>\n",
       "      <td>NaN</td>\n",
       "    </tr>\n",
       "    <tr>\n",
       "      <th>2</th>\n",
       "      <td>2018-02-22 00:50:00</td>\n",
       "      <td>22.937</td>\n",
       "      <td>22.875</td>\n",
       "      <td>23.312</td>\n",
       "      <td>22.312</td>\n",
       "      <td>21.875</td>\n",
       "      <td>22.812</td>\n",
       "      <td>23.562</td>\n",
       "      <td>21.937</td>\n",
       "      <td>23.125</td>\n",
       "      <td>...</td>\n",
       "      <td>NaN</td>\n",
       "      <td>NaN</td>\n",
       "      <td>NaN</td>\n",
       "      <td>NaN</td>\n",
       "      <td>NaN</td>\n",
       "      <td>NaN</td>\n",
       "      <td>NaN</td>\n",
       "      <td>NaN</td>\n",
       "      <td>NaN</td>\n",
       "      <td>NaN</td>\n",
       "    </tr>\n",
       "    <tr>\n",
       "      <th>3</th>\n",
       "      <td>2018-02-22 01:00:00</td>\n",
       "      <td>22.937</td>\n",
       "      <td>23.000</td>\n",
       "      <td>23.375</td>\n",
       "      <td>22.375</td>\n",
       "      <td>21.812</td>\n",
       "      <td>22.812</td>\n",
       "      <td>23.125</td>\n",
       "      <td>21.750</td>\n",
       "      <td>23.375</td>\n",
       "      <td>...</td>\n",
       "      <td>NaN</td>\n",
       "      <td>NaN</td>\n",
       "      <td>NaN</td>\n",
       "      <td>NaN</td>\n",
       "      <td>NaN</td>\n",
       "      <td>NaN</td>\n",
       "      <td>NaN</td>\n",
       "      <td>NaN</td>\n",
       "      <td>NaN</td>\n",
       "      <td>NaN</td>\n",
       "    </tr>\n",
       "    <tr>\n",
       "      <th>4</th>\n",
       "      <td>2018-02-22 01:10:00</td>\n",
       "      <td>23.000</td>\n",
       "      <td>23.000</td>\n",
       "      <td>23.312</td>\n",
       "      <td>22.437</td>\n",
       "      <td>21.812</td>\n",
       "      <td>22.937</td>\n",
       "      <td>23.187</td>\n",
       "      <td>21.937</td>\n",
       "      <td>23.875</td>\n",
       "      <td>...</td>\n",
       "      <td>NaN</td>\n",
       "      <td>NaN</td>\n",
       "      <td>NaN</td>\n",
       "      <td>NaN</td>\n",
       "      <td>NaN</td>\n",
       "      <td>NaN</td>\n",
       "      <td>NaN</td>\n",
       "      <td>NaN</td>\n",
       "      <td>NaN</td>\n",
       "      <td>NaN</td>\n",
       "    </tr>\n",
       "  </tbody>\n",
       "</table>\n",
       "<p>5 rows × 79 columns</p>\n",
       "</div>"
      ],
      "text/plain": [
       "                 date  cerc_templogger_1  cerc_templogger_10  \\\n",
       "0 2018-02-22 00:30:00             22.875              22.062   \n",
       "1 2018-02-22 00:40:00             22.937              22.750   \n",
       "2 2018-02-22 00:50:00             22.937              22.875   \n",
       "3 2018-02-22 01:00:00             22.937              23.000   \n",
       "4 2018-02-22 01:10:00             23.000              23.000   \n",
       "\n",
       "   cerc_templogger_11  cerc_templogger_12  cerc_templogger_13  \\\n",
       "0              23.312              21.250              21.812   \n",
       "1              23.375              21.937              21.812   \n",
       "2              23.312              22.312              21.875   \n",
       "3              23.375              22.375              21.812   \n",
       "4              23.312              22.437              21.812   \n",
       "\n",
       "   cerc_templogger_14  cerc_templogger_15  cerc_templogger_16  \\\n",
       "0              22.687              23.500              22.062   \n",
       "1              22.687              23.500              21.937   \n",
       "2              22.812              23.562              21.937   \n",
       "3              22.812              23.125              21.750   \n",
       "4              22.937              23.187              21.937   \n",
       "\n",
       "   cerc_templogger_2  ...  zone_028_co2  zone_033_co2  zone_040_co2  \\\n",
       "0             23.375  ...           NaN           NaN           NaN   \n",
       "1             23.125  ...           NaN           NaN           NaN   \n",
       "2             23.125  ...           NaN           NaN           NaN   \n",
       "3             23.375  ...           NaN           NaN           NaN   \n",
       "4             23.875  ...           NaN           NaN           NaN   \n",
       "\n",
       "   zone_044_co2  zone_045_co2  zone_052_co2  zone_058_co2  zone_062_co2  \\\n",
       "0           NaN           NaN           NaN           NaN           NaN   \n",
       "1           NaN           NaN           NaN           NaN           NaN   \n",
       "2           NaN           NaN           NaN           NaN           NaN   \n",
       "3           NaN           NaN           NaN           NaN           NaN   \n",
       "4           NaN           NaN           NaN           NaN           NaN   \n",
       "\n",
       "   zone_068_co2  zone_072_co2  \n",
       "0           NaN           NaN  \n",
       "1           NaN           NaN  \n",
       "2           NaN           NaN  \n",
       "3           NaN           NaN  \n",
       "4           NaN           NaN  \n",
       "\n",
       "[5 rows x 79 columns]"
      ]
     },
     "execution_count": 49,
     "metadata": {},
     "output_type": "execute_result"
    }
   ],
   "source": [
    "Merge_zonetemp_co2.head()"
   ]
  },
  {
   "cell_type": "code",
   "execution_count": 50,
   "id": "59883a32-b240-41c1-a26d-e25039433d89",
   "metadata": {},
   "outputs": [
    {
     "data": {
      "text/plain": [
       "date                   0.000000\n",
       "cerc_templogger_1      2.512515\n",
       "cerc_templogger_10     4.866479\n",
       "cerc_templogger_11     0.243580\n",
       "cerc_templogger_12     7.833548\n",
       "                        ...    \n",
       "zone_052_co2          61.516331\n",
       "zone_058_co2          61.516331\n",
       "zone_062_co2          61.516331\n",
       "zone_068_co2          61.516331\n",
       "zone_072_co2          61.516331\n",
       "Length: 79, dtype: float64"
      ]
     },
     "execution_count": 50,
     "metadata": {},
     "output_type": "execute_result"
    }
   ],
   "source": [
    "#Percentage of null values in each columns\n",
    "Merge_zonetemp_co2.isnull().sum() * 100 / len(Merge_zonetemp_co2)"
   ]
  },
  {
   "cell_type": "markdown",
   "id": "b6c39b51-4964-4fd6-99fb-82e090a40f6e",
   "metadata": {},
   "source": [
    "### Using Iterative Imputer we will be replacing null values in this merged dataset"
   ]
  },
  {
   "cell_type": "code",
   "execution_count": 51,
   "id": "ef4af745-ce9e-4533-88fe-3bb70bc27d15",
   "metadata": {},
   "outputs": [],
   "source": [
    "feature_Trans1=Merge_zonetemp_co2.loc[:,'cerc_templogger_1':'zone_072_co2']"
   ]
  },
  {
   "cell_type": "code",
   "execution_count": 52,
   "id": "869c2e51-a3f7-4bfa-a59c-58e389a0a745",
   "metadata": {},
   "outputs": [
    {
     "data": {
      "text/plain": [
       "Index(['cerc_templogger_1', 'cerc_templogger_10', 'cerc_templogger_11',\n",
       "       'cerc_templogger_12', 'cerc_templogger_13', 'cerc_templogger_14',\n",
       "       'cerc_templogger_15', 'cerc_templogger_16', 'cerc_templogger_2',\n",
       "       'cerc_templogger_3', 'cerc_templogger_4', 'cerc_templogger_5',\n",
       "       'cerc_templogger_6', 'cerc_templogger_7', 'cerc_templogger_8',\n",
       "       'cerc_templogger_9', 'zone_016_temp', 'zone_017_temp', 'zone_018_temp',\n",
       "       'zone_019_temp', 'zone_021_temp', 'zone_022_temp', 'zone_023_temp',\n",
       "       'zone_024_temp', 'zone_025_temp', 'zone_026_temp', 'zone_027_temp',\n",
       "       'zone_028_temp', 'zone_030_temp', 'zone_032_temp', 'zone_033_temp',\n",
       "       'zone_035_temp', 'zone_036_temp', 'zone_037_temp', 'zone_038_temp',\n",
       "       'zone_039_temp', 'zone_040_temp', 'zone_041_temp', 'zone_042_temp',\n",
       "       'zone_043_temp', 'zone_044_temp', 'zone_045_temp', 'zone_046_temp',\n",
       "       'zone_047_temp', 'zone_048_temp', 'zone_049_temp', 'zone_051_temp',\n",
       "       'zone_052_temp', 'zone_053_temp', 'zone_054_temp', 'zone_055_temp',\n",
       "       'zone_056_temp', 'zone_057_temp', 'zone_058_temp', 'zone_059_temp',\n",
       "       'zone_061_temp', 'zone_062_temp', 'zone_063_temp', 'zone_064_temp',\n",
       "       'zone_065_temp', 'zone_066_temp', 'zone_067_temp', 'zone_068_temp',\n",
       "       'zone_069_temp', 'zone_070_temp', 'zone_071_temp', 'zone_072_temp',\n",
       "       'zone_022_co2', 'zone_028_co2', 'zone_033_co2', 'zone_040_co2',\n",
       "       'zone_044_co2', 'zone_045_co2', 'zone_052_co2', 'zone_058_co2',\n",
       "       'zone_062_co2', 'zone_068_co2', 'zone_072_co2'],\n",
       "      dtype='object')"
      ]
     },
     "execution_count": 52,
     "metadata": {},
     "output_type": "execute_result"
    }
   ],
   "source": [
    "feature_Trans1.columns"
   ]
  },
  {
   "cell_type": "code",
   "execution_count": 53,
   "id": "6abf9878-48cf-4159-b4cb-c052576754ad",
   "metadata": {},
   "outputs": [
    {
     "name": "stderr",
     "output_type": "stream",
     "text": [
      "D:\\MSDA_SJSU\\Application dwnload\\Anaconda_3\\Lib\\site-packages\\sklearn\\impute\\_iterative.py:785: ConvergenceWarning: [IterativeImputer] Early stopping criterion not reached.\n",
      "  warnings.warn(\n"
     ]
    },
    {
     "data": {
      "text/html": [
       "<style>#sk-container-id-1 {color: black;background-color: white;}#sk-container-id-1 pre{padding: 0;}#sk-container-id-1 div.sk-toggleable {background-color: white;}#sk-container-id-1 label.sk-toggleable__label {cursor: pointer;display: block;width: 100%;margin-bottom: 0;padding: 0.3em;box-sizing: border-box;text-align: center;}#sk-container-id-1 label.sk-toggleable__label-arrow:before {content: \"▸\";float: left;margin-right: 0.25em;color: #696969;}#sk-container-id-1 label.sk-toggleable__label-arrow:hover:before {color: black;}#sk-container-id-1 div.sk-estimator:hover label.sk-toggleable__label-arrow:before {color: black;}#sk-container-id-1 div.sk-toggleable__content {max-height: 0;max-width: 0;overflow: hidden;text-align: left;background-color: #f0f8ff;}#sk-container-id-1 div.sk-toggleable__content pre {margin: 0.2em;color: black;border-radius: 0.25em;background-color: #f0f8ff;}#sk-container-id-1 input.sk-toggleable__control:checked~div.sk-toggleable__content {max-height: 200px;max-width: 100%;overflow: auto;}#sk-container-id-1 input.sk-toggleable__control:checked~label.sk-toggleable__label-arrow:before {content: \"▾\";}#sk-container-id-1 div.sk-estimator input.sk-toggleable__control:checked~label.sk-toggleable__label {background-color: #d4ebff;}#sk-container-id-1 div.sk-label input.sk-toggleable__control:checked~label.sk-toggleable__label {background-color: #d4ebff;}#sk-container-id-1 input.sk-hidden--visually {border: 0;clip: rect(1px 1px 1px 1px);clip: rect(1px, 1px, 1px, 1px);height: 1px;margin: -1px;overflow: hidden;padding: 0;position: absolute;width: 1px;}#sk-container-id-1 div.sk-estimator {font-family: monospace;background-color: #f0f8ff;border: 1px dotted black;border-radius: 0.25em;box-sizing: border-box;margin-bottom: 0.5em;}#sk-container-id-1 div.sk-estimator:hover {background-color: #d4ebff;}#sk-container-id-1 div.sk-parallel-item::after {content: \"\";width: 100%;border-bottom: 1px solid gray;flex-grow: 1;}#sk-container-id-1 div.sk-label:hover label.sk-toggleable__label {background-color: #d4ebff;}#sk-container-id-1 div.sk-serial::before {content: \"\";position: absolute;border-left: 1px solid gray;box-sizing: border-box;top: 0;bottom: 0;left: 50%;z-index: 0;}#sk-container-id-1 div.sk-serial {display: flex;flex-direction: column;align-items: center;background-color: white;padding-right: 0.2em;padding-left: 0.2em;position: relative;}#sk-container-id-1 div.sk-item {position: relative;z-index: 1;}#sk-container-id-1 div.sk-parallel {display: flex;align-items: stretch;justify-content: center;background-color: white;position: relative;}#sk-container-id-1 div.sk-item::before, #sk-container-id-1 div.sk-parallel-item::before {content: \"\";position: absolute;border-left: 1px solid gray;box-sizing: border-box;top: 0;bottom: 0;left: 50%;z-index: -1;}#sk-container-id-1 div.sk-parallel-item {display: flex;flex-direction: column;z-index: 1;position: relative;background-color: white;}#sk-container-id-1 div.sk-parallel-item:first-child::after {align-self: flex-end;width: 50%;}#sk-container-id-1 div.sk-parallel-item:last-child::after {align-self: flex-start;width: 50%;}#sk-container-id-1 div.sk-parallel-item:only-child::after {width: 0;}#sk-container-id-1 div.sk-dashed-wrapped {border: 1px dashed gray;margin: 0 0.4em 0.5em 0.4em;box-sizing: border-box;padding-bottom: 0.4em;background-color: white;}#sk-container-id-1 div.sk-label label {font-family: monospace;font-weight: bold;display: inline-block;line-height: 1.2em;}#sk-container-id-1 div.sk-label-container {text-align: center;}#sk-container-id-1 div.sk-container {/* jupyter's `normalize.less` sets `[hidden] { display: none; }` but bootstrap.min.css set `[hidden] { display: none !important; }` so we also need the `!important` here to be able to override the default hidden behavior on the sphinx rendered scikit-learn.org. See: https://github.com/scikit-learn/scikit-learn/issues/21755 */display: inline-block !important;position: relative;}#sk-container-id-1 div.sk-text-repr-fallback {display: none;}</style><div id=\"sk-container-id-1\" class=\"sk-top-container\"><div class=\"sk-text-repr-fallback\"><pre>IterativeImputer(random_state=42)</pre><b>In a Jupyter environment, please rerun this cell to show the HTML representation or trust the notebook. <br />On GitHub, the HTML representation is unable to render, please try loading this page with nbviewer.org.</b></div><div class=\"sk-container\" hidden><div class=\"sk-item\"><div class=\"sk-estimator sk-toggleable\"><input class=\"sk-toggleable__control sk-hidden--visually\" id=\"sk-estimator-id-1\" type=\"checkbox\" checked><label for=\"sk-estimator-id-1\" class=\"sk-toggleable__label sk-toggleable__label-arrow\">IterativeImputer</label><div class=\"sk-toggleable__content\"><pre>IterativeImputer(random_state=42)</pre></div></div></div></div></div>"
      ],
      "text/plain": [
       "IterativeImputer(random_state=42)"
      ]
     },
     "execution_count": 53,
     "metadata": {},
     "output_type": "execute_result"
    }
   ],
   "source": [
    "iter_imputer = IterativeImputer(random_state=42)\n",
    "# fit on the dataset\n",
    "iter_imputer.fit(feature_Trans1)"
   ]
  },
  {
   "cell_type": "code",
   "execution_count": 54,
   "id": "fb5cfeb1-2f44-41aa-9851-59a9f099aaea",
   "metadata": {},
   "outputs": [],
   "source": [
    "Xtrans1=iter_imputer.transform(feature_Trans1)"
   ]
  },
  {
   "cell_type": "code",
   "execution_count": 55,
   "id": "de26e444-5ea2-435e-91a9-d8bb38126352",
   "metadata": {},
   "outputs": [
    {
     "data": {
      "text/html": [
       "<div>\n",
       "<style scoped>\n",
       "    .dataframe tbody tr th:only-of-type {\n",
       "        vertical-align: middle;\n",
       "    }\n",
       "\n",
       "    .dataframe tbody tr th {\n",
       "        vertical-align: top;\n",
       "    }\n",
       "\n",
       "    .dataframe thead th {\n",
       "        text-align: right;\n",
       "    }\n",
       "</style>\n",
       "<table border=\"1\" class=\"dataframe\">\n",
       "  <thead>\n",
       "    <tr style=\"text-align: right;\">\n",
       "      <th></th>\n",
       "      <th>0</th>\n",
       "      <th>1</th>\n",
       "      <th>2</th>\n",
       "      <th>3</th>\n",
       "      <th>4</th>\n",
       "      <th>5</th>\n",
       "      <th>6</th>\n",
       "      <th>7</th>\n",
       "      <th>8</th>\n",
       "      <th>9</th>\n",
       "      <th>...</th>\n",
       "      <th>68</th>\n",
       "      <th>69</th>\n",
       "      <th>70</th>\n",
       "      <th>71</th>\n",
       "      <th>72</th>\n",
       "      <th>73</th>\n",
       "      <th>74</th>\n",
       "      <th>75</th>\n",
       "      <th>76</th>\n",
       "      <th>77</th>\n",
       "    </tr>\n",
       "  </thead>\n",
       "  <tbody>\n",
       "    <tr>\n",
       "      <th>0</th>\n",
       "      <td>22.875</td>\n",
       "      <td>22.062</td>\n",
       "      <td>23.312</td>\n",
       "      <td>21.250</td>\n",
       "      <td>21.812</td>\n",
       "      <td>22.687</td>\n",
       "      <td>23.500</td>\n",
       "      <td>22.062</td>\n",
       "      <td>23.375</td>\n",
       "      <td>24.062</td>\n",
       "      <td>...</td>\n",
       "      <td>406.685944</td>\n",
       "      <td>415.992929</td>\n",
       "      <td>389.256802</td>\n",
       "      <td>396.991749</td>\n",
       "      <td>424.593745</td>\n",
       "      <td>411.501573</td>\n",
       "      <td>398.580055</td>\n",
       "      <td>395.910296</td>\n",
       "      <td>396.126202</td>\n",
       "      <td>400.775840</td>\n",
       "    </tr>\n",
       "    <tr>\n",
       "      <th>1</th>\n",
       "      <td>22.937</td>\n",
       "      <td>22.750</td>\n",
       "      <td>23.375</td>\n",
       "      <td>21.937</td>\n",
       "      <td>21.812</td>\n",
       "      <td>22.687</td>\n",
       "      <td>23.500</td>\n",
       "      <td>21.937</td>\n",
       "      <td>23.125</td>\n",
       "      <td>24.000</td>\n",
       "      <td>...</td>\n",
       "      <td>406.553695</td>\n",
       "      <td>414.253415</td>\n",
       "      <td>394.675041</td>\n",
       "      <td>400.067085</td>\n",
       "      <td>418.523336</td>\n",
       "      <td>404.521478</td>\n",
       "      <td>394.691263</td>\n",
       "      <td>389.072032</td>\n",
       "      <td>401.234544</td>\n",
       "      <td>400.602436</td>\n",
       "    </tr>\n",
       "    <tr>\n",
       "      <th>2</th>\n",
       "      <td>22.937</td>\n",
       "      <td>22.875</td>\n",
       "      <td>23.312</td>\n",
       "      <td>22.312</td>\n",
       "      <td>21.875</td>\n",
       "      <td>22.812</td>\n",
       "      <td>23.562</td>\n",
       "      <td>21.937</td>\n",
       "      <td>23.125</td>\n",
       "      <td>24.250</td>\n",
       "      <td>...</td>\n",
       "      <td>406.863198</td>\n",
       "      <td>415.252374</td>\n",
       "      <td>395.388469</td>\n",
       "      <td>399.975718</td>\n",
       "      <td>419.706410</td>\n",
       "      <td>405.012621</td>\n",
       "      <td>394.512564</td>\n",
       "      <td>389.146739</td>\n",
       "      <td>400.758278</td>\n",
       "      <td>400.250780</td>\n",
       "    </tr>\n",
       "    <tr>\n",
       "      <th>3</th>\n",
       "      <td>22.937</td>\n",
       "      <td>23.000</td>\n",
       "      <td>23.375</td>\n",
       "      <td>22.375</td>\n",
       "      <td>21.812</td>\n",
       "      <td>22.812</td>\n",
       "      <td>23.125</td>\n",
       "      <td>21.750</td>\n",
       "      <td>23.375</td>\n",
       "      <td>24.187</td>\n",
       "      <td>...</td>\n",
       "      <td>407.687128</td>\n",
       "      <td>415.756245</td>\n",
       "      <td>397.184922</td>\n",
       "      <td>399.769783</td>\n",
       "      <td>421.018314</td>\n",
       "      <td>404.065852</td>\n",
       "      <td>395.098470</td>\n",
       "      <td>388.186024</td>\n",
       "      <td>402.832261</td>\n",
       "      <td>400.851355</td>\n",
       "    </tr>\n",
       "    <tr>\n",
       "      <th>4</th>\n",
       "      <td>23.000</td>\n",
       "      <td>23.000</td>\n",
       "      <td>23.312</td>\n",
       "      <td>22.437</td>\n",
       "      <td>21.812</td>\n",
       "      <td>22.937</td>\n",
       "      <td>23.187</td>\n",
       "      <td>21.937</td>\n",
       "      <td>23.875</td>\n",
       "      <td>24.187</td>\n",
       "      <td>...</td>\n",
       "      <td>409.561437</td>\n",
       "      <td>416.690097</td>\n",
       "      <td>397.047590</td>\n",
       "      <td>399.723561</td>\n",
       "      <td>422.489866</td>\n",
       "      <td>404.921736</td>\n",
       "      <td>395.422597</td>\n",
       "      <td>388.761375</td>\n",
       "      <td>403.299026</td>\n",
       "      <td>400.839110</td>\n",
       "    </tr>\n",
       "    <tr>\n",
       "      <th>...</th>\n",
       "      <td>...</td>\n",
       "      <td>...</td>\n",
       "      <td>...</td>\n",
       "      <td>...</td>\n",
       "      <td>...</td>\n",
       "      <td>...</td>\n",
       "      <td>...</td>\n",
       "      <td>...</td>\n",
       "      <td>...</td>\n",
       "      <td>...</td>\n",
       "      <td>...</td>\n",
       "      <td>...</td>\n",
       "      <td>...</td>\n",
       "      <td>...</td>\n",
       "      <td>...</td>\n",
       "      <td>...</td>\n",
       "      <td>...</td>\n",
       "      <td>...</td>\n",
       "      <td>...</td>\n",
       "      <td>...</td>\n",
       "      <td>...</td>\n",
       "    </tr>\n",
       "    <tr>\n",
       "      <th>156412</th>\n",
       "      <td>22.000</td>\n",
       "      <td>21.562</td>\n",
       "      <td>22.187</td>\n",
       "      <td>19.937</td>\n",
       "      <td>19.937</td>\n",
       "      <td>19.125</td>\n",
       "      <td>19.437</td>\n",
       "      <td>19.062</td>\n",
       "      <td>22.125</td>\n",
       "      <td>21.750</td>\n",
       "      <td>...</td>\n",
       "      <td>431.000000</td>\n",
       "      <td>406.000000</td>\n",
       "      <td>412.000000</td>\n",
       "      <td>411.000000</td>\n",
       "      <td>402.000000</td>\n",
       "      <td>412.000000</td>\n",
       "      <td>395.000000</td>\n",
       "      <td>404.000000</td>\n",
       "      <td>398.000000</td>\n",
       "      <td>409.000000</td>\n",
       "    </tr>\n",
       "    <tr>\n",
       "      <th>156413</th>\n",
       "      <td>22.062</td>\n",
       "      <td>21.625</td>\n",
       "      <td>22.187</td>\n",
       "      <td>19.937</td>\n",
       "      <td>19.937</td>\n",
       "      <td>19.375</td>\n",
       "      <td>19.500</td>\n",
       "      <td>19.187</td>\n",
       "      <td>22.000</td>\n",
       "      <td>21.625</td>\n",
       "      <td>...</td>\n",
       "      <td>400.000000</td>\n",
       "      <td>411.000000</td>\n",
       "      <td>419.000000</td>\n",
       "      <td>415.000000</td>\n",
       "      <td>405.000000</td>\n",
       "      <td>408.000000</td>\n",
       "      <td>398.000000</td>\n",
       "      <td>404.000000</td>\n",
       "      <td>409.000000</td>\n",
       "      <td>393.000000</td>\n",
       "    </tr>\n",
       "    <tr>\n",
       "      <th>156414</th>\n",
       "      <td>22.125</td>\n",
       "      <td>21.687</td>\n",
       "      <td>22.000</td>\n",
       "      <td>19.937</td>\n",
       "      <td>19.875</td>\n",
       "      <td>19.125</td>\n",
       "      <td>19.562</td>\n",
       "      <td>19.062</td>\n",
       "      <td>22.500</td>\n",
       "      <td>21.687</td>\n",
       "      <td>...</td>\n",
       "      <td>409.000000</td>\n",
       "      <td>411.000000</td>\n",
       "      <td>423.000000</td>\n",
       "      <td>414.000000</td>\n",
       "      <td>405.000000</td>\n",
       "      <td>403.000000</td>\n",
       "      <td>392.000000</td>\n",
       "      <td>400.000000</td>\n",
       "      <td>416.000000</td>\n",
       "      <td>403.000000</td>\n",
       "    </tr>\n",
       "    <tr>\n",
       "      <th>156415</th>\n",
       "      <td>22.312</td>\n",
       "      <td>21.625</td>\n",
       "      <td>22.437</td>\n",
       "      <td>20.125</td>\n",
       "      <td>20.000</td>\n",
       "      <td>19.375</td>\n",
       "      <td>19.687</td>\n",
       "      <td>19.375</td>\n",
       "      <td>22.687</td>\n",
       "      <td>21.750</td>\n",
       "      <td>...</td>\n",
       "      <td>410.000000</td>\n",
       "      <td>414.000000</td>\n",
       "      <td>406.000000</td>\n",
       "      <td>425.000000</td>\n",
       "      <td>404.000000</td>\n",
       "      <td>407.000000</td>\n",
       "      <td>404.000000</td>\n",
       "      <td>409.000000</td>\n",
       "      <td>418.000000</td>\n",
       "      <td>404.000000</td>\n",
       "    </tr>\n",
       "    <tr>\n",
       "      <th>156416</th>\n",
       "      <td>22.437</td>\n",
       "      <td>21.625</td>\n",
       "      <td>22.312</td>\n",
       "      <td>20.062</td>\n",
       "      <td>20.062</td>\n",
       "      <td>19.312</td>\n",
       "      <td>19.687</td>\n",
       "      <td>19.312</td>\n",
       "      <td>22.562</td>\n",
       "      <td>21.875</td>\n",
       "      <td>...</td>\n",
       "      <td>412.000000</td>\n",
       "      <td>408.000000</td>\n",
       "      <td>408.000000</td>\n",
       "      <td>410.000000</td>\n",
       "      <td>409.000000</td>\n",
       "      <td>411.000000</td>\n",
       "      <td>411.000000</td>\n",
       "      <td>412.000000</td>\n",
       "      <td>412.000000</td>\n",
       "      <td>403.000000</td>\n",
       "    </tr>\n",
       "  </tbody>\n",
       "</table>\n",
       "<p>156417 rows × 78 columns</p>\n",
       "</div>"
      ],
      "text/plain": [
       "            0       1       2       3       4       5       6       7   \\\n",
       "0       22.875  22.062  23.312  21.250  21.812  22.687  23.500  22.062   \n",
       "1       22.937  22.750  23.375  21.937  21.812  22.687  23.500  21.937   \n",
       "2       22.937  22.875  23.312  22.312  21.875  22.812  23.562  21.937   \n",
       "3       22.937  23.000  23.375  22.375  21.812  22.812  23.125  21.750   \n",
       "4       23.000  23.000  23.312  22.437  21.812  22.937  23.187  21.937   \n",
       "...        ...     ...     ...     ...     ...     ...     ...     ...   \n",
       "156412  22.000  21.562  22.187  19.937  19.937  19.125  19.437  19.062   \n",
       "156413  22.062  21.625  22.187  19.937  19.937  19.375  19.500  19.187   \n",
       "156414  22.125  21.687  22.000  19.937  19.875  19.125  19.562  19.062   \n",
       "156415  22.312  21.625  22.437  20.125  20.000  19.375  19.687  19.375   \n",
       "156416  22.437  21.625  22.312  20.062  20.062  19.312  19.687  19.312   \n",
       "\n",
       "            8       9   ...          68          69          70          71  \\\n",
       "0       23.375  24.062  ...  406.685944  415.992929  389.256802  396.991749   \n",
       "1       23.125  24.000  ...  406.553695  414.253415  394.675041  400.067085   \n",
       "2       23.125  24.250  ...  406.863198  415.252374  395.388469  399.975718   \n",
       "3       23.375  24.187  ...  407.687128  415.756245  397.184922  399.769783   \n",
       "4       23.875  24.187  ...  409.561437  416.690097  397.047590  399.723561   \n",
       "...        ...     ...  ...         ...         ...         ...         ...   \n",
       "156412  22.125  21.750  ...  431.000000  406.000000  412.000000  411.000000   \n",
       "156413  22.000  21.625  ...  400.000000  411.000000  419.000000  415.000000   \n",
       "156414  22.500  21.687  ...  409.000000  411.000000  423.000000  414.000000   \n",
       "156415  22.687  21.750  ...  410.000000  414.000000  406.000000  425.000000   \n",
       "156416  22.562  21.875  ...  412.000000  408.000000  408.000000  410.000000   \n",
       "\n",
       "                72          73          74          75          76          77  \n",
       "0       424.593745  411.501573  398.580055  395.910296  396.126202  400.775840  \n",
       "1       418.523336  404.521478  394.691263  389.072032  401.234544  400.602436  \n",
       "2       419.706410  405.012621  394.512564  389.146739  400.758278  400.250780  \n",
       "3       421.018314  404.065852  395.098470  388.186024  402.832261  400.851355  \n",
       "4       422.489866  404.921736  395.422597  388.761375  403.299026  400.839110  \n",
       "...            ...         ...         ...         ...         ...         ...  \n",
       "156412  402.000000  412.000000  395.000000  404.000000  398.000000  409.000000  \n",
       "156413  405.000000  408.000000  398.000000  404.000000  409.000000  393.000000  \n",
       "156414  405.000000  403.000000  392.000000  400.000000  416.000000  403.000000  \n",
       "156415  404.000000  407.000000  404.000000  409.000000  418.000000  404.000000  \n",
       "156416  409.000000  411.000000  411.000000  412.000000  412.000000  403.000000  \n",
       "\n",
       "[156417 rows x 78 columns]"
      ]
     },
     "execution_count": 55,
     "metadata": {},
     "output_type": "execute_result"
    }
   ],
   "source": [
    "Xtrans1=pd.DataFrame(Xtrans1.tolist())\n",
    "Xtrans1"
   ]
  },
  {
   "cell_type": "code",
   "execution_count": 56,
   "id": "97296c7b-2530-4875-a2d8-73f77c123433",
   "metadata": {},
   "outputs": [],
   "source": [
    "Xtrans1.columns=feature_Trans1.columns"
   ]
  },
  {
   "cell_type": "code",
   "execution_count": 57,
   "id": "0c07ec86-53ba-47a5-a39a-a8c2a320fd6f",
   "metadata": {},
   "outputs": [
    {
     "data": {
      "text/html": [
       "<div>\n",
       "<style scoped>\n",
       "    .dataframe tbody tr th:only-of-type {\n",
       "        vertical-align: middle;\n",
       "    }\n",
       "\n",
       "    .dataframe tbody tr th {\n",
       "        vertical-align: top;\n",
       "    }\n",
       "\n",
       "    .dataframe thead th {\n",
       "        text-align: right;\n",
       "    }\n",
       "</style>\n",
       "<table border=\"1\" class=\"dataframe\">\n",
       "  <thead>\n",
       "    <tr style=\"text-align: right;\">\n",
       "      <th></th>\n",
       "      <th>cerc_templogger_1</th>\n",
       "      <th>cerc_templogger_10</th>\n",
       "      <th>cerc_templogger_11</th>\n",
       "      <th>cerc_templogger_12</th>\n",
       "      <th>cerc_templogger_13</th>\n",
       "      <th>cerc_templogger_14</th>\n",
       "      <th>cerc_templogger_15</th>\n",
       "      <th>cerc_templogger_16</th>\n",
       "      <th>cerc_templogger_2</th>\n",
       "      <th>cerc_templogger_3</th>\n",
       "      <th>...</th>\n",
       "      <th>zone_028_co2</th>\n",
       "      <th>zone_033_co2</th>\n",
       "      <th>zone_040_co2</th>\n",
       "      <th>zone_044_co2</th>\n",
       "      <th>zone_045_co2</th>\n",
       "      <th>zone_052_co2</th>\n",
       "      <th>zone_058_co2</th>\n",
       "      <th>zone_062_co2</th>\n",
       "      <th>zone_068_co2</th>\n",
       "      <th>zone_072_co2</th>\n",
       "    </tr>\n",
       "  </thead>\n",
       "  <tbody>\n",
       "    <tr>\n",
       "      <th>0</th>\n",
       "      <td>22.875</td>\n",
       "      <td>22.062</td>\n",
       "      <td>23.312</td>\n",
       "      <td>21.250</td>\n",
       "      <td>21.812</td>\n",
       "      <td>22.687</td>\n",
       "      <td>23.500</td>\n",
       "      <td>22.062</td>\n",
       "      <td>23.375</td>\n",
       "      <td>24.062</td>\n",
       "      <td>...</td>\n",
       "      <td>406.685944</td>\n",
       "      <td>415.992929</td>\n",
       "      <td>389.256802</td>\n",
       "      <td>396.991749</td>\n",
       "      <td>424.593745</td>\n",
       "      <td>411.501573</td>\n",
       "      <td>398.580055</td>\n",
       "      <td>395.910296</td>\n",
       "      <td>396.126202</td>\n",
       "      <td>400.775840</td>\n",
       "    </tr>\n",
       "    <tr>\n",
       "      <th>1</th>\n",
       "      <td>22.937</td>\n",
       "      <td>22.750</td>\n",
       "      <td>23.375</td>\n",
       "      <td>21.937</td>\n",
       "      <td>21.812</td>\n",
       "      <td>22.687</td>\n",
       "      <td>23.500</td>\n",
       "      <td>21.937</td>\n",
       "      <td>23.125</td>\n",
       "      <td>24.000</td>\n",
       "      <td>...</td>\n",
       "      <td>406.553695</td>\n",
       "      <td>414.253415</td>\n",
       "      <td>394.675041</td>\n",
       "      <td>400.067085</td>\n",
       "      <td>418.523336</td>\n",
       "      <td>404.521478</td>\n",
       "      <td>394.691263</td>\n",
       "      <td>389.072032</td>\n",
       "      <td>401.234544</td>\n",
       "      <td>400.602436</td>\n",
       "    </tr>\n",
       "    <tr>\n",
       "      <th>2</th>\n",
       "      <td>22.937</td>\n",
       "      <td>22.875</td>\n",
       "      <td>23.312</td>\n",
       "      <td>22.312</td>\n",
       "      <td>21.875</td>\n",
       "      <td>22.812</td>\n",
       "      <td>23.562</td>\n",
       "      <td>21.937</td>\n",
       "      <td>23.125</td>\n",
       "      <td>24.250</td>\n",
       "      <td>...</td>\n",
       "      <td>406.863198</td>\n",
       "      <td>415.252374</td>\n",
       "      <td>395.388469</td>\n",
       "      <td>399.975718</td>\n",
       "      <td>419.706410</td>\n",
       "      <td>405.012621</td>\n",
       "      <td>394.512564</td>\n",
       "      <td>389.146739</td>\n",
       "      <td>400.758278</td>\n",
       "      <td>400.250780</td>\n",
       "    </tr>\n",
       "    <tr>\n",
       "      <th>3</th>\n",
       "      <td>22.937</td>\n",
       "      <td>23.000</td>\n",
       "      <td>23.375</td>\n",
       "      <td>22.375</td>\n",
       "      <td>21.812</td>\n",
       "      <td>22.812</td>\n",
       "      <td>23.125</td>\n",
       "      <td>21.750</td>\n",
       "      <td>23.375</td>\n",
       "      <td>24.187</td>\n",
       "      <td>...</td>\n",
       "      <td>407.687128</td>\n",
       "      <td>415.756245</td>\n",
       "      <td>397.184922</td>\n",
       "      <td>399.769783</td>\n",
       "      <td>421.018314</td>\n",
       "      <td>404.065852</td>\n",
       "      <td>395.098470</td>\n",
       "      <td>388.186024</td>\n",
       "      <td>402.832261</td>\n",
       "      <td>400.851355</td>\n",
       "    </tr>\n",
       "    <tr>\n",
       "      <th>4</th>\n",
       "      <td>23.000</td>\n",
       "      <td>23.000</td>\n",
       "      <td>23.312</td>\n",
       "      <td>22.437</td>\n",
       "      <td>21.812</td>\n",
       "      <td>22.937</td>\n",
       "      <td>23.187</td>\n",
       "      <td>21.937</td>\n",
       "      <td>23.875</td>\n",
       "      <td>24.187</td>\n",
       "      <td>...</td>\n",
       "      <td>409.561437</td>\n",
       "      <td>416.690097</td>\n",
       "      <td>397.047590</td>\n",
       "      <td>399.723561</td>\n",
       "      <td>422.489866</td>\n",
       "      <td>404.921736</td>\n",
       "      <td>395.422597</td>\n",
       "      <td>388.761375</td>\n",
       "      <td>403.299026</td>\n",
       "      <td>400.839110</td>\n",
       "    </tr>\n",
       "  </tbody>\n",
       "</table>\n",
       "<p>5 rows × 78 columns</p>\n",
       "</div>"
      ],
      "text/plain": [
       "   cerc_templogger_1  cerc_templogger_10  cerc_templogger_11  \\\n",
       "0             22.875              22.062              23.312   \n",
       "1             22.937              22.750              23.375   \n",
       "2             22.937              22.875              23.312   \n",
       "3             22.937              23.000              23.375   \n",
       "4             23.000              23.000              23.312   \n",
       "\n",
       "   cerc_templogger_12  cerc_templogger_13  cerc_templogger_14  \\\n",
       "0              21.250              21.812              22.687   \n",
       "1              21.937              21.812              22.687   \n",
       "2              22.312              21.875              22.812   \n",
       "3              22.375              21.812              22.812   \n",
       "4              22.437              21.812              22.937   \n",
       "\n",
       "   cerc_templogger_15  cerc_templogger_16  cerc_templogger_2  \\\n",
       "0              23.500              22.062             23.375   \n",
       "1              23.500              21.937             23.125   \n",
       "2              23.562              21.937             23.125   \n",
       "3              23.125              21.750             23.375   \n",
       "4              23.187              21.937             23.875   \n",
       "\n",
       "   cerc_templogger_3  ...  zone_028_co2  zone_033_co2  zone_040_co2  \\\n",
       "0             24.062  ...    406.685944    415.992929    389.256802   \n",
       "1             24.000  ...    406.553695    414.253415    394.675041   \n",
       "2             24.250  ...    406.863198    415.252374    395.388469   \n",
       "3             24.187  ...    407.687128    415.756245    397.184922   \n",
       "4             24.187  ...    409.561437    416.690097    397.047590   \n",
       "\n",
       "   zone_044_co2  zone_045_co2  zone_052_co2  zone_058_co2  zone_062_co2  \\\n",
       "0    396.991749    424.593745    411.501573    398.580055    395.910296   \n",
       "1    400.067085    418.523336    404.521478    394.691263    389.072032   \n",
       "2    399.975718    419.706410    405.012621    394.512564    389.146739   \n",
       "3    399.769783    421.018314    404.065852    395.098470    388.186024   \n",
       "4    399.723561    422.489866    404.921736    395.422597    388.761375   \n",
       "\n",
       "   zone_068_co2  zone_072_co2  \n",
       "0    396.126202    400.775840  \n",
       "1    401.234544    400.602436  \n",
       "2    400.758278    400.250780  \n",
       "3    402.832261    400.851355  \n",
       "4    403.299026    400.839110  \n",
       "\n",
       "[5 rows x 78 columns]"
      ]
     },
     "execution_count": 57,
     "metadata": {},
     "output_type": "execute_result"
    }
   ],
   "source": [
    "Xtrans1.head()"
   ]
  },
  {
   "cell_type": "code",
   "execution_count": 58,
   "id": "441b68ff-bdf8-4874-9759-f4168b8ceba1",
   "metadata": {},
   "outputs": [],
   "source": [
    "#Replacing transformed columns backinto Merge_indoor_outdoor dataframe \n",
    "#Xtrans1.columns=X.columns\n",
    "Merge_zonetemp_co2.loc[:,'cerc_templogger_1':'zone_072_co2']=Xtrans1"
   ]
  },
  {
   "cell_type": "code",
   "execution_count": 59,
   "id": "305511f3-7b3d-495e-94b5-1157b5fdead5",
   "metadata": {},
   "outputs": [],
   "source": [
    "#Merge_zonetemp_co2=Xtrans1"
   ]
  },
  {
   "cell_type": "code",
   "execution_count": 60,
   "id": "dfff9a88-7034-470d-aabc-5b266d17d611",
   "metadata": {},
   "outputs": [
    {
     "data": {
      "text/plain": [
       "date                  0\n",
       "cerc_templogger_1     0\n",
       "cerc_templogger_10    0\n",
       "cerc_templogger_11    0\n",
       "cerc_templogger_12    0\n",
       "                     ..\n",
       "zone_052_co2          0\n",
       "zone_058_co2          0\n",
       "zone_062_co2          0\n",
       "zone_068_co2          0\n",
       "zone_072_co2          0\n",
       "Length: 79, dtype: int64"
      ]
     },
     "execution_count": 60,
     "metadata": {},
     "output_type": "execute_result"
    }
   ],
   "source": [
    "Merge_zonetemp_co2.isnull().sum()"
   ]
  },
  {
   "cell_type": "code",
   "execution_count": 61,
   "id": "82800838-45c2-4fa1-b6d9-cecc8008f019",
   "metadata": {},
   "outputs": [
    {
     "data": {
      "text/plain": [
       "date                  0.0\n",
       "cerc_templogger_1     0.0\n",
       "cerc_templogger_10    0.0\n",
       "cerc_templogger_11    0.0\n",
       "cerc_templogger_12    0.0\n",
       "                     ... \n",
       "zone_052_co2          0.0\n",
       "zone_058_co2          0.0\n",
       "zone_062_co2          0.0\n",
       "zone_068_co2          0.0\n",
       "zone_072_co2          0.0\n",
       "Length: 79, dtype: float64"
      ]
     },
     "execution_count": 61,
     "metadata": {},
     "output_type": "execute_result"
    }
   ],
   "source": [
    "#Percentage of null values in each columns\n",
    "Merge_zonetemp_co2.isnull().sum() * 100 / len(Merge_zonetemp_co2)"
   ]
  },
  {
   "cell_type": "code",
   "execution_count": 62,
   "id": "9848f616-ef60-4709-819f-67ae0686d785",
   "metadata": {},
   "outputs": [
    {
     "data": {
      "text/html": [
       "<div>\n",
       "<style scoped>\n",
       "    .dataframe tbody tr th:only-of-type {\n",
       "        vertical-align: middle;\n",
       "    }\n",
       "\n",
       "    .dataframe tbody tr th {\n",
       "        vertical-align: top;\n",
       "    }\n",
       "\n",
       "    .dataframe thead th {\n",
       "        text-align: right;\n",
       "    }\n",
       "</style>\n",
       "<table border=\"1\" class=\"dataframe\">\n",
       "  <thead>\n",
       "    <tr style=\"text-align: right;\">\n",
       "      <th></th>\n",
       "      <th>date</th>\n",
       "      <th>cerc_templogger_1</th>\n",
       "      <th>cerc_templogger_10</th>\n",
       "      <th>cerc_templogger_11</th>\n",
       "      <th>cerc_templogger_12</th>\n",
       "      <th>cerc_templogger_13</th>\n",
       "      <th>cerc_templogger_14</th>\n",
       "      <th>cerc_templogger_15</th>\n",
       "      <th>cerc_templogger_16</th>\n",
       "      <th>cerc_templogger_2</th>\n",
       "      <th>...</th>\n",
       "      <th>zone_028_co2</th>\n",
       "      <th>zone_033_co2</th>\n",
       "      <th>zone_040_co2</th>\n",
       "      <th>zone_044_co2</th>\n",
       "      <th>zone_045_co2</th>\n",
       "      <th>zone_052_co2</th>\n",
       "      <th>zone_058_co2</th>\n",
       "      <th>zone_062_co2</th>\n",
       "      <th>zone_068_co2</th>\n",
       "      <th>zone_072_co2</th>\n",
       "    </tr>\n",
       "  </thead>\n",
       "  <tbody>\n",
       "    <tr>\n",
       "      <th>0</th>\n",
       "      <td>2018-02-22 00:30:00</td>\n",
       "      <td>22.875</td>\n",
       "      <td>22.062</td>\n",
       "      <td>23.312</td>\n",
       "      <td>21.250</td>\n",
       "      <td>21.812</td>\n",
       "      <td>22.687</td>\n",
       "      <td>23.500</td>\n",
       "      <td>22.062</td>\n",
       "      <td>23.375</td>\n",
       "      <td>...</td>\n",
       "      <td>406.685944</td>\n",
       "      <td>415.992929</td>\n",
       "      <td>389.256802</td>\n",
       "      <td>396.991749</td>\n",
       "      <td>424.593745</td>\n",
       "      <td>411.501573</td>\n",
       "      <td>398.580055</td>\n",
       "      <td>395.910296</td>\n",
       "      <td>396.126202</td>\n",
       "      <td>400.775840</td>\n",
       "    </tr>\n",
       "    <tr>\n",
       "      <th>1</th>\n",
       "      <td>2018-02-22 00:40:00</td>\n",
       "      <td>22.937</td>\n",
       "      <td>22.750</td>\n",
       "      <td>23.375</td>\n",
       "      <td>21.937</td>\n",
       "      <td>21.812</td>\n",
       "      <td>22.687</td>\n",
       "      <td>23.500</td>\n",
       "      <td>21.937</td>\n",
       "      <td>23.125</td>\n",
       "      <td>...</td>\n",
       "      <td>406.553695</td>\n",
       "      <td>414.253415</td>\n",
       "      <td>394.675041</td>\n",
       "      <td>400.067085</td>\n",
       "      <td>418.523336</td>\n",
       "      <td>404.521478</td>\n",
       "      <td>394.691263</td>\n",
       "      <td>389.072032</td>\n",
       "      <td>401.234544</td>\n",
       "      <td>400.602436</td>\n",
       "    </tr>\n",
       "    <tr>\n",
       "      <th>2</th>\n",
       "      <td>2018-02-22 00:50:00</td>\n",
       "      <td>22.937</td>\n",
       "      <td>22.875</td>\n",
       "      <td>23.312</td>\n",
       "      <td>22.312</td>\n",
       "      <td>21.875</td>\n",
       "      <td>22.812</td>\n",
       "      <td>23.562</td>\n",
       "      <td>21.937</td>\n",
       "      <td>23.125</td>\n",
       "      <td>...</td>\n",
       "      <td>406.863198</td>\n",
       "      <td>415.252374</td>\n",
       "      <td>395.388469</td>\n",
       "      <td>399.975718</td>\n",
       "      <td>419.706410</td>\n",
       "      <td>405.012621</td>\n",
       "      <td>394.512564</td>\n",
       "      <td>389.146739</td>\n",
       "      <td>400.758278</td>\n",
       "      <td>400.250780</td>\n",
       "    </tr>\n",
       "    <tr>\n",
       "      <th>3</th>\n",
       "      <td>2018-02-22 01:00:00</td>\n",
       "      <td>22.937</td>\n",
       "      <td>23.000</td>\n",
       "      <td>23.375</td>\n",
       "      <td>22.375</td>\n",
       "      <td>21.812</td>\n",
       "      <td>22.812</td>\n",
       "      <td>23.125</td>\n",
       "      <td>21.750</td>\n",
       "      <td>23.375</td>\n",
       "      <td>...</td>\n",
       "      <td>407.687128</td>\n",
       "      <td>415.756245</td>\n",
       "      <td>397.184922</td>\n",
       "      <td>399.769783</td>\n",
       "      <td>421.018314</td>\n",
       "      <td>404.065852</td>\n",
       "      <td>395.098470</td>\n",
       "      <td>388.186024</td>\n",
       "      <td>402.832261</td>\n",
       "      <td>400.851355</td>\n",
       "    </tr>\n",
       "    <tr>\n",
       "      <th>4</th>\n",
       "      <td>2018-02-22 01:10:00</td>\n",
       "      <td>23.000</td>\n",
       "      <td>23.000</td>\n",
       "      <td>23.312</td>\n",
       "      <td>22.437</td>\n",
       "      <td>21.812</td>\n",
       "      <td>22.937</td>\n",
       "      <td>23.187</td>\n",
       "      <td>21.937</td>\n",
       "      <td>23.875</td>\n",
       "      <td>...</td>\n",
       "      <td>409.561437</td>\n",
       "      <td>416.690097</td>\n",
       "      <td>397.047590</td>\n",
       "      <td>399.723561</td>\n",
       "      <td>422.489866</td>\n",
       "      <td>404.921736</td>\n",
       "      <td>395.422597</td>\n",
       "      <td>388.761375</td>\n",
       "      <td>403.299026</td>\n",
       "      <td>400.839110</td>\n",
       "    </tr>\n",
       "  </tbody>\n",
       "</table>\n",
       "<p>5 rows × 79 columns</p>\n",
       "</div>"
      ],
      "text/plain": [
       "                 date  cerc_templogger_1  cerc_templogger_10  \\\n",
       "0 2018-02-22 00:30:00             22.875              22.062   \n",
       "1 2018-02-22 00:40:00             22.937              22.750   \n",
       "2 2018-02-22 00:50:00             22.937              22.875   \n",
       "3 2018-02-22 01:00:00             22.937              23.000   \n",
       "4 2018-02-22 01:10:00             23.000              23.000   \n",
       "\n",
       "   cerc_templogger_11  cerc_templogger_12  cerc_templogger_13  \\\n",
       "0              23.312              21.250              21.812   \n",
       "1              23.375              21.937              21.812   \n",
       "2              23.312              22.312              21.875   \n",
       "3              23.375              22.375              21.812   \n",
       "4              23.312              22.437              21.812   \n",
       "\n",
       "   cerc_templogger_14  cerc_templogger_15  cerc_templogger_16  \\\n",
       "0              22.687              23.500              22.062   \n",
       "1              22.687              23.500              21.937   \n",
       "2              22.812              23.562              21.937   \n",
       "3              22.812              23.125              21.750   \n",
       "4              22.937              23.187              21.937   \n",
       "\n",
       "   cerc_templogger_2  ...  zone_028_co2  zone_033_co2  zone_040_co2  \\\n",
       "0             23.375  ...    406.685944    415.992929    389.256802   \n",
       "1             23.125  ...    406.553695    414.253415    394.675041   \n",
       "2             23.125  ...    406.863198    415.252374    395.388469   \n",
       "3             23.375  ...    407.687128    415.756245    397.184922   \n",
       "4             23.875  ...    409.561437    416.690097    397.047590   \n",
       "\n",
       "   zone_044_co2  zone_045_co2  zone_052_co2  zone_058_co2  zone_062_co2  \\\n",
       "0    396.991749    424.593745    411.501573    398.580055    395.910296   \n",
       "1    400.067085    418.523336    404.521478    394.691263    389.072032   \n",
       "2    399.975718    419.706410    405.012621    394.512564    389.146739   \n",
       "3    399.769783    421.018314    404.065852    395.098470    388.186024   \n",
       "4    399.723561    422.489866    404.921736    395.422597    388.761375   \n",
       "\n",
       "   zone_068_co2  zone_072_co2  \n",
       "0    396.126202    400.775840  \n",
       "1    401.234544    400.602436  \n",
       "2    400.758278    400.250780  \n",
       "3    402.832261    400.851355  \n",
       "4    403.299026    400.839110  \n",
       "\n",
       "[5 rows x 79 columns]"
      ]
     },
     "execution_count": 62,
     "metadata": {},
     "output_type": "execute_result"
    }
   ],
   "source": [
    "Merge_zonetemp_co2.head()"
   ]
  },
  {
   "cell_type": "markdown",
   "id": "77f74af1-6703-4440-af05-7143924c1850",
   "metadata": {},
   "source": [
    "Merge Merge_indoor_outdoor and Merge_zonetemp_co2 dataframes based on date timestamp"
   ]
  },
  {
   "cell_type": "code",
   "execution_count": 63,
   "id": "084ae472-bd35-4a4b-8916-2b83fd715311",
   "metadata": {},
   "outputs": [],
   "source": [
    "all_df=pd.merge(Merge_en, Merge_zonetemp_co2,how='inner')"
   ]
  },
  {
   "cell_type": "code",
   "execution_count": 64,
   "id": "1de9a196-ea50-4e69-a127-e6e2a9c73c01",
   "metadata": {},
   "outputs": [
    {
     "data": {
      "text/html": [
       "<div>\n",
       "<style scoped>\n",
       "    .dataframe tbody tr th:only-of-type {\n",
       "        vertical-align: middle;\n",
       "    }\n",
       "\n",
       "    .dataframe tbody tr th {\n",
       "        vertical-align: top;\n",
       "    }\n",
       "\n",
       "    .dataframe thead th {\n",
       "        text-align: right;\n",
       "    }\n",
       "</style>\n",
       "<table border=\"1\" class=\"dataframe\">\n",
       "  <thead>\n",
       "    <tr style=\"text-align: right;\">\n",
       "      <th></th>\n",
       "      <th>date</th>\n",
       "      <th>hvac_N</th>\n",
       "      <th>hvac_S</th>\n",
       "      <th>air_temp_set_1</th>\n",
       "      <th>air_temp_set_2</th>\n",
       "      <th>dew_point_temperature_set_1d</th>\n",
       "      <th>relative_humidity_set_1</th>\n",
       "      <th>solar_radiation_set_1</th>\n",
       "      <th>zone_016_cooling_sp</th>\n",
       "      <th>zone_017_cooling_sp</th>\n",
       "      <th>...</th>\n",
       "      <th>zone_028_co2</th>\n",
       "      <th>zone_033_co2</th>\n",
       "      <th>zone_040_co2</th>\n",
       "      <th>zone_044_co2</th>\n",
       "      <th>zone_045_co2</th>\n",
       "      <th>zone_052_co2</th>\n",
       "      <th>zone_058_co2</th>\n",
       "      <th>zone_062_co2</th>\n",
       "      <th>zone_068_co2</th>\n",
       "      <th>zone_072_co2</th>\n",
       "    </tr>\n",
       "  </thead>\n",
       "  <tbody>\n",
       "    <tr>\n",
       "      <th>0</th>\n",
       "      <td>2018-02-22 00:30:00</td>\n",
       "      <td>47.816667</td>\n",
       "      <td>18.033333</td>\n",
       "      <td>10.43</td>\n",
       "      <td>10.07</td>\n",
       "      <td>-5.98</td>\n",
       "      <td>31.28</td>\n",
       "      <td>245.60</td>\n",
       "      <td>75.148905</td>\n",
       "      <td>75.141335</td>\n",
       "      <td>...</td>\n",
       "      <td>406.685944</td>\n",
       "      <td>415.992929</td>\n",
       "      <td>389.256802</td>\n",
       "      <td>396.991749</td>\n",
       "      <td>424.593745</td>\n",
       "      <td>411.501573</td>\n",
       "      <td>398.580055</td>\n",
       "      <td>395.910296</td>\n",
       "      <td>396.126202</td>\n",
       "      <td>400.775840</td>\n",
       "    </tr>\n",
       "    <tr>\n",
       "      <th>1</th>\n",
       "      <td>2018-02-22 01:00:00</td>\n",
       "      <td>47.231111</td>\n",
       "      <td>18.122222</td>\n",
       "      <td>9.76</td>\n",
       "      <td>9.51</td>\n",
       "      <td>-4.26</td>\n",
       "      <td>37.27</td>\n",
       "      <td>157.90</td>\n",
       "      <td>75.149101</td>\n",
       "      <td>75.141334</td>\n",
       "      <td>...</td>\n",
       "      <td>407.687128</td>\n",
       "      <td>415.756245</td>\n",
       "      <td>397.184922</td>\n",
       "      <td>399.769783</td>\n",
       "      <td>421.018314</td>\n",
       "      <td>404.065852</td>\n",
       "      <td>395.098470</td>\n",
       "      <td>388.186024</td>\n",
       "      <td>402.832261</td>\n",
       "      <td>400.851355</td>\n",
       "    </tr>\n",
       "    <tr>\n",
       "      <th>2</th>\n",
       "      <td>2018-02-22 01:30:00</td>\n",
       "      <td>46.645556</td>\n",
       "      <td>18.211111</td>\n",
       "      <td>8.99</td>\n",
       "      <td>8.82</td>\n",
       "      <td>-2.81</td>\n",
       "      <td>43.72</td>\n",
       "      <td>67.74</td>\n",
       "      <td>75.149172</td>\n",
       "      <td>75.141365</td>\n",
       "      <td>...</td>\n",
       "      <td>410.183110</td>\n",
       "      <td>417.192094</td>\n",
       "      <td>395.993798</td>\n",
       "      <td>399.566480</td>\n",
       "      <td>425.910259</td>\n",
       "      <td>410.668408</td>\n",
       "      <td>398.382923</td>\n",
       "      <td>395.391205</td>\n",
       "      <td>401.226493</td>\n",
       "      <td>402.923478</td>\n",
       "    </tr>\n",
       "    <tr>\n",
       "      <th>3</th>\n",
       "      <td>2018-02-22 02:00:00</td>\n",
       "      <td>46.060000</td>\n",
       "      <td>18.300000</td>\n",
       "      <td>8.20</td>\n",
       "      <td>8.13</td>\n",
       "      <td>-1.80</td>\n",
       "      <td>49.65</td>\n",
       "      <td>8.35</td>\n",
       "      <td>75.149254</td>\n",
       "      <td>75.141424</td>\n",
       "      <td>...</td>\n",
       "      <td>409.859402</td>\n",
       "      <td>416.382527</td>\n",
       "      <td>393.884073</td>\n",
       "      <td>397.575192</td>\n",
       "      <td>427.659487</td>\n",
       "      <td>410.512872</td>\n",
       "      <td>397.405899</td>\n",
       "      <td>394.419118</td>\n",
       "      <td>400.016849</td>\n",
       "      <td>401.537824</td>\n",
       "    </tr>\n",
       "    <tr>\n",
       "      <th>4</th>\n",
       "      <td>2018-02-22 02:30:00</td>\n",
       "      <td>45.474444</td>\n",
       "      <td>18.388889</td>\n",
       "      <td>7.64</td>\n",
       "      <td>7.67</td>\n",
       "      <td>-1.11</td>\n",
       "      <td>54.23</td>\n",
       "      <td>0.06</td>\n",
       "      <td>75.149453</td>\n",
       "      <td>75.141528</td>\n",
       "      <td>...</td>\n",
       "      <td>411.948647</td>\n",
       "      <td>418.227176</td>\n",
       "      <td>395.753707</td>\n",
       "      <td>400.022452</td>\n",
       "      <td>430.772951</td>\n",
       "      <td>415.229530</td>\n",
       "      <td>401.512520</td>\n",
       "      <td>397.880444</td>\n",
       "      <td>401.598937</td>\n",
       "      <td>403.786239</td>\n",
       "    </tr>\n",
       "  </tbody>\n",
       "</table>\n",
       "<p>5 rows × 168 columns</p>\n",
       "</div>"
      ],
      "text/plain": [
       "                 date     hvac_N     hvac_S  air_temp_set_1  air_temp_set_2  \\\n",
       "0 2018-02-22 00:30:00  47.816667  18.033333           10.43           10.07   \n",
       "1 2018-02-22 01:00:00  47.231111  18.122222            9.76            9.51   \n",
       "2 2018-02-22 01:30:00  46.645556  18.211111            8.99            8.82   \n",
       "3 2018-02-22 02:00:00  46.060000  18.300000            8.20            8.13   \n",
       "4 2018-02-22 02:30:00  45.474444  18.388889            7.64            7.67   \n",
       "\n",
       "   dew_point_temperature_set_1d  relative_humidity_set_1  \\\n",
       "0                         -5.98                    31.28   \n",
       "1                         -4.26                    37.27   \n",
       "2                         -2.81                    43.72   \n",
       "3                         -1.80                    49.65   \n",
       "4                         -1.11                    54.23   \n",
       "\n",
       "   solar_radiation_set_1  zone_016_cooling_sp  zone_017_cooling_sp  ...  \\\n",
       "0                 245.60            75.148905            75.141335  ...   \n",
       "1                 157.90            75.149101            75.141334  ...   \n",
       "2                  67.74            75.149172            75.141365  ...   \n",
       "3                   8.35            75.149254            75.141424  ...   \n",
       "4                   0.06            75.149453            75.141528  ...   \n",
       "\n",
       "   zone_028_co2  zone_033_co2  zone_040_co2  zone_044_co2  zone_045_co2  \\\n",
       "0    406.685944    415.992929    389.256802    396.991749    424.593745   \n",
       "1    407.687128    415.756245    397.184922    399.769783    421.018314   \n",
       "2    410.183110    417.192094    395.993798    399.566480    425.910259   \n",
       "3    409.859402    416.382527    393.884073    397.575192    427.659487   \n",
       "4    411.948647    418.227176    395.753707    400.022452    430.772951   \n",
       "\n",
       "   zone_052_co2  zone_058_co2  zone_062_co2  zone_068_co2  zone_072_co2  \n",
       "0    411.501573    398.580055    395.910296    396.126202    400.775840  \n",
       "1    404.065852    395.098470    388.186024    402.832261    400.851355  \n",
       "2    410.668408    398.382923    395.391205    401.226493    402.923478  \n",
       "3    410.512872    397.405899    394.419118    400.016849    401.537824  \n",
       "4    415.229530    401.512520    397.880444    401.598937    403.786239  \n",
       "\n",
       "[5 rows x 168 columns]"
      ]
     },
     "execution_count": 64,
     "metadata": {},
     "output_type": "execute_result"
    }
   ],
   "source": [
    "all_df.head()"
   ]
  },
  {
   "cell_type": "code",
   "execution_count": 65,
   "id": "0e67ef51-256a-4464-bc2d-5215223978ce",
   "metadata": {},
   "outputs": [
    {
     "data": {
      "text/plain": [
       "date              0\n",
       "hvac_N            0\n",
       "hvac_S            0\n",
       "air_temp_set_1    0\n",
       "air_temp_set_2    0\n",
       "                 ..\n",
       "zone_052_co2      0\n",
       "zone_058_co2      0\n",
       "zone_062_co2      0\n",
       "zone_068_co2      0\n",
       "zone_072_co2      0\n",
       "Length: 168, dtype: int64"
      ]
     },
     "execution_count": 65,
     "metadata": {},
     "output_type": "execute_result"
    }
   ],
   "source": [
    "all_df.isnull().sum()"
   ]
  },
  {
   "cell_type": "code",
   "execution_count": 66,
   "id": "a71587f4-f732-4d35-a033-099cccbf7775",
   "metadata": {},
   "outputs": [
    {
     "data": {
      "text/plain": [
       "date              0.0\n",
       "hvac_N            0.0\n",
       "hvac_S            0.0\n",
       "air_temp_set_1    0.0\n",
       "air_temp_set_2    0.0\n",
       "                 ... \n",
       "zone_052_co2      0.0\n",
       "zone_058_co2      0.0\n",
       "zone_062_co2      0.0\n",
       "zone_068_co2      0.0\n",
       "zone_072_co2      0.0\n",
       "Length: 168, dtype: float64"
      ]
     },
     "execution_count": 66,
     "metadata": {},
     "output_type": "execute_result"
    }
   ],
   "source": [
    "#Percentage of null values in each columns\n",
    "all_df.isnull().sum() * 100 / len(Merge_zonetemp_co2)"
   ]
  },
  {
   "cell_type": "markdown",
   "id": "cba8a35c-f259-46a6-a62c-f9936be0a327",
   "metadata": {},
   "source": [
    "## Principal Component Analysis for dimesionlity reduction"
   ]
  },
  {
   "cell_type": "code",
   "execution_count": 67,
   "id": "b96a15d6-1399-48e5-88f5-f2583f8a80ec",
   "metadata": {},
   "outputs": [
    {
     "data": {
      "text/plain": [
       "date              datetime64[ns]\n",
       "hvac_N                   float64\n",
       "hvac_S                   float64\n",
       "air_temp_set_1           float64\n",
       "air_temp_set_2           float64\n",
       "                       ...      \n",
       "zone_052_co2             float64\n",
       "zone_058_co2             float64\n",
       "zone_062_co2             float64\n",
       "zone_068_co2             float64\n",
       "zone_072_co2             float64\n",
       "Length: 168, dtype: object"
      ]
     },
     "execution_count": 67,
     "metadata": {},
     "output_type": "execute_result"
    }
   ],
   "source": [
    "all_df.dtypes"
   ]
  },
  {
   "cell_type": "code",
   "execution_count": 68,
   "id": "26eb4ba1-5261-44be-9905-67bcc574016b",
   "metadata": {},
   "outputs": [],
   "source": [
    "from sklearn.decomposition import PCA\n",
    "from sklearn.preprocessing import StandardScaler"
   ]
  },
  {
   "cell_type": "code",
   "execution_count": 69,
   "id": "9e25f641-697b-45a3-8674-80a77ffa954d",
   "metadata": {},
   "outputs": [],
   "source": [
    "#to perform PCA we are taking numerical fields only\n",
    "all_df_num=all_df.loc[:,'air_temp_set_1':]"
   ]
  },
  {
   "cell_type": "code",
   "execution_count": 70,
   "id": "4a845e61-74f0-4854-aab4-84596aaa4904",
   "metadata": {},
   "outputs": [],
   "source": [
    "# Step 1: Standardize the Data\n",
    "scaler = StandardScaler()\n",
    "all_df_num_std = scaler.fit_transform(all_df_num)"
   ]
  },
  {
   "cell_type": "code",
   "execution_count": 71,
   "id": "7b0560e6-7919-445d-9995-3230fd3eb54e",
   "metadata": {},
   "outputs": [],
   "source": [
    "# Step 2-5: PCA\n",
    "pca = PCA()\n",
    "all_df_pca = pca.fit_transform(all_df_num_std)"
   ]
  },
  {
   "cell_type": "code",
   "execution_count": 72,
   "id": "5c4c0c4c-3e85-4c60-83d3-d8b33ff55390",
   "metadata": {},
   "outputs": [
    {
     "data": {
      "text/plain": [
       "(165, 165)"
      ]
     },
     "execution_count": 72,
     "metadata": {},
     "output_type": "execute_result"
    }
   ],
   "source": [
    "#Important components from PCA\n",
    "pd.DataFrame(abs(pca.components_)).shape"
   ]
  },
  {
   "cell_type": "code",
   "execution_count": 73,
   "id": "a1f811a8-fccb-491f-ab21-bb7b9ab01761",
   "metadata": {},
   "outputs": [],
   "source": [
    "# Plot Explained Variance Ratio\n",
    "explained_var_ratio = pca.explained_variance_ratio_\n",
    "cumulative_var_ratio = np.cumsum(explained_var_ratio)\n"
   ]
  },
  {
   "cell_type": "code",
   "execution_count": 74,
   "id": "1a7b2125-37a4-4b7b-8aa5-ad6263cd96dd",
   "metadata": {},
   "outputs": [
    {
     "data": {
      "image/png": "[encoded data removed]",
      "text/plain": [
       "<Figure size 750x600 with 1 Axes>"
      ]
     },
     "metadata": {},
     "output_type": "display_data"
    }
   ],
   "source": [
    "plt.figure(figsize=(5,4),dpi=150)\n",
    "plt.grid()\n",
    "plt.plot(range(1, len(cumulative_var_ratio) + 1), cumulative_var_ratio, marker='o')\n",
    "plt.xlabel('Number of Principal Components')\n",
    "plt.ylabel('Cumulative Explained Variance Ratio')\n",
    "plt.title('Explained Variance Ratio vs. Number of Principal Components')\n",
    "plt.show()\n"
   ]
  },
  {
   "cell_type": "markdown",
   "id": "78a5ad1b-0e1f-4ace-98c8-9848e092d333",
   "metadata": {},
   "source": [
    "### Reference:\n",
    " - https://stackoverflow.com/questions/50796024/feature-variable-importance-after-a-pca-analysis\n",
    " - https://machinelearningmastery.com/dimensionality-reduction-algorithms-with-python/\n",
    " - https://www.kdnuggets.com/2023/05/principal-component-analysis-pca-scikitlearn.html"
   ]
  },
  {
   "cell_type": "markdown",
   "id": "52490d4d-34bd-4d69-b138-8bf0841f995b",
   "metadata": {},
   "source": [
    "#### PCA is giving us the estimation that the model using around 40 components would have nearly 100% explainability of the data"
   ]
  },
  {
   "cell_type": "code",
   "execution_count": 75,
   "id": "6e25ef9d-ac6a-403c-96b2-91a4057030ec",
   "metadata": {},
   "outputs": [],
   "source": [
    "#all_df.to_csv('cleaned_merged_data.csv', sep=',', index=False, encoding='utf-8')"
   ]
  },
  {
   "cell_type": "markdown",
   "id": "30a09ec6-d47c-4201-86d8-e1db0167d54e",
   "metadata": {},
   "source": [
    "## Feature Selection \n",
    "\n",
    "#### We will be using following types of feature selection processs\n",
    "  -   Correlation Statistics.\r",
    "  -   \n",
    "Mutual Information Statistics\n",
    "\n",
    "####  References\n",
    "    -   https://scikit-learn.org/stable/modules/generated/sklearn.feature_selection.f_regression.html\n",
    "    -   https://machinelearningmastery.com/feature-selection-for-regression-data/."
   ]
  },
  {
   "cell_type": "code",
   "execution_count": 76,
   "id": "197450db-f2ac-4676-9753-67d2923ab4c3",
   "metadata": {},
   "outputs": [],
   "source": [
    "# example of correlation feature selection for numerical data\n",
    "from sklearn.datasets import make_regression\n",
    "from sklearn.model_selection import train_test_split\n",
    "from sklearn.feature_selection import SelectKBest\n",
    "from sklearn.feature_selection import f_regression"
   ]
  },
  {
   "cell_type": "markdown",
   "id": "903da497-2df4-490c-9b2f-0724d2246f4b",
   "metadata": {},
   "source": [
    " As per our assumption hvac_S and hvac_N are the target variables. Here we will separate features and target variables. Also we are dropping non numeric Date parameter for linear regression."
   ]
  },
  {
   "cell_type": "code",
   "execution_count": 77,
   "id": "38ac7730-4423-4b7f-bf06-5147fe8e26d7",
   "metadata": {},
   "outputs": [],
   "source": [
    "all_df.drop(columns=['date'],inplace=True)"
   ]
  },
  {
   "cell_type": "code",
   "execution_count": 78,
   "id": "16fd5867-aef0-483c-a059-6798a2125b74",
   "metadata": {},
   "outputs": [],
   "source": [
    "feature=all_df.drop(columns=['hvac_S','hvac_N'])"
   ]
  },
  {
   "cell_type": "code",
   "execution_count": 79,
   "id": "0e25acbb-98c7-45b4-8edc-dc6bfaaa2192",
   "metadata": {},
   "outputs": [],
   "source": [
    "target=all_df[['hvac_S','hvac_N']]"
   ]
  },
  {
   "cell_type": "code",
   "execution_count": 80,
   "id": "6e7d6591-f4dc-4079-809e-884780d9678c",
   "metadata": {},
   "outputs": [
    {
     "data": {
      "text/html": [
       "<div>\n",
       "<style scoped>\n",
       "    .dataframe tbody tr th:only-of-type {\n",
       "        vertical-align: middle;\n",
       "    }\n",
       "\n",
       "    .dataframe tbody tr th {\n",
       "        vertical-align: top;\n",
       "    }\n",
       "\n",
       "    .dataframe thead th {\n",
       "        text-align: right;\n",
       "    }\n",
       "</style>\n",
       "<table border=\"1\" class=\"dataframe\">\n",
       "  <thead>\n",
       "    <tr style=\"text-align: right;\">\n",
       "      <th></th>\n",
       "      <th>air_temp_set_1</th>\n",
       "      <th>air_temp_set_2</th>\n",
       "      <th>dew_point_temperature_set_1d</th>\n",
       "      <th>relative_humidity_set_1</th>\n",
       "      <th>solar_radiation_set_1</th>\n",
       "      <th>zone_016_cooling_sp</th>\n",
       "      <th>zone_017_cooling_sp</th>\n",
       "      <th>zone_018_cooling_sp</th>\n",
       "      <th>zone_019_cooling_sp</th>\n",
       "      <th>zone_021_cooling_sp</th>\n",
       "      <th>...</th>\n",
       "      <th>zone_028_co2</th>\n",
       "      <th>zone_033_co2</th>\n",
       "      <th>zone_040_co2</th>\n",
       "      <th>zone_044_co2</th>\n",
       "      <th>zone_045_co2</th>\n",
       "      <th>zone_052_co2</th>\n",
       "      <th>zone_058_co2</th>\n",
       "      <th>zone_062_co2</th>\n",
       "      <th>zone_068_co2</th>\n",
       "      <th>zone_072_co2</th>\n",
       "    </tr>\n",
       "  </thead>\n",
       "  <tbody>\n",
       "    <tr>\n",
       "      <th>0</th>\n",
       "      <td>10.43</td>\n",
       "      <td>10.07</td>\n",
       "      <td>-5.98</td>\n",
       "      <td>31.28</td>\n",
       "      <td>245.60</td>\n",
       "      <td>75.148905</td>\n",
       "      <td>75.141335</td>\n",
       "      <td>75.598624</td>\n",
       "      <td>77.920899</td>\n",
       "      <td>75.643868</td>\n",
       "      <td>...</td>\n",
       "      <td>406.685944</td>\n",
       "      <td>415.992929</td>\n",
       "      <td>389.256802</td>\n",
       "      <td>396.991749</td>\n",
       "      <td>424.593745</td>\n",
       "      <td>411.501573</td>\n",
       "      <td>398.580055</td>\n",
       "      <td>395.910296</td>\n",
       "      <td>396.126202</td>\n",
       "      <td>400.775840</td>\n",
       "    </tr>\n",
       "    <tr>\n",
       "      <th>1</th>\n",
       "      <td>9.76</td>\n",
       "      <td>9.51</td>\n",
       "      <td>-4.26</td>\n",
       "      <td>37.27</td>\n",
       "      <td>157.90</td>\n",
       "      <td>75.149101</td>\n",
       "      <td>75.141334</td>\n",
       "      <td>75.592485</td>\n",
       "      <td>77.920896</td>\n",
       "      <td>75.636683</td>\n",
       "      <td>...</td>\n",
       "      <td>407.687128</td>\n",
       "      <td>415.756245</td>\n",
       "      <td>397.184922</td>\n",
       "      <td>399.769783</td>\n",
       "      <td>421.018314</td>\n",
       "      <td>404.065852</td>\n",
       "      <td>395.098470</td>\n",
       "      <td>388.186024</td>\n",
       "      <td>402.832261</td>\n",
       "      <td>400.851355</td>\n",
       "    </tr>\n",
       "    <tr>\n",
       "      <th>2</th>\n",
       "      <td>8.99</td>\n",
       "      <td>8.82</td>\n",
       "      <td>-2.81</td>\n",
       "      <td>43.72</td>\n",
       "      <td>67.74</td>\n",
       "      <td>75.149172</td>\n",
       "      <td>75.141365</td>\n",
       "      <td>75.586348</td>\n",
       "      <td>77.920893</td>\n",
       "      <td>75.630353</td>\n",
       "      <td>...</td>\n",
       "      <td>410.183110</td>\n",
       "      <td>417.192094</td>\n",
       "      <td>395.993798</td>\n",
       "      <td>399.566480</td>\n",
       "      <td>425.910259</td>\n",
       "      <td>410.668408</td>\n",
       "      <td>398.382923</td>\n",
       "      <td>395.391205</td>\n",
       "      <td>401.226493</td>\n",
       "      <td>402.923478</td>\n",
       "    </tr>\n",
       "    <tr>\n",
       "      <th>3</th>\n",
       "      <td>8.20</td>\n",
       "      <td>8.13</td>\n",
       "      <td>-1.80</td>\n",
       "      <td>49.65</td>\n",
       "      <td>8.35</td>\n",
       "      <td>75.149254</td>\n",
       "      <td>75.141424</td>\n",
       "      <td>75.584595</td>\n",
       "      <td>77.920890</td>\n",
       "      <td>75.625834</td>\n",
       "      <td>...</td>\n",
       "      <td>409.859402</td>\n",
       "      <td>416.382527</td>\n",
       "      <td>393.884073</td>\n",
       "      <td>397.575192</td>\n",
       "      <td>427.659487</td>\n",
       "      <td>410.512872</td>\n",
       "      <td>397.405899</td>\n",
       "      <td>394.419118</td>\n",
       "      <td>400.016849</td>\n",
       "      <td>401.537824</td>\n",
       "    </tr>\n",
       "    <tr>\n",
       "      <th>4</th>\n",
       "      <td>7.64</td>\n",
       "      <td>7.67</td>\n",
       "      <td>-1.11</td>\n",
       "      <td>54.23</td>\n",
       "      <td>0.06</td>\n",
       "      <td>75.149453</td>\n",
       "      <td>75.141528</td>\n",
       "      <td>75.586643</td>\n",
       "      <td>77.920889</td>\n",
       "      <td>75.623207</td>\n",
       "      <td>...</td>\n",
       "      <td>411.948647</td>\n",
       "      <td>418.227176</td>\n",
       "      <td>395.753707</td>\n",
       "      <td>400.022452</td>\n",
       "      <td>430.772951</td>\n",
       "      <td>415.229530</td>\n",
       "      <td>401.512520</td>\n",
       "      <td>397.880444</td>\n",
       "      <td>401.598937</td>\n",
       "      <td>403.786239</td>\n",
       "    </tr>\n",
       "  </tbody>\n",
       "</table>\n",
       "<p>5 rows × 165 columns</p>\n",
       "</div>"
      ],
      "text/plain": [
       "   air_temp_set_1  air_temp_set_2  dew_point_temperature_set_1d  \\\n",
       "0           10.43           10.07                         -5.98   \n",
       "1            9.76            9.51                         -4.26   \n",
       "2            8.99            8.82                         -2.81   \n",
       "3            8.20            8.13                         -1.80   \n",
       "4            7.64            7.67                         -1.11   \n",
       "\n",
       "   relative_humidity_set_1  solar_radiation_set_1  zone_016_cooling_sp  \\\n",
       "0                    31.28                 245.60            75.148905   \n",
       "1                    37.27                 157.90            75.149101   \n",
       "2                    43.72                  67.74            75.149172   \n",
       "3                    49.65                   8.35            75.149254   \n",
       "4                    54.23                   0.06            75.149453   \n",
       "\n",
       "   zone_017_cooling_sp  zone_018_cooling_sp  zone_019_cooling_sp  \\\n",
       "0            75.141335            75.598624            77.920899   \n",
       "1            75.141334            75.592485            77.920896   \n",
       "2            75.141365            75.586348            77.920893   \n",
       "3            75.141424            75.584595            77.920890   \n",
       "4            75.141528            75.586643            77.920889   \n",
       "\n",
       "   zone_021_cooling_sp  ...  zone_028_co2  zone_033_co2  zone_040_co2  \\\n",
       "0            75.643868  ...    406.685944    415.992929    389.256802   \n",
       "1            75.636683  ...    407.687128    415.756245    397.184922   \n",
       "2            75.630353  ...    410.183110    417.192094    395.993798   \n",
       "3            75.625834  ...    409.859402    416.382527    393.884073   \n",
       "4            75.623207  ...    411.948647    418.227176    395.753707   \n",
       "\n",
       "   zone_044_co2  zone_045_co2  zone_052_co2  zone_058_co2  zone_062_co2  \\\n",
       "0    396.991749    424.593745    411.501573    398.580055    395.910296   \n",
       "1    399.769783    421.018314    404.065852    395.098470    388.186024   \n",
       "2    399.566480    425.910259    410.668408    398.382923    395.391205   \n",
       "3    397.575192    427.659487    410.512872    397.405899    394.419118   \n",
       "4    400.022452    430.772951    415.229530    401.512520    397.880444   \n",
       "\n",
       "   zone_068_co2  zone_072_co2  \n",
       "0    396.126202    400.775840  \n",
       "1    402.832261    400.851355  \n",
       "2    401.226493    402.923478  \n",
       "3    400.016849    401.537824  \n",
       "4    401.598937    403.786239  \n",
       "\n",
       "[5 rows x 165 columns]"
      ]
     },
     "execution_count": 80,
     "metadata": {},
     "output_type": "execute_result"
    }
   ],
   "source": [
    "feature.head()"
   ]
  },
  {
   "cell_type": "code",
   "execution_count": 81,
   "id": "c44c2253-b446-43aa-a56f-4f8e2333850b",
   "metadata": {},
   "outputs": [
    {
     "data": {
      "text/html": [
       "<div>\n",
       "<style scoped>\n",
       "    .dataframe tbody tr th:only-of-type {\n",
       "        vertical-align: middle;\n",
       "    }\n",
       "\n",
       "    .dataframe tbody tr th {\n",
       "        vertical-align: top;\n",
       "    }\n",
       "\n",
       "    .dataframe thead th {\n",
       "        text-align: right;\n",
       "    }\n",
       "</style>\n",
       "<table border=\"1\" class=\"dataframe\">\n",
       "  <thead>\n",
       "    <tr style=\"text-align: right;\">\n",
       "      <th></th>\n",
       "      <th>hvac_S</th>\n",
       "      <th>hvac_N</th>\n",
       "    </tr>\n",
       "  </thead>\n",
       "  <tbody>\n",
       "    <tr>\n",
       "      <th>0</th>\n",
       "      <td>18.033333</td>\n",
       "      <td>47.816667</td>\n",
       "    </tr>\n",
       "    <tr>\n",
       "      <th>1</th>\n",
       "      <td>18.122222</td>\n",
       "      <td>47.231111</td>\n",
       "    </tr>\n",
       "    <tr>\n",
       "      <th>2</th>\n",
       "      <td>18.211111</td>\n",
       "      <td>46.645556</td>\n",
       "    </tr>\n",
       "    <tr>\n",
       "      <th>3</th>\n",
       "      <td>18.300000</td>\n",
       "      <td>46.060000</td>\n",
       "    </tr>\n",
       "    <tr>\n",
       "      <th>4</th>\n",
       "      <td>18.388889</td>\n",
       "      <td>45.474444</td>\n",
       "    </tr>\n",
       "  </tbody>\n",
       "</table>\n",
       "</div>"
      ],
      "text/plain": [
       "      hvac_S     hvac_N\n",
       "0  18.033333  47.816667\n",
       "1  18.122222  47.231111\n",
       "2  18.211111  46.645556\n",
       "3  18.300000  46.060000\n",
       "4  18.388889  45.474444"
      ]
     },
     "execution_count": 81,
     "metadata": {},
     "output_type": "execute_result"
    }
   ],
   "source": [
    "target.head()"
   ]
  },
  {
   "cell_type": "code",
   "execution_count": 82,
   "id": "70cb2550-3447-4020-9dc2-5b0d15a04a40",
   "metadata": {},
   "outputs": [],
   "source": [
    "# spliting into train and test sets\n",
    "X_train, X_test, y_train, y_test = train_test_split(feature, target, test_size=0.33, random_state=1)"
   ]
  },
  {
   "cell_type": "markdown",
   "id": "c74b0538-4101-48ee-8691-9354e6d20c9c",
   "metadata": {},
   "source": [
    "We performed feature selection process in the following order:\n",
    "-  1. Correlation Statistics:\n",
    "        - a. Target variable : Hvac_S\n",
    "        - b. Target variable : Hvac_N\n",
    "-  2. Mutual Information :\n",
    "        - a. Target variable : Hvac_S\n",
    "        - b. Target variable : Hvac_N"
   ]
  },
  {
   "cell_type": "markdown",
   "id": "38f7080b-501e-4201-b1d2-cc4f09a6a521",
   "metadata": {},
   "source": [
    "### 1. Feature selection using correlation statistics"
   ]
  },
  {
   "cell_type": "code",
   "execution_count": 83,
   "id": "74fa3c14-714e-4d80-b810-ebea4277b4cc",
   "metadata": {},
   "outputs": [],
   "source": [
    "# feature selection\n",
    "def select_features_corstat(X_train, y_train, X_test):\n",
    "    #Converting y_train into 1-dimensional\n",
    "    y_train=np.ravel(y_train)\n",
    "    # configure to select all features\n",
    "    fs = SelectKBest(score_func=f_regression, k='all')\n",
    "    # learn relationship from training data\n",
    "    fs.fit(X_train, y_train)\n",
    "    # transform train input data\n",
    "    X_train_fs = fs.transform(X_train)\n",
    "    # transform test input data\n",
    "    X_test_fs = fs.transform(X_test)\n",
    "    return X_train_fs, X_test_fs, fs"
   ]
  },
  {
   "cell_type": "markdown",
   "id": "5c394a10-7336-4391-a1cd-9e1c53fb0b7a",
   "metadata": {},
   "source": [
    "### 1.a We will be selecting Features using correlation statistics for target variable hvac_S"
   ]
  },
  {
   "cell_type": "code",
   "execution_count": 84,
   "id": "377cc545-9ab0-4476-9f74-1c4e84bc896b",
   "metadata": {},
   "outputs": [],
   "source": [
    "# feature selection process\n",
    "X_train_fs, X_test_fs, fs = select_features_corstat(X_train, y_train.hvac_S, X_test)"
   ]
  },
  {
   "cell_type": "code",
   "execution_count": 85,
   "id": "1ac03ece-4bb1-4f76-a3a7-f1c274f82a80",
   "metadata": {},
   "outputs": [
    {
     "name": "stdout",
     "output_type": "stream",
     "text": [
      "Feature 0: air_temp_set_1 : 14748.640230\n",
      "Feature 1: air_temp_set_2 : 15085.321706\n",
      "Feature 2: dew_point_temperature_set_1d : 853.115902\n",
      "Feature 3: relative_humidity_set_1 : 4080.127846\n",
      "Feature 4: solar_radiation_set_1 : 1973.508206\n",
      "Feature 5: zone_016_cooling_sp : 232.581385\n",
      "Feature 6: zone_017_cooling_sp : 223.797137\n",
      "Feature 7: zone_018_cooling_sp : 651.298350\n",
      "Feature 8: zone_019_cooling_sp : 17.587843\n",
      "Feature 9: zone_021_cooling_sp : 380.570910\n",
      "Feature 10: zone_023_cooling_sp : 575.937890\n",
      "Feature 11: zone_024_cooling_sp : 579.559021\n",
      "Feature 12: zone_025_cooling_sp : 249.030580\n",
      "Feature 13: zone_026_cooling_sp : 529.048752\n",
      "Feature 14: zone_027_cooling_sp : 46.836458\n",
      "Feature 15: zone_030_cooling_sp : 452.910875\n",
      "Feature 16: zone_032_cooling_sp : 351.094965\n",
      "Feature 17: zone_035_cooling_sp : 2174.233623\n",
      "Feature 18: zone_036_cooling_sp : 2179.524757\n",
      "Feature 19: zone_037_cooling_sp : 149.752471\n",
      "Feature 20: zone_038_cooling_sp : 701.276976\n",
      "Feature 21: zone_039_cooling_sp : 186.927693\n",
      "Feature 22: zone_041_cooling_sp : 1342.881662\n",
      "Feature 23: zone_042_cooling_sp : 241.081104\n",
      "Feature 24: zone_043_cooling_sp : 1200.532511\n",
      "Feature 25: zone_046_cooling_sp : 0.906342\n",
      "Feature 26: zone_047_cooling_sp : 35.112959\n",
      "Feature 27: zone_048_cooling_sp : 211.621287\n",
      "Feature 28: zone_049_cooling_sp : 7194.554895\n",
      "Feature 29: zone_051_cooling_sp : 30.818176\n",
      "Feature 30: zone_053_cooling_sp : 4.196045\n",
      "Feature 31: zone_054_cooling_sp : 1468.354255\n",
      "Feature 32: zone_055_cooling_sp : 1426.148816\n",
      "Feature 33: zone_056_cooling_sp : 1594.703931\n",
      "Feature 34: zone_057_cooling_sp : 7192.815403\n",
      "Feature 35: zone_059_cooling_sp : 725.640273\n",
      "Feature 36: zone_061_cooling_sp : 0.024243\n",
      "Feature 37: zone_062_cooling_sp : 2725.512276\n",
      "Feature 38: zone_063_cooling_sp : 2714.769172\n",
      "Feature 39: zone_064_cooling_sp : 636.107401\n",
      "Feature 40: zone_065_cooling_sp : 145.413797\n",
      "Feature 41: zone_066_cooling_sp : 2876.123830\n",
      "Feature 42: zone_067_cooling_sp : 765.933125\n",
      "Feature 43: zone_069_cooling_sp : 267.973461\n",
      "Feature 44: zone_070_cooling_sp : 1453.257193\n",
      "Feature 45: zone_071_cooling_sp : 117.668702\n",
      "Feature 46: zone_016_heating_sp : 915.134259\n",
      "Feature 47: zone_017_heating_sp : 903.404434\n",
      "Feature 48: zone_018_heating_sp : 330.358119\n",
      "Feature 49: zone_019_heating_sp : 21.711178\n",
      "Feature 50: zone_021_heating_sp : 641.065513\n",
      "Feature 51: zone_023_heating_sp : 364.062990\n",
      "Feature 52: zone_024_heating_sp : 409.628078\n",
      "Feature 53: zone_025_heating_sp : 941.239308\n",
      "Feature 54: zone_026_heating_sp : 482.468624\n",
      "Feature 55: zone_027_heating_sp : 456.235842\n",
      "Feature 56: zone_030_heating_sp : 826.402948\n",
      "Feature 57: zone_032_heating_sp : 115.784444\n",
      "Feature 58: zone_035_heating_sp : 102.398913\n",
      "Feature 59: zone_036_heating_sp : 106.484623\n",
      "Feature 60: zone_037_heating_sp : 0.103542\n",
      "Feature 61: zone_038_heating_sp : 364.410097\n",
      "Feature 62: zone_039_heating_sp : 1048.303240\n",
      "Feature 63: zone_041_heating_sp : 102.014232\n",
      "Feature 64: zone_042_heating_sp : 850.095033\n",
      "Feature 65: zone_043_heating_sp : 86.642599\n",
      "Feature 66: zone_046_heating_sp : 0.696591\n",
      "Feature 67: zone_047_heating_sp : 31.896673\n",
      "Feature 68: zone_048_heating_sp : 171.844809\n",
      "Feature 69: zone_049_heating_sp : 5554.500898\n",
      "Feature 70: zone_051_heating_sp : 114.945058\n",
      "Feature 71: zone_053_heating_sp : 0.146218\n",
      "Feature 72: zone_054_heating_sp : 4941.457584\n",
      "Feature 73: zone_055_heating_sp : 4162.746473\n",
      "Feature 74: zone_056_heating_sp : 3656.558511\n",
      "Feature 75: zone_057_heating_sp : 7946.976416\n",
      "Feature 76: zone_059_heating_sp : 6235.873511\n",
      "Feature 77: zone_061_heating_sp : 42.977285\n",
      "Feature 78: zone_062_heating_sp : 7565.640579\n",
      "Feature 79: zone_063_heating_sp : 3547.377555\n",
      "Feature 80: zone_064_heating_sp : 1960.640853\n",
      "Feature 81: zone_065_heating_sp : 982.065720\n",
      "Feature 82: zone_066_heating_sp : 3909.436974\n",
      "Feature 83: zone_067_heating_sp : 282.467550\n",
      "Feature 84: zone_069_heating_sp : 7052.242577\n",
      "Feature 85: zone_070_heating_sp : 5864.012411\n",
      "Feature 86: zone_071_heating_sp : 466.624600\n",
      "Feature 87: cerc_templogger_1 : 3949.459843\n",
      "Feature 88: cerc_templogger_10 : 7291.625194\n",
      "Feature 89: cerc_templogger_11 : 8005.910291\n",
      "Feature 90: cerc_templogger_12 : 3242.306383\n",
      "Feature 91: cerc_templogger_13 : 1915.291415\n",
      "Feature 92: cerc_templogger_14 : 2434.620523\n",
      "Feature 93: cerc_templogger_15 : 587.171852\n",
      "Feature 94: cerc_templogger_16 : 3421.259073\n",
      "Feature 95: cerc_templogger_2 : 3144.723349\n",
      "Feature 96: cerc_templogger_3 : 1844.417246\n",
      "Feature 97: cerc_templogger_4 : 626.498555\n",
      "Feature 98: cerc_templogger_5 : 10771.899854\n",
      "Feature 99: cerc_templogger_6 : 1883.404142\n",
      "Feature 100: cerc_templogger_7 : 7491.181134\n",
      "Feature 101: cerc_templogger_8 : 3243.605385\n",
      "Feature 102: cerc_templogger_9 : 3892.905814\n",
      "Feature 103: zone_016_temp : 929.723539\n",
      "Feature 104: zone_017_temp : 2232.315652\n",
      "Feature 105: zone_018_temp : 521.457853\n",
      "Feature 106: zone_019_temp : 5319.381762\n",
      "Feature 107: zone_021_temp : 6022.591747\n",
      "Feature 108: zone_022_temp : 2872.407708\n",
      "Feature 109: zone_023_temp : 1571.587553\n",
      "Feature 110: zone_024_temp : 4028.032613\n",
      "Feature 111: zone_025_temp : 1206.926319\n",
      "Feature 112: zone_026_temp : 770.811876\n",
      "Feature 113: zone_027_temp : 3378.904833\n",
      "Feature 114: zone_028_temp : 3342.868021\n",
      "Feature 115: zone_030_temp : 278.988022\n",
      "Feature 116: zone_032_temp : 4269.133060\n",
      "Feature 117: zone_033_temp : 8228.142348\n",
      "Feature 118: zone_035_temp : 1742.366928\n",
      "Feature 119: zone_036_temp : 2366.703373\n",
      "Feature 120: zone_037_temp : 191.111688\n",
      "Feature 121: zone_038_temp : 8188.353960\n",
      "Feature 122: zone_039_temp : 5042.428958\n",
      "Feature 123: zone_040_temp : 5814.599781\n",
      "Feature 124: zone_041_temp : 3844.144565\n",
      "Feature 125: zone_042_temp : 8507.427502\n",
      "Feature 126: zone_043_temp : 111.408917\n",
      "Feature 127: zone_044_temp : 4713.622570\n",
      "Feature 128: zone_045_temp : 1967.089157\n",
      "Feature 129: zone_046_temp : 1617.762982\n",
      "Feature 130: zone_047_temp : 1045.569882\n",
      "Feature 131: zone_048_temp : 249.534567\n",
      "Feature 132: zone_049_temp : 1780.529360\n",
      "Feature 133: zone_051_temp : 5786.633649\n",
      "Feature 134: zone_052_temp : 3956.941277\n",
      "Feature 135: zone_053_temp : 2617.859129\n",
      "Feature 136: zone_054_temp : 3290.740553\n",
      "Feature 137: zone_055_temp : 5173.020530\n",
      "Feature 138: zone_056_temp : 3182.600275\n",
      "Feature 139: zone_057_temp : 6507.341787\n",
      "Feature 140: zone_058_temp : 6262.793751\n",
      "Feature 141: zone_059_temp : 1530.340033\n",
      "Feature 142: zone_061_temp : 31.440442\n",
      "Feature 143: zone_062_temp : 148.897086\n",
      "Feature 144: zone_063_temp : 2038.609255\n",
      "Feature 145: zone_064_temp : 1190.004693\n",
      "Feature 146: zone_065_temp : 3188.981123\n",
      "Feature 147: zone_066_temp : 8017.182087\n",
      "Feature 148: zone_067_temp : 2232.537694\n",
      "Feature 149: zone_068_temp : 4757.594804\n",
      "Feature 150: zone_069_temp : 2034.205490\n",
      "Feature 151: zone_070_temp : 1605.774257\n",
      "Feature 152: zone_071_temp : 3344.510765\n",
      "Feature 153: zone_072_temp : 3026.506090\n",
      "Feature 154: zone_022_co2 : 2936.410617\n",
      "Feature 155: zone_028_co2 : 98.514085\n",
      "Feature 156: zone_033_co2 : 229.048446\n",
      "Feature 157: zone_040_co2 : 23.695322\n",
      "Feature 158: zone_044_co2 : 0.683628\n",
      "Feature 159: zone_045_co2 : 144.663300\n",
      "Feature 160: zone_052_co2 : 409.833543\n",
      "Feature 161: zone_058_co2 : 530.906934\n",
      "Feature 162: zone_062_co2 : 183.924638\n",
      "Feature 163: zone_068_co2 : 3.025112\n",
      "Feature 164: zone_072_co2 : 169.682033\n"
     ]
    }
   ],
   "source": [
    "# Checking the scores for the features\n",
    "feature_list_hvacS_cor={}\n",
    "for i in range(len(fs.scores_)):\n",
    "    feature_list_hvacS_cor.update({fs.feature_names_in_[i]: fs.scores_[i]})\n",
    "    print('Feature %d: %s : %f' % (i,fs.feature_names_in_[i], fs.scores_[i]))\n"
   ]
  },
  {
   "cell_type": "code",
   "execution_count": 86,
   "id": "4c9ed954-c189-4dcc-931c-15cb24a7fff5",
   "metadata": {},
   "outputs": [],
   "source": [
    "#creating dataframe from dictionary\n",
    "selected_feature_1=pd.DataFrame.from_dict(feature_list_hvacS_cor,columns=['value'],orient='index')\n",
    "\n",
    "#Sorting and listing top 40 features based on scores\n",
    "top_40_withcorr_score_S=selected_feature_1.sort_values(by='value',ascending=False)[:40]"
   ]
  },
  {
   "cell_type": "code",
   "execution_count": 87,
   "id": "65fb82cd-4d57-41be-a94b-6066b594a687",
   "metadata": {},
   "outputs": [
    {
     "data": {
      "text/plain": [
       "Index(['air_temp_set_2', 'air_temp_set_1', 'cerc_templogger_5',\n",
       "       'zone_042_temp', 'zone_033_temp', 'zone_038_temp', 'zone_066_temp',\n",
       "       'cerc_templogger_11', 'zone_057_heating_sp', 'zone_062_heating_sp',\n",
       "       'cerc_templogger_7', 'cerc_templogger_10', 'zone_049_cooling_sp',\n",
       "       'zone_057_cooling_sp', 'zone_069_heating_sp', 'zone_057_temp',\n",
       "       'zone_058_temp', 'zone_059_heating_sp', 'zone_021_temp',\n",
       "       'zone_070_heating_sp', 'zone_040_temp', 'zone_051_temp',\n",
       "       'zone_049_heating_sp', 'zone_019_temp', 'zone_055_temp',\n",
       "       'zone_039_temp', 'zone_054_heating_sp', 'zone_068_temp',\n",
       "       'zone_044_temp', 'zone_032_temp', 'zone_055_heating_sp',\n",
       "       'relative_humidity_set_1', 'zone_024_temp', 'zone_052_temp',\n",
       "       'cerc_templogger_1', 'zone_066_heating_sp', 'cerc_templogger_9',\n",
       "       'zone_041_temp', 'zone_056_heating_sp', 'zone_063_heating_sp'],\n",
       "      dtype='object')"
      ]
     },
     "execution_count": 87,
     "metadata": {},
     "output_type": "execute_result"
    }
   ],
   "source": [
    "top_40_withcorr_score_S.index"
   ]
  },
  {
   "cell_type": "code",
   "execution_count": 90,
   "id": "eee748bb-b091-413c-85c7-040ef789efd1",
   "metadata": {},
   "outputs": [],
   "source": [
    "feature_select_df_hvacS_1=all_df.loc[:,top_40_withcorr_score_S.index]\n",
    "#feature_select_df_hvacS_1.to_csv('feature_select_df_hvacS_1.csv', sep=',', index=False, encoding='utf-8')"
   ]
  },
  {
   "cell_type": "code",
   "execution_count": 91,
   "id": "089ee4a9-1832-47cf-897c-0858d381b843",
   "metadata": {},
   "outputs": [
    {
     "data": {
      "image/png": "[encoded data removed]",
      "text/plain": [
       "<Figure size 2500x800 with 1 Axes>"
      ]
     },
     "metadata": {},
     "output_type": "display_data"
    }
   ],
   "source": [
    "# plot the scores\n",
    "#plt.bar([i for i in range(len(fs.scores_))], fs.scores_)\n",
    "plt.figure(figsize=(25, 8))\n",
    "plt.bar(selected_feature_1.index,selected_feature_1.value)\n",
    "plt.xticks(selected_feature_1.index, rotation='vertical')\n",
    "plt.show()"
   ]
  },
  {
   "cell_type": "markdown",
   "id": "2ecaf144-cc00-46c2-8b51-752d1e3a9141",
   "metadata": {},
   "source": [
    "#### Building Basic Linear Model for target hvac_S"
   ]
  },
  {
   "cell_type": "code",
   "execution_count": 92,
   "id": "5b330e71-0e2c-4122-970f-d0c1cdd8412d",
   "metadata": {},
   "outputs": [],
   "source": [
    "# Building Linear Regression model\n",
    "Ln_model = LinearRegression()"
   ]
  },
  {
   "cell_type": "code",
   "execution_count": 93,
   "id": "4c241ed3-1b6a-41e8-bb05-b21159092f26",
   "metadata": {},
   "outputs": [
    {
     "data": {
      "text/html": [
       "<style>#sk-container-id-2 {color: black;background-color: white;}#sk-container-id-2 pre{padding: 0;}#sk-container-id-2 div.sk-toggleable {background-color: white;}#sk-container-id-2 label.sk-toggleable__label {cursor: pointer;display: block;width: 100%;margin-bottom: 0;padding: 0.3em;box-sizing: border-box;text-align: center;}#sk-container-id-2 label.sk-toggleable__label-arrow:before {content: \"▸\";float: left;margin-right: 0.25em;color: #696969;}#sk-container-id-2 label.sk-toggleable__label-arrow:hover:before {color: black;}#sk-container-id-2 div.sk-estimator:hover label.sk-toggleable__label-arrow:before {color: black;}#sk-container-id-2 div.sk-toggleable__content {max-height: 0;max-width: 0;overflow: hidden;text-align: left;background-color: #f0f8ff;}#sk-container-id-2 div.sk-toggleable__content pre {margin: 0.2em;color: black;border-radius: 0.25em;background-color: #f0f8ff;}#sk-container-id-2 input.sk-toggleable__control:checked~div.sk-toggleable__content {max-height: 200px;max-width: 100%;overflow: auto;}#sk-container-id-2 input.sk-toggleable__control:checked~label.sk-toggleable__label-arrow:before {content: \"▾\";}#sk-container-id-2 div.sk-estimator input.sk-toggleable__control:checked~label.sk-toggleable__label {background-color: #d4ebff;}#sk-container-id-2 div.sk-label input.sk-toggleable__control:checked~label.sk-toggleable__label {background-color: #d4ebff;}#sk-container-id-2 input.sk-hidden--visually {border: 0;clip: rect(1px 1px 1px 1px);clip: rect(1px, 1px, 1px, 1px);height: 1px;margin: -1px;overflow: hidden;padding: 0;position: absolute;width: 1px;}#sk-container-id-2 div.sk-estimator {font-family: monospace;background-color: #f0f8ff;border: 1px dotted black;border-radius: 0.25em;box-sizing: border-box;margin-bottom: 0.5em;}#sk-container-id-2 div.sk-estimator:hover {background-color: #d4ebff;}#sk-container-id-2 div.sk-parallel-item::after {content: \"\";width: 100%;border-bottom: 1px solid gray;flex-grow: 1;}#sk-container-id-2 div.sk-label:hover label.sk-toggleable__label {background-color: #d4ebff;}#sk-container-id-2 div.sk-serial::before {content: \"\";position: absolute;border-left: 1px solid gray;box-sizing: border-box;top: 0;bottom: 0;left: 50%;z-index: 0;}#sk-container-id-2 div.sk-serial {display: flex;flex-direction: column;align-items: center;background-color: white;padding-right: 0.2em;padding-left: 0.2em;position: relative;}#sk-container-id-2 div.sk-item {position: relative;z-index: 1;}#sk-container-id-2 div.sk-parallel {display: flex;align-items: stretch;justify-content: center;background-color: white;position: relative;}#sk-container-id-2 div.sk-item::before, #sk-container-id-2 div.sk-parallel-item::before {content: \"\";position: absolute;border-left: 1px solid gray;box-sizing: border-box;top: 0;bottom: 0;left: 50%;z-index: -1;}#sk-container-id-2 div.sk-parallel-item {display: flex;flex-direction: column;z-index: 1;position: relative;background-color: white;}#sk-container-id-2 div.sk-parallel-item:first-child::after {align-self: flex-end;width: 50%;}#sk-container-id-2 div.sk-parallel-item:last-child::after {align-self: flex-start;width: 50%;}#sk-container-id-2 div.sk-parallel-item:only-child::after {width: 0;}#sk-container-id-2 div.sk-dashed-wrapped {border: 1px dashed gray;margin: 0 0.4em 0.5em 0.4em;box-sizing: border-box;padding-bottom: 0.4em;background-color: white;}#sk-container-id-2 div.sk-label label {font-family: monospace;font-weight: bold;display: inline-block;line-height: 1.2em;}#sk-container-id-2 div.sk-label-container {text-align: center;}#sk-container-id-2 div.sk-container {/* jupyter's `normalize.less` sets `[hidden] { display: none; }` but bootstrap.min.css set `[hidden] { display: none !important; }` so we also need the `!important` here to be able to override the default hidden behavior on the sphinx rendered scikit-learn.org. See: https://github.com/scikit-learn/scikit-learn/issues/21755 */display: inline-block !important;position: relative;}#sk-container-id-2 div.sk-text-repr-fallback {display: none;}</style><div id=\"sk-container-id-2\" class=\"sk-top-container\"><div class=\"sk-text-repr-fallback\"><pre>LinearRegression()</pre><b>In a Jupyter environment, please rerun this cell to show the HTML representation or trust the notebook. <br />On GitHub, the HTML representation is unable to render, please try loading this page with nbviewer.org.</b></div><div class=\"sk-container\" hidden><div class=\"sk-item\"><div class=\"sk-estimator sk-toggleable\"><input class=\"sk-toggleable__control sk-hidden--visually\" id=\"sk-estimator-id-2\" type=\"checkbox\" checked><label for=\"sk-estimator-id-2\" class=\"sk-toggleable__label sk-toggleable__label-arrow\">LinearRegression</label><div class=\"sk-toggleable__content\"><pre>LinearRegression()</pre></div></div></div></div></div>"
      ],
      "text/plain": [
       "LinearRegression()"
      ]
     },
     "execution_count": 93,
     "metadata": {},
     "output_type": "execute_result"
    }
   ],
   "source": [
    "# Training the model\n",
    "Ln_model.fit(X_train_fs, y_train.hvac_S)"
   ]
  },
  {
   "cell_type": "code",
   "execution_count": 94,
   "id": "273febf2-37e8-4acf-b9fc-2edd67396b96",
   "metadata": {},
   "outputs": [
    {
     "name": "stdout",
     "output_type": "stream",
     "text": [
      "MAE: 5.452\n"
     ]
    }
   ],
   "source": [
    "# Evaluating the model\n",
    "ypred_lin = Ln_model.predict(X_test_fs)\n",
    "# evaluating predictions with MAE\n",
    "mae = mean_absolute_error(y_test.hvac_S, ypred_lin)\n",
    "print('MAE: %.3f' % mae)\n"
   ]
  },
  {
   "cell_type": "markdown",
   "id": "8b1a9c57-fbd8-4fa2-aa92-48a1b771028a",
   "metadata": {},
   "source": [
    "### 1.b We will be selecting Features using correlation statistics for target variable hvac_N"
   ]
  },
  {
   "cell_type": "code",
   "execution_count": 95,
   "id": "05626697-1013-4ab9-99e9-e1feb357adff",
   "metadata": {},
   "outputs": [],
   "source": [
    "# feature selection process\n",
    "X_train_fsN, X_test_fsN, fsN = select_features_corstat(X_train, y_train.hvac_N, X_test)"
   ]
  },
  {
   "cell_type": "code",
   "execution_count": 96,
   "id": "0e777d32-9781-49a7-b143-93c9e3489cff",
   "metadata": {},
   "outputs": [
    {
     "name": "stdout",
     "output_type": "stream",
     "text": [
      "Feature 0: air_temp_set_1 : 315.090618\n",
      "Feature 1: air_temp_set_2 : 413.788179\n",
      "Feature 2: dew_point_temperature_set_1d : 169.267317\n",
      "Feature 3: relative_humidity_set_1 : 33.171551\n",
      "Feature 4: solar_radiation_set_1 : 505.893171\n",
      "Feature 5: zone_016_cooling_sp : 1397.536421\n",
      "Feature 6: zone_017_cooling_sp : 1432.958801\n",
      "Feature 7: zone_018_cooling_sp : 563.466279\n",
      "Feature 8: zone_019_cooling_sp : 2016.939223\n",
      "Feature 9: zone_021_cooling_sp : 473.217850\n",
      "Feature 10: zone_023_cooling_sp : 417.928125\n",
      "Feature 11: zone_024_cooling_sp : 980.217366\n",
      "Feature 12: zone_025_cooling_sp : 1257.145786\n",
      "Feature 13: zone_026_cooling_sp : 679.735102\n",
      "Feature 14: zone_027_cooling_sp : 2297.878065\n",
      "Feature 15: zone_030_cooling_sp : 22.063418\n",
      "Feature 16: zone_032_cooling_sp : 39.531890\n",
      "Feature 17: zone_035_cooling_sp : 87.425094\n",
      "Feature 18: zone_036_cooling_sp : 18.348780\n",
      "Feature 19: zone_037_cooling_sp : 1352.247496\n",
      "Feature 20: zone_038_cooling_sp : 407.492037\n",
      "Feature 21: zone_039_cooling_sp : 1515.681340\n",
      "Feature 22: zone_041_cooling_sp : 263.409108\n",
      "Feature 23: zone_042_cooling_sp : 760.997123\n",
      "Feature 24: zone_043_cooling_sp : 133.893019\n",
      "Feature 25: zone_046_cooling_sp : 12.935520\n",
      "Feature 26: zone_047_cooling_sp : 652.212006\n",
      "Feature 27: zone_048_cooling_sp : 59.396889\n",
      "Feature 28: zone_049_cooling_sp : 4174.348745\n",
      "Feature 29: zone_051_cooling_sp : 52.936518\n",
      "Feature 30: zone_053_cooling_sp : 13.906646\n",
      "Feature 31: zone_054_cooling_sp : 1599.483819\n",
      "Feature 32: zone_055_cooling_sp : 4079.957885\n",
      "Feature 33: zone_056_cooling_sp : 3842.805940\n",
      "Feature 34: zone_057_cooling_sp : 8253.788784\n",
      "Feature 35: zone_059_cooling_sp : 2374.050487\n",
      "Feature 36: zone_061_cooling_sp : 63.819213\n",
      "Feature 37: zone_062_cooling_sp : 4559.255141\n",
      "Feature 38: zone_063_cooling_sp : 1558.537813\n",
      "Feature 39: zone_064_cooling_sp : 0.223246\n",
      "Feature 40: zone_065_cooling_sp : 114.688749\n",
      "Feature 41: zone_066_cooling_sp : 496.054575\n",
      "Feature 42: zone_067_cooling_sp : 162.246836\n",
      "Feature 43: zone_069_cooling_sp : 360.096712\n",
      "Feature 44: zone_070_cooling_sp : 12.698620\n",
      "Feature 45: zone_071_cooling_sp : 89.753534\n",
      "Feature 46: zone_016_heating_sp : 240.432043\n",
      "Feature 47: zone_017_heating_sp : 255.094376\n",
      "Feature 48: zone_018_heating_sp : 844.333300\n",
      "Feature 49: zone_019_heating_sp : 1990.779299\n",
      "Feature 50: zone_021_heating_sp : 1036.111666\n",
      "Feature 51: zone_023_heating_sp : 373.606589\n",
      "Feature 52: zone_024_heating_sp : 495.782216\n",
      "Feature 53: zone_025_heating_sp : 261.879029\n",
      "Feature 54: zone_026_heating_sp : 766.543212\n",
      "Feature 55: zone_027_heating_sp : 506.777992\n",
      "Feature 56: zone_030_heating_sp : 70.382884\n",
      "Feature 57: zone_032_heating_sp : 0.104626\n",
      "Feature 58: zone_035_heating_sp : 2337.985713\n",
      "Feature 59: zone_036_heating_sp : 3701.069802\n",
      "Feature 60: zone_037_heating_sp : 1995.646067\n",
      "Feature 61: zone_038_heating_sp : 1084.023706\n",
      "Feature 62: zone_039_heating_sp : 189.477433\n",
      "Feature 63: zone_041_heating_sp : 1242.502389\n",
      "Feature 64: zone_042_heating_sp : 643.936126\n",
      "Feature 65: zone_043_heating_sp : 1869.653966\n",
      "Feature 66: zone_046_heating_sp : 2.478243\n",
      "Feature 67: zone_047_heating_sp : 948.694262\n",
      "Feature 68: zone_048_heating_sp : 1342.913361\n",
      "Feature 69: zone_049_heating_sp : 3497.355402\n",
      "Feature 70: zone_051_heating_sp : 520.998391\n",
      "Feature 71: zone_053_heating_sp : 40.026333\n",
      "Feature 72: zone_054_heating_sp : 1056.473801\n",
      "Feature 73: zone_055_heating_sp : 3395.046505\n",
      "Feature 74: zone_056_heating_sp : 2444.743378\n",
      "Feature 75: zone_057_heating_sp : 6959.050625\n",
      "Feature 76: zone_059_heating_sp : 4405.064885\n",
      "Feature 77: zone_061_heating_sp : 86.975954\n",
      "Feature 78: zone_062_heating_sp : 5615.771962\n",
      "Feature 79: zone_063_heating_sp : 6371.883987\n",
      "Feature 80: zone_064_heating_sp : 3101.784706\n",
      "Feature 81: zone_065_heating_sp : 1960.891615\n",
      "Feature 82: zone_066_heating_sp : 4187.060375\n",
      "Feature 83: zone_067_heating_sp : 571.739612\n",
      "Feature 84: zone_069_heating_sp : 7340.104533\n",
      "Feature 85: zone_070_heating_sp : 3357.142012\n",
      "Feature 86: zone_071_heating_sp : 472.549742\n",
      "Feature 87: cerc_templogger_1 : 10.886649\n",
      "Feature 88: cerc_templogger_10 : 53.683329\n",
      "Feature 89: cerc_templogger_11 : 3685.459983\n",
      "Feature 90: cerc_templogger_12 : 44.272987\n",
      "Feature 91: cerc_templogger_13 : 2004.531641\n",
      "Feature 92: cerc_templogger_14 : 72.783665\n",
      "Feature 93: cerc_templogger_15 : 352.136653\n",
      "Feature 94: cerc_templogger_16 : 1351.808535\n",
      "Feature 95: cerc_templogger_2 : 167.029925\n",
      "Feature 96: cerc_templogger_3 : 2103.162532\n",
      "Feature 97: cerc_templogger_4 : 32.892851\n",
      "Feature 98: cerc_templogger_5 : 6900.016197\n",
      "Feature 99: cerc_templogger_6 : 78.216546\n",
      "Feature 100: cerc_templogger_7 : 2990.512300\n",
      "Feature 101: cerc_templogger_8 : 1308.438319\n",
      "Feature 102: cerc_templogger_9 : 15.061958\n",
      "Feature 103: zone_016_temp : 3.406256\n",
      "Feature 104: zone_017_temp : 121.634751\n",
      "Feature 105: zone_018_temp : 1079.851210\n",
      "Feature 106: zone_019_temp : 1870.237512\n",
      "Feature 107: zone_021_temp : 213.375344\n",
      "Feature 108: zone_022_temp : 514.886735\n",
      "Feature 109: zone_023_temp : 26.404243\n",
      "Feature 110: zone_024_temp : 28.128699\n",
      "Feature 111: zone_025_temp : 625.733931\n",
      "Feature 112: zone_026_temp : 583.504843\n",
      "Feature 113: zone_027_temp : 656.718708\n",
      "Feature 114: zone_028_temp : 499.685403\n",
      "Feature 115: zone_030_temp : 4914.716618\n",
      "Feature 116: zone_032_temp : 4150.477171\n",
      "Feature 117: zone_033_temp : 2565.985706\n",
      "Feature 118: zone_035_temp : 1895.723706\n",
      "Feature 119: zone_036_temp : 15.852395\n",
      "Feature 120: zone_037_temp : 2206.172908\n",
      "Feature 121: zone_038_temp : 869.552466\n",
      "Feature 122: zone_039_temp : 427.047402\n",
      "Feature 123: zone_040_temp : 633.388335\n",
      "Feature 124: zone_041_temp : 583.598361\n",
      "Feature 125: zone_042_temp : 95.573279\n",
      "Feature 126: zone_043_temp : 80.231871\n",
      "Feature 127: zone_044_temp : 55.027083\n",
      "Feature 128: zone_045_temp : 135.956091\n",
      "Feature 129: zone_046_temp : 121.106974\n",
      "Feature 130: zone_047_temp : 153.058911\n",
      "Feature 131: zone_048_temp : 101.131561\n",
      "Feature 132: zone_049_temp : 58.470026\n",
      "Feature 133: zone_051_temp : 62.254353\n",
      "Feature 134: zone_052_temp : 16.670106\n",
      "Feature 135: zone_053_temp : 0.011446\n",
      "Feature 136: zone_054_temp : 1272.781745\n",
      "Feature 137: zone_055_temp : 151.100946\n",
      "Feature 138: zone_056_temp : 593.691317\n",
      "Feature 139: zone_057_temp : 723.143518\n",
      "Feature 140: zone_058_temp : 659.982974\n",
      "Feature 141: zone_059_temp : 5010.224778\n",
      "Feature 142: zone_061_temp : 6016.891892\n",
      "Feature 143: zone_062_temp : 3109.973336\n",
      "Feature 144: zone_063_temp : 208.945054\n",
      "Feature 145: zone_064_temp : 3081.577291\n",
      "Feature 146: zone_065_temp : 3.879149\n",
      "Feature 147: zone_066_temp : 1543.288860\n",
      "Feature 148: zone_067_temp : 180.148979\n",
      "Feature 149: zone_068_temp : 2108.889364\n",
      "Feature 150: zone_069_temp : 315.340293\n",
      "Feature 151: zone_070_temp : 178.780124\n",
      "Feature 152: zone_071_temp : 2406.385242\n",
      "Feature 153: zone_072_temp : 1124.080484\n",
      "Feature 154: zone_022_co2 : 6.120029\n",
      "Feature 155: zone_028_co2 : 4.707441\n",
      "Feature 156: zone_033_co2 : 202.348451\n",
      "Feature 157: zone_040_co2 : 313.162519\n",
      "Feature 158: zone_044_co2 : 157.964022\n",
      "Feature 159: zone_045_co2 : 289.472338\n",
      "Feature 160: zone_052_co2 : 227.445108\n",
      "Feature 161: zone_058_co2 : 68.032558\n",
      "Feature 162: zone_062_co2 : 12.187332\n",
      "Feature 163: zone_068_co2 : 299.579844\n",
      "Feature 164: zone_072_co2 : 46.945447\n"
     ]
    }
   ],
   "source": [
    "# Checking the scores for the features\n",
    "feature_list_hvacN_cor={}\n",
    "for i in range(len(fsN.scores_)):\n",
    "    feature_list_hvacN_cor.update({fsN.feature_names_in_[i]: fsN.scores_[i]})\n",
    "    print('Feature %d: %s : %f' % (i,fsN.feature_names_in_[i], fsN.scores_[i]))\n"
   ]
  },
  {
   "cell_type": "code",
   "execution_count": 97,
   "id": "4aafb1c2-3097-4a7f-82bd-5487d30223c8",
   "metadata": {},
   "outputs": [],
   "source": [
    "#creating dataframe from dictionary\n",
    "selected_feature_N1=pd.DataFrame.from_dict(feature_list_hvacN_cor,columns=['value'],orient='index')\n",
    "\n",
    "#Sorting and listing top 40 features based on scores\n",
    "top_40_withcorr_score_N=selected_feature_N1.sort_values(by='value',ascending=False)[:40]"
   ]
  },
  {
   "cell_type": "code",
   "execution_count": 98,
   "id": "36a6de17-db59-41b1-8825-43675983f2cc",
   "metadata": {},
   "outputs": [
    {
     "data": {
      "text/plain": [
       "Index(['zone_057_cooling_sp', 'zone_069_heating_sp', 'zone_057_heating_sp',\n",
       "       'cerc_templogger_5', 'zone_063_heating_sp', 'zone_061_temp',\n",
       "       'zone_062_heating_sp', 'zone_059_temp', 'zone_030_temp',\n",
       "       'zone_062_cooling_sp', 'zone_059_heating_sp', 'zone_066_heating_sp',\n",
       "       'zone_049_cooling_sp', 'zone_032_temp', 'zone_055_cooling_sp',\n",
       "       'zone_056_cooling_sp', 'zone_036_heating_sp', 'cerc_templogger_11',\n",
       "       'zone_049_heating_sp', 'zone_055_heating_sp', 'zone_070_heating_sp',\n",
       "       'zone_062_temp', 'zone_064_heating_sp', 'zone_064_temp',\n",
       "       'cerc_templogger_7', 'zone_033_temp', 'zone_056_heating_sp',\n",
       "       'zone_071_temp', 'zone_059_cooling_sp', 'zone_035_heating_sp',\n",
       "       'zone_027_cooling_sp', 'zone_037_temp', 'zone_068_temp',\n",
       "       'cerc_templogger_3', 'zone_019_cooling_sp', 'cerc_templogger_13',\n",
       "       'zone_037_heating_sp', 'zone_019_heating_sp', 'zone_065_heating_sp',\n",
       "       'zone_035_temp'],\n",
       "      dtype='object')"
      ]
     },
     "execution_count": 98,
     "metadata": {},
     "output_type": "execute_result"
    }
   ],
   "source": [
    "top_40_withcorr_score_N.index"
   ]
  },
  {
   "cell_type": "code",
   "execution_count": 99,
   "id": "16021455-cb65-4d88-8385-bc4551e43077",
   "metadata": {},
   "outputs": [
    {
     "data": {
      "image/png": "[encoded data removed]",
      "text/plain": [
       "<Figure size 2500x800 with 1 Axes>"
      ]
     },
     "metadata": {},
     "output_type": "display_data"
    }
   ],
   "source": [
    "# plot the scores\n",
    "\n",
    "plt.figure(figsize=(25, 8))\n",
    "plt.bar(selected_feature_N1.index,selected_feature_N1.value)\n",
    "plt.xticks(selected_feature_N1.index, rotation='vertical')\n",
    "plt.title('Correlation Statistics for the all Features -target variable Hvac_N')\n",
    "plt.show()"
   ]
  },
  {
   "cell_type": "markdown",
   "id": "a5ca9692-8ba1-483f-9126-e710b6c2da4f",
   "metadata": {},
   "source": [
    "### 2.Feature selection and Linear Regression model using Mutual Information statistics\n"
   ]
  },
  {
   "cell_type": "code",
   "execution_count": 100,
   "id": "d0253c14-0018-4f5c-9ddb-b6a838c9bafa",
   "metadata": {},
   "outputs": [],
   "source": [
    "# feature selection\n",
    "def select_features_mutinfo(X_train, y_train, X_test):\n",
    "    #Converting y_train into 1-dimensional\n",
    "    y_train=np.ravel(y_train)\n",
    "    # configure to select a subset of features\n",
    "    fs = SelectKBest(score_func=mutual_info_regression, k=88)\n",
    "    # learn relationship from training data\n",
    "    fs.fit(X_train, y_train)\n",
    "    # transform train input data\n",
    "    X_train_fs = fs.transform(X_train)\n",
    "    # transform test input data\n",
    "    X_test_fs = fs.transform(X_test)\n",
    "    return X_train_fs, X_test_fs, fs\n"
   ]
  },
  {
   "cell_type": "markdown",
   "id": "c593d54c-d0c3-440a-ab75-e6de60ea6a6c",
   "metadata": {},
   "source": [
    "### 2.a Mutual Information statistics - Target Variable hvac_S"
   ]
  },
  {
   "cell_type": "code",
   "execution_count": 101,
   "id": "13dda2ef-6ce8-4213-b479-0d181b2a6a5f",
   "metadata": {},
   "outputs": [],
   "source": [
    "# feature selection\n",
    "X_train_fs, X_test_fs, fs = select_features_mutinfo(X_train, y_train.hvac_S, X_test)"
   ]
  },
  {
   "cell_type": "code",
   "execution_count": 102,
   "id": "5c619c58-8af7-4842-bde0-ba5c8173f862",
   "metadata": {},
   "outputs": [
    {
     "name": "stdout",
     "output_type": "stream",
     "text": [
      "Feature 0: air_temp_set_1 : 0.481910\n",
      "Feature 1: air_temp_set_2 : 0.503714\n",
      "Feature 2: dew_point_temperature_set_1d : 0.269971\n",
      "Feature 3: relative_humidity_set_1 : 0.315129\n",
      "Feature 4: solar_radiation_set_1 : 0.247520\n",
      "Feature 5: zone_016_cooling_sp : 0.334180\n",
      "Feature 6: zone_017_cooling_sp : 0.351269\n",
      "Feature 7: zone_018_cooling_sp : 0.341269\n",
      "Feature 8: zone_019_cooling_sp : 0.264592\n",
      "Feature 9: zone_021_cooling_sp : 0.291792\n",
      "Feature 10: zone_023_cooling_sp : 0.395011\n",
      "Feature 11: zone_024_cooling_sp : 0.253373\n",
      "Feature 12: zone_025_cooling_sp : 0.389962\n",
      "Feature 13: zone_026_cooling_sp : 0.330923\n",
      "Feature 14: zone_027_cooling_sp : 0.382219\n",
      "Feature 15: zone_030_cooling_sp : 0.377638\n",
      "Feature 16: zone_032_cooling_sp : 0.591501\n",
      "Feature 17: zone_035_cooling_sp : 0.232246\n",
      "Feature 18: zone_036_cooling_sp : 0.265157\n",
      "Feature 19: zone_037_cooling_sp : 0.391410\n",
      "Feature 20: zone_038_cooling_sp : 0.297601\n",
      "Feature 21: zone_039_cooling_sp : 0.414770\n",
      "Feature 22: zone_041_cooling_sp : 0.385493\n",
      "Feature 23: zone_042_cooling_sp : 0.272114\n",
      "Feature 24: zone_043_cooling_sp : 0.398017\n",
      "Feature 25: zone_046_cooling_sp : 0.438751\n",
      "Feature 26: zone_047_cooling_sp : 0.317624\n",
      "Feature 27: zone_048_cooling_sp : 0.371154\n",
      "Feature 28: zone_049_cooling_sp : 0.368176\n",
      "Feature 29: zone_051_cooling_sp : 0.373062\n",
      "Feature 30: zone_053_cooling_sp : 0.454668\n",
      "Feature 31: zone_054_cooling_sp : 0.419365\n",
      "Feature 32: zone_055_cooling_sp : 0.417921\n",
      "Feature 33: zone_056_cooling_sp : 0.347881\n",
      "Feature 34: zone_057_cooling_sp : 0.399162\n",
      "Feature 35: zone_059_cooling_sp : 0.394043\n",
      "Feature 36: zone_061_cooling_sp : 0.425523\n",
      "Feature 37: zone_062_cooling_sp : 0.382068\n",
      "Feature 38: zone_063_cooling_sp : 0.397340\n",
      "Feature 39: zone_064_cooling_sp : 0.430463\n",
      "Feature 40: zone_065_cooling_sp : 0.328143\n",
      "Feature 41: zone_066_cooling_sp : 0.464121\n",
      "Feature 42: zone_067_cooling_sp : 0.381554\n",
      "Feature 43: zone_069_cooling_sp : 0.263329\n",
      "Feature 44: zone_070_cooling_sp : 0.437129\n",
      "Feature 45: zone_071_cooling_sp : 0.265204\n",
      "Feature 46: zone_016_heating_sp : 0.344208\n",
      "Feature 47: zone_017_heating_sp : 0.359188\n",
      "Feature 48: zone_018_heating_sp : 0.333179\n",
      "Feature 49: zone_019_heating_sp : 0.241976\n",
      "Feature 50: zone_021_heating_sp : 0.280195\n",
      "Feature 51: zone_023_heating_sp : 0.436181\n",
      "Feature 52: zone_024_heating_sp : 0.258613\n",
      "Feature 53: zone_025_heating_sp : 0.385579\n",
      "Feature 54: zone_026_heating_sp : 0.301725\n",
      "Feature 55: zone_027_heating_sp : 0.210648\n",
      "Feature 56: zone_030_heating_sp : 0.375163\n",
      "Feature 57: zone_032_heating_sp : 0.459833\n",
      "Feature 58: zone_035_heating_sp : 0.396986\n",
      "Feature 59: zone_036_heating_sp : 0.374190\n",
      "Feature 60: zone_037_heating_sp : 0.404175\n",
      "Feature 61: zone_038_heating_sp : 0.406573\n",
      "Feature 62: zone_039_heating_sp : 0.390557\n",
      "Feature 63: zone_041_heating_sp : 0.373790\n",
      "Feature 64: zone_042_heating_sp : 0.324541\n",
      "Feature 65: zone_043_heating_sp : 0.393085\n",
      "Feature 66: zone_046_heating_sp : 0.357939\n",
      "Feature 67: zone_047_heating_sp : 0.310674\n",
      "Feature 68: zone_048_heating_sp : 0.285873\n",
      "Feature 69: zone_049_heating_sp : 0.397676\n",
      "Feature 70: zone_051_heating_sp : 0.373513\n",
      "Feature 71: zone_053_heating_sp : 0.404381\n",
      "Feature 72: zone_054_heating_sp : 0.422195\n",
      "Feature 73: zone_055_heating_sp : 0.472653\n",
      "Feature 74: zone_056_heating_sp : 0.380603\n",
      "Feature 75: zone_057_heating_sp : 0.420831\n",
      "Feature 76: zone_059_heating_sp : 0.426360\n",
      "Feature 77: zone_061_heating_sp : 0.471039\n",
      "Feature 78: zone_062_heating_sp : 0.408342\n",
      "Feature 79: zone_063_heating_sp : 0.422988\n",
      "Feature 80: zone_064_heating_sp : 0.415204\n",
      "Feature 81: zone_065_heating_sp : 0.432083\n",
      "Feature 82: zone_066_heating_sp : 0.474758\n",
      "Feature 83: zone_067_heating_sp : 0.389336\n",
      "Feature 84: zone_069_heating_sp : 0.434912\n",
      "Feature 85: zone_070_heating_sp : 0.473800\n",
      "Feature 86: zone_071_heating_sp : 0.375787\n",
      "Feature 87: cerc_templogger_1 : 0.314828\n",
      "Feature 88: cerc_templogger_10 : 0.321270\n",
      "Feature 89: cerc_templogger_11 : 0.330193\n",
      "Feature 90: cerc_templogger_12 : 0.289301\n",
      "Feature 91: cerc_templogger_13 : 0.233965\n",
      "Feature 92: cerc_templogger_14 : 0.226709\n",
      "Feature 93: cerc_templogger_15 : 0.332190\n",
      "Feature 94: cerc_templogger_16 : 0.251608\n",
      "Feature 95: cerc_templogger_2 : 0.248573\n",
      "Feature 96: cerc_templogger_3 : 0.274515\n",
      "Feature 97: cerc_templogger_4 : 0.216388\n",
      "Feature 98: cerc_templogger_5 : 0.361644\n",
      "Feature 99: cerc_templogger_6 : 0.261654\n",
      "Feature 100: cerc_templogger_7 : 0.317355\n",
      "Feature 101: cerc_templogger_8 : 0.226434\n",
      "Feature 102: cerc_templogger_9 : 0.275044\n",
      "Feature 103: zone_016_temp : 0.190358\n",
      "Feature 104: zone_017_temp : 0.280174\n",
      "Feature 105: zone_018_temp : 0.230701\n",
      "Feature 106: zone_019_temp : 0.322484\n",
      "Feature 107: zone_021_temp : 0.320518\n",
      "Feature 108: zone_022_temp : 0.271297\n",
      "Feature 109: zone_023_temp : 0.236527\n",
      "Feature 110: zone_024_temp : 0.300532\n",
      "Feature 111: zone_025_temp : 0.203299\n",
      "Feature 112: zone_026_temp : 0.217877\n",
      "Feature 113: zone_027_temp : 0.282298\n",
      "Feature 114: zone_028_temp : 0.258710\n",
      "Feature 115: zone_030_temp : 0.195190\n",
      "Feature 116: zone_032_temp : 0.337390\n",
      "Feature 117: zone_033_temp : 0.308553\n",
      "Feature 118: zone_035_temp : 0.278069\n",
      "Feature 119: zone_036_temp : 0.241541\n",
      "Feature 120: zone_037_temp : 0.261409\n",
      "Feature 121: zone_038_temp : 0.323564\n",
      "Feature 122: zone_039_temp : 0.264931\n",
      "Feature 123: zone_040_temp : 0.250163\n",
      "Feature 124: zone_041_temp : 0.264479\n",
      "Feature 125: zone_042_temp : 0.306652\n",
      "Feature 126: zone_043_temp : 0.240245\n",
      "Feature 127: zone_044_temp : 0.272862\n",
      "Feature 128: zone_045_temp : 0.238804\n",
      "Feature 129: zone_046_temp : 0.250905\n",
      "Feature 130: zone_047_temp : 0.243439\n",
      "Feature 131: zone_048_temp : 0.233904\n",
      "Feature 132: zone_049_temp : 0.253992\n",
      "Feature 133: zone_051_temp : 0.323600\n",
      "Feature 134: zone_052_temp : 0.258602\n",
      "Feature 135: zone_053_temp : 0.266922\n",
      "Feature 136: zone_054_temp : 0.277795\n",
      "Feature 137: zone_055_temp : 0.302443\n",
      "Feature 138: zone_056_temp : 0.258876\n",
      "Feature 139: zone_057_temp : 0.292892\n",
      "Feature 140: zone_058_temp : 0.272720\n",
      "Feature 141: zone_059_temp : 0.236028\n",
      "Feature 142: zone_061_temp : 0.244817\n",
      "Feature 143: zone_062_temp : 0.215839\n",
      "Feature 144: zone_063_temp : 0.263460\n",
      "Feature 145: zone_064_temp : 0.229584\n",
      "Feature 146: zone_065_temp : 0.269270\n",
      "Feature 147: zone_066_temp : 0.316109\n",
      "Feature 148: zone_067_temp : 0.230073\n",
      "Feature 149: zone_068_temp : 0.239205\n",
      "Feature 150: zone_069_temp : 0.208706\n",
      "Feature 151: zone_070_temp : 0.220574\n",
      "Feature 152: zone_071_temp : 0.262541\n",
      "Feature 153: zone_072_temp : 0.263184\n",
      "Feature 154: zone_022_co2 : 0.175847\n",
      "Feature 155: zone_028_co2 : 0.123187\n",
      "Feature 156: zone_033_co2 : 0.136424\n",
      "Feature 157: zone_040_co2 : 0.104051\n",
      "Feature 158: zone_044_co2 : 0.126914\n",
      "Feature 159: zone_045_co2 : 0.109230\n",
      "Feature 160: zone_052_co2 : 0.123060\n",
      "Feature 161: zone_058_co2 : 0.143522\n",
      "Feature 162: zone_062_co2 : 0.114743\n",
      "Feature 163: zone_068_co2 : 0.114858\n",
      "Feature 164: zone_072_co2 : 0.132471\n"
     ]
    }
   ],
   "source": [
    "\n",
    "# Checking the scores for the features\n",
    "feature_list_hvacS_mut={}\n",
    "for i in range(len(fs.scores_)):\n",
    "    feature_list_hvacS_mut.update({fs.feature_names_in_[i]: fs.scores_[i]})\n",
    "    print('Feature %d: %s : %f' % (i,fs.feature_names_in_[i], fs.scores_[i]))\n"
   ]
  },
  {
   "cell_type": "code",
   "execution_count": 103,
   "id": "48473320-bcb4-4740-b5f9-ec063c6e0c57",
   "metadata": {},
   "outputs": [],
   "source": [
    "#creating dataframe from dictionary\n",
    "selected_feature_2=pd.DataFrame.from_dict(feature_list_hvacS_mut,columns=['value'],orient='index')\n",
    "\n",
    "#Sorting and listing top 40 features based on scores\n",
    "top_40_withmut_score=selected_feature_2.sort_values(by='value',ascending=False)[:40]\n",
    "\n",
    "feature_select_df_hvacS_2=all_df.loc[:,top_40_withmut_score.index]\n",
    "#feature_select_df_hvacS_2.to_csv('feature_select_df_hvacS_2.csv', sep=',', index=False, encoding='utf-8')"
   ]
  },
  {
   "cell_type": "code",
   "execution_count": 104,
   "id": "e9d05754-2df7-4256-9be1-a2b58d23d933",
   "metadata": {},
   "outputs": [
    {
     "data": {
      "text/plain": [
       "Index(['zone_032_cooling_sp', 'air_temp_set_2', 'air_temp_set_1',\n",
       "       'zone_066_heating_sp', 'zone_070_heating_sp', 'zone_055_heating_sp',\n",
       "       'zone_061_heating_sp', 'zone_066_cooling_sp', 'zone_032_heating_sp',\n",
       "       'zone_053_cooling_sp', 'zone_046_cooling_sp', 'zone_070_cooling_sp',\n",
       "       'zone_023_heating_sp', 'zone_069_heating_sp', 'zone_065_heating_sp',\n",
       "       'zone_064_cooling_sp', 'zone_059_heating_sp', 'zone_061_cooling_sp',\n",
       "       'zone_063_heating_sp', 'zone_054_heating_sp', 'zone_057_heating_sp',\n",
       "       'zone_054_cooling_sp', 'zone_055_cooling_sp', 'zone_064_heating_sp',\n",
       "       'zone_039_cooling_sp', 'zone_062_heating_sp', 'zone_038_heating_sp',\n",
       "       'zone_053_heating_sp', 'zone_037_heating_sp', 'zone_057_cooling_sp',\n",
       "       'zone_043_cooling_sp', 'zone_049_heating_sp', 'zone_063_cooling_sp',\n",
       "       'zone_035_heating_sp', 'zone_023_cooling_sp', 'zone_059_cooling_sp',\n",
       "       'zone_043_heating_sp', 'zone_037_cooling_sp', 'zone_039_heating_sp',\n",
       "       'zone_025_cooling_sp'],\n",
       "      dtype='object')"
      ]
     },
     "execution_count": 104,
     "metadata": {},
     "output_type": "execute_result"
    }
   ],
   "source": [
    "top_40_withmut_score.index"
   ]
  },
  {
   "cell_type": "code",
   "execution_count": 105,
   "id": "a9761160-b55b-4398-9d86-65a339ca18b4",
   "metadata": {},
   "outputs": [
    {
     "data": {
      "image/png": "[encoded data removed]",
      "text/plain": [
       "<Figure size 2500x800 with 1 Axes>"
      ]
     },
     "metadata": {},
     "output_type": "display_data"
    }
   ],
   "source": [
    "# plot the scores\n",
    "\n",
    "plt.figure(figsize=(25, 8))\n",
    "plt.bar(selected_feature_2.index,selected_feature_2.value)\n",
    "plt.xticks(selected_feature_2.index, rotation='vertical')\n",
    "plt.title('Mutual Information Score for the all Features -target variable Hvac_S')\n",
    "plt.show()"
   ]
  },
  {
   "cell_type": "markdown",
   "id": "bd89e6af-3312-4040-97a7-22199e8b5935",
   "metadata": {},
   "source": [
    "#### Building Basic Linear Model"
   ]
  },
  {
   "cell_type": "code",
   "execution_count": 106,
   "id": "7ba90ba6-b0ae-448f-b700-6f91b4679c51",
   "metadata": {},
   "outputs": [
    {
     "name": "stdout",
     "output_type": "stream",
     "text": [
      "MAE: 0.000000\n"
     ]
    }
   ],
   "source": [
    "# fiting the model\n",
    "Ln_model_2 = LinearRegression()\n",
    "Ln_model_2.fit(X_train_fs, y_train)\n",
    "# evaluate the model\n",
    "y_pred_2 = Ln_model_2.predict(X_test_fs)\n",
    "# evaluate predictions\n",
    "mae = mean_absolute_error(y_pred_2, y_pred_2)\n",
    "print('MAE: %.6f' % mae)"
   ]
  },
  {
   "cell_type": "markdown",
   "id": "2f0b4449-e132-475b-963d-525e7fab96c7",
   "metadata": {},
   "source": [
    "### 2.b  Mutual Information statistics - Target Variable hvac_N"
   ]
  },
  {
   "cell_type": "code",
   "execution_count": 107,
   "id": "ee041156-56b9-4e05-a33b-f5076f155ffa",
   "metadata": {},
   "outputs": [],
   "source": [
    "# feature selection\n",
    "X_train_fsN, X_test_fsN, fsN = select_features_mutinfo(X_train, y_train.hvac_N, X_test)"
   ]
  },
  {
   "cell_type": "code",
   "execution_count": 108,
   "id": "b288e222-91e6-4f52-8cee-f090e54855ec",
   "metadata": {},
   "outputs": [
    {
     "name": "stdout",
     "output_type": "stream",
     "text": [
      "Feature 0: air_temp_set_1 : 0.342211\n",
      "Feature 1: air_temp_set_2 : 0.350944\n",
      "Feature 2: dew_point_temperature_set_1d : 0.256322\n",
      "Feature 3: relative_humidity_set_1 : 0.287166\n",
      "Feature 4: solar_radiation_set_1 : 0.252034\n",
      "Feature 5: zone_016_cooling_sp : 0.653998\n",
      "Feature 6: zone_017_cooling_sp : 0.709831\n",
      "Feature 7: zone_018_cooling_sp : 0.484966\n",
      "Feature 8: zone_019_cooling_sp : 0.401987\n",
      "Feature 9: zone_021_cooling_sp : 0.868697\n",
      "Feature 10: zone_023_cooling_sp : 0.768772\n",
      "Feature 11: zone_024_cooling_sp : 0.425157\n",
      "Feature 12: zone_025_cooling_sp : 0.835135\n",
      "Feature 13: zone_026_cooling_sp : 0.614219\n",
      "Feature 14: zone_027_cooling_sp : 0.866592\n",
      "Feature 15: zone_030_cooling_sp : 0.788009\n",
      "Feature 16: zone_032_cooling_sp : 1.001818\n",
      "Feature 17: zone_035_cooling_sp : 0.384373\n",
      "Feature 18: zone_036_cooling_sp : 0.519289\n",
      "Feature 19: zone_037_cooling_sp : 0.839804\n",
      "Feature 20: zone_038_cooling_sp : 0.467401\n",
      "Feature 21: zone_039_cooling_sp : 0.775587\n",
      "Feature 22: zone_041_cooling_sp : 0.639751\n",
      "Feature 23: zone_042_cooling_sp : 0.492267\n",
      "Feature 24: zone_043_cooling_sp : 0.826029\n",
      "Feature 25: zone_046_cooling_sp : 0.683203\n",
      "Feature 26: zone_047_cooling_sp : 0.669267\n",
      "Feature 27: zone_048_cooling_sp : 0.731390\n",
      "Feature 28: zone_049_cooling_sp : 0.753751\n",
      "Feature 29: zone_051_cooling_sp : 0.978854\n",
      "Feature 30: zone_053_cooling_sp : 0.858803\n",
      "Feature 31: zone_054_cooling_sp : 0.808646\n",
      "Feature 32: zone_055_cooling_sp : 0.798694\n",
      "Feature 33: zone_056_cooling_sp : 0.877330\n",
      "Feature 34: zone_057_cooling_sp : 0.826099\n",
      "Feature 35: zone_059_cooling_sp : 0.722547\n",
      "Feature 36: zone_061_cooling_sp : 0.894928\n",
      "Feature 37: zone_062_cooling_sp : 0.773039\n",
      "Feature 38: zone_063_cooling_sp : 0.800567\n",
      "Feature 39: zone_064_cooling_sp : 0.636639\n",
      "Feature 40: zone_065_cooling_sp : 0.513260\n",
      "Feature 41: zone_066_cooling_sp : 0.856203\n",
      "Feature 42: zone_067_cooling_sp : 0.802035\n",
      "Feature 43: zone_069_cooling_sp : 0.557078\n",
      "Feature 44: zone_070_cooling_sp : 0.967902\n",
      "Feature 45: zone_071_cooling_sp : 0.664960\n",
      "Feature 46: zone_016_heating_sp : 0.654753\n",
      "Feature 47: zone_017_heating_sp : 0.762719\n",
      "Feature 48: zone_018_heating_sp : 0.474778\n",
      "Feature 49: zone_019_heating_sp : 0.474201\n",
      "Feature 50: zone_021_heating_sp : 0.883144\n",
      "Feature 51: zone_023_heating_sp : 0.880746\n",
      "Feature 52: zone_024_heating_sp : 0.432020\n",
      "Feature 53: zone_025_heating_sp : 0.841057\n",
      "Feature 54: zone_026_heating_sp : 0.592901\n",
      "Feature 55: zone_027_heating_sp : 0.527726\n",
      "Feature 56: zone_030_heating_sp : 0.821969\n",
      "Feature 57: zone_032_heating_sp : 0.782693\n",
      "Feature 58: zone_035_heating_sp : 0.976571\n",
      "Feature 59: zone_036_heating_sp : 0.873125\n",
      "Feature 60: zone_037_heating_sp : 0.903890\n",
      "Feature 61: zone_038_heating_sp : 0.490949\n",
      "Feature 62: zone_039_heating_sp : 0.876900\n",
      "Feature 63: zone_041_heating_sp : 0.723373\n",
      "Feature 64: zone_042_heating_sp : 0.435695\n",
      "Feature 65: zone_043_heating_sp : 0.809613\n",
      "Feature 66: zone_046_heating_sp : 0.774604\n",
      "Feature 67: zone_047_heating_sp : 0.677636\n",
      "Feature 68: zone_048_heating_sp : 0.485714\n",
      "Feature 69: zone_049_heating_sp : 0.821651\n",
      "Feature 70: zone_051_heating_sp : 0.875973\n",
      "Feature 71: zone_053_heating_sp : 0.918461\n",
      "Feature 72: zone_054_heating_sp : 0.807811\n",
      "Feature 73: zone_055_heating_sp : 0.971973\n",
      "Feature 74: zone_056_heating_sp : 0.900714\n",
      "Feature 75: zone_057_heating_sp : 0.956671\n",
      "Feature 76: zone_059_heating_sp : 0.885873\n",
      "Feature 77: zone_061_heating_sp : 0.852497\n",
      "Feature 78: zone_062_heating_sp : 0.821059\n",
      "Feature 79: zone_063_heating_sp : 0.770754\n",
      "Feature 80: zone_064_heating_sp : 0.829490\n",
      "Feature 81: zone_065_heating_sp : 0.903012\n",
      "Feature 82: zone_066_heating_sp : 0.874260\n",
      "Feature 83: zone_067_heating_sp : 0.764319\n",
      "Feature 84: zone_069_heating_sp : 0.787900\n",
      "Feature 85: zone_070_heating_sp : 0.977733\n",
      "Feature 86: zone_071_heating_sp : 0.979257\n",
      "Feature 87: cerc_templogger_1 : 0.279922\n",
      "Feature 88: cerc_templogger_10 : 0.241317\n",
      "Feature 89: cerc_templogger_11 : 0.377622\n",
      "Feature 90: cerc_templogger_12 : 0.277150\n",
      "Feature 91: cerc_templogger_13 : 0.260748\n",
      "Feature 92: cerc_templogger_14 : 0.234039\n",
      "Feature 93: cerc_templogger_15 : 0.401829\n",
      "Feature 94: cerc_templogger_16 : 0.244350\n",
      "Feature 95: cerc_templogger_2 : 0.301857\n",
      "Feature 96: cerc_templogger_3 : 0.311392\n",
      "Feature 97: cerc_templogger_4 : 0.238022\n",
      "Feature 98: cerc_templogger_5 : 0.453426\n",
      "Feature 99: cerc_templogger_6 : 0.247385\n",
      "Feature 100: cerc_templogger_7 : 0.483374\n",
      "Feature 101: cerc_templogger_8 : 0.252596\n",
      "Feature 102: cerc_templogger_9 : 0.246590\n",
      "Feature 103: zone_016_temp : 0.245605\n",
      "Feature 104: zone_017_temp : 0.354280\n",
      "Feature 105: zone_018_temp : 0.313065\n",
      "Feature 106: zone_019_temp : 0.301900\n",
      "Feature 107: zone_021_temp : 0.291876\n",
      "Feature 108: zone_022_temp : 0.303458\n",
      "Feature 109: zone_023_temp : 0.271895\n",
      "Feature 110: zone_024_temp : 0.355868\n",
      "Feature 111: zone_025_temp : 0.276394\n",
      "Feature 112: zone_026_temp : 0.269299\n",
      "Feature 113: zone_027_temp : 0.285555\n",
      "Feature 114: zone_028_temp : 0.281361\n",
      "Feature 115: zone_030_temp : 0.347779\n",
      "Feature 116: zone_032_temp : 0.407950\n",
      "Feature 117: zone_033_temp : 0.354679\n",
      "Feature 118: zone_035_temp : 0.279671\n",
      "Feature 119: zone_036_temp : 0.236353\n",
      "Feature 120: zone_037_temp : 0.315940\n",
      "Feature 121: zone_038_temp : 0.275638\n",
      "Feature 122: zone_039_temp : 0.257595\n",
      "Feature 123: zone_040_temp : 0.232200\n",
      "Feature 124: zone_041_temp : 0.285806\n",
      "Feature 125: zone_042_temp : 0.260171\n",
      "Feature 126: zone_043_temp : 0.301432\n",
      "Feature 127: zone_044_temp : 0.262197\n",
      "Feature 128: zone_045_temp : 0.260252\n",
      "Feature 129: zone_046_temp : 0.308916\n",
      "Feature 130: zone_047_temp : 0.308204\n",
      "Feature 131: zone_048_temp : 0.294882\n",
      "Feature 132: zone_049_temp : 0.285765\n",
      "Feature 133: zone_051_temp : 0.320456\n",
      "Feature 134: zone_052_temp : 0.283066\n",
      "Feature 135: zone_053_temp : 0.273014\n",
      "Feature 136: zone_054_temp : 0.300211\n",
      "Feature 137: zone_055_temp : 0.301211\n",
      "Feature 138: zone_056_temp : 0.283767\n",
      "Feature 139: zone_057_temp : 0.297524\n",
      "Feature 140: zone_058_temp : 0.274682\n",
      "Feature 141: zone_059_temp : 0.383266\n",
      "Feature 142: zone_061_temp : 0.446514\n",
      "Feature 143: zone_062_temp : 0.373244\n",
      "Feature 144: zone_063_temp : 0.286248\n",
      "Feature 145: zone_064_temp : 0.286658\n",
      "Feature 146: zone_065_temp : 0.335024\n",
      "Feature 147: zone_066_temp : 0.308217\n",
      "Feature 148: zone_067_temp : 0.261641\n",
      "Feature 149: zone_068_temp : 0.269843\n",
      "Feature 150: zone_069_temp : 0.256841\n",
      "Feature 151: zone_070_temp : 0.309313\n",
      "Feature 152: zone_071_temp : 0.289015\n",
      "Feature 153: zone_072_temp : 0.280356\n",
      "Feature 154: zone_022_co2 : 0.227528\n",
      "Feature 155: zone_028_co2 : 0.225831\n",
      "Feature 156: zone_033_co2 : 0.257545\n",
      "Feature 157: zone_040_co2 : 0.169530\n",
      "Feature 158: zone_044_co2 : 0.208854\n",
      "Feature 159: zone_045_co2 : 0.192044\n",
      "Feature 160: zone_052_co2 : 0.225173\n",
      "Feature 161: zone_058_co2 : 0.257065\n",
      "Feature 162: zone_062_co2 : 0.237968\n",
      "Feature 163: zone_068_co2 : 0.212068\n",
      "Feature 164: zone_072_co2 : 0.253650\n"
     ]
    }
   ],
   "source": [
    "# Checking the scores for the features\n",
    "feature_list_hvacN_mut={}\n",
    "for i in range(len(fsN.scores_)):\n",
    "    feature_list_hvacN_mut.update({fsN.feature_names_in_[i]: fsN.scores_[i]})\n",
    "    print('Feature %d: %s : %f' % (i,fsN.feature_names_in_[i], fsN.scores_[i]))\n"
   ]
  },
  {
   "cell_type": "code",
   "execution_count": 109,
   "id": "47960b65-18ec-4a74-b1bc-6f9095581043",
   "metadata": {},
   "outputs": [],
   "source": [
    "#creating dataframe from dictionary\n",
    "selected_feature_N2=pd.DataFrame.from_dict(feature_list_hvacN_mut,columns=['value'],orient='index')\n",
    "\n",
    "#Sorting and listing top 40 features based on scores\n",
    "top_40_withmut_score_N=selected_feature_N2.sort_values(by='value',ascending=False)[:40]"
   ]
  },
  {
   "cell_type": "code",
   "execution_count": 110,
   "id": "2e969773-5f39-4b28-89e2-2a38acbfffa8",
   "metadata": {},
   "outputs": [
    {
     "data": {
      "text/plain": [
       "Index(['zone_032_cooling_sp', 'zone_071_heating_sp', 'zone_051_cooling_sp',\n",
       "       'zone_070_heating_sp', 'zone_035_heating_sp', 'zone_055_heating_sp',\n",
       "       'zone_070_cooling_sp', 'zone_057_heating_sp', 'zone_053_heating_sp',\n",
       "       'zone_037_heating_sp', 'zone_065_heating_sp', 'zone_056_heating_sp',\n",
       "       'zone_061_cooling_sp', 'zone_059_heating_sp', 'zone_021_heating_sp',\n",
       "       'zone_023_heating_sp', 'zone_056_cooling_sp', 'zone_039_heating_sp',\n",
       "       'zone_051_heating_sp', 'zone_066_heating_sp', 'zone_036_heating_sp',\n",
       "       'zone_021_cooling_sp', 'zone_027_cooling_sp', 'zone_053_cooling_sp',\n",
       "       'zone_066_cooling_sp', 'zone_061_heating_sp', 'zone_025_heating_sp',\n",
       "       'zone_037_cooling_sp', 'zone_025_cooling_sp', 'zone_064_heating_sp',\n",
       "       'zone_057_cooling_sp', 'zone_043_cooling_sp', 'zone_030_heating_sp',\n",
       "       'zone_049_heating_sp', 'zone_062_heating_sp', 'zone_043_heating_sp',\n",
       "       'zone_054_cooling_sp', 'zone_054_heating_sp', 'zone_067_cooling_sp',\n",
       "       'zone_063_cooling_sp'],\n",
       "      dtype='object')"
      ]
     },
     "execution_count": 110,
     "metadata": {},
     "output_type": "execute_result"
    }
   ],
   "source": [
    "top_40_withmut_score_N.index"
   ]
  },
  {
   "cell_type": "code",
   "execution_count": 111,
   "id": "07183a48-0b69-48c2-8b9b-aa262bdd8167",
   "metadata": {},
   "outputs": [
    {
     "data": {
      "image/png": "[encoded data removed]",
      "text/plain": [
       "<Figure size 2500x800 with 1 Axes>"
      ]
     },
     "metadata": {},
     "output_type": "display_data"
    }
   ],
   "source": [
    "# plot the scores\n",
    "\n",
    "plt.figure(figsize=(25, 8))\n",
    "plt.bar(selected_feature_N2.index,selected_feature_N2.value)\n",
    "plt.xticks(selected_feature_N2.index, rotation='vertical')\n",
    "plt.title('Mutual Information score for the all Features -target variable Hvac_N')\n",
    "plt.show()"
   ]
  },
  {
   "cell_type": "markdown",
   "id": "b8da80f0-fba7-4ceb-85e5-50331e5bd36a",
   "metadata": {},
   "source": [
    "# Building Models"
   ]
  },
  {
   "cell_type": "markdown",
   "id": "8684adf6-f6f5-40c0-aecb-72dd640e705a",
   "metadata": {},
   "source": [
    "## Multiple Linear Regression"
   ]
  },
  {
   "cell_type": "markdown",
   "id": "d09ef261-196a-4702-9446-f7be8e44c521",
   "metadata": {
    "editable": true,
    "slideshow": {
     "slide_type": ""
    },
    "tags": []
   },
   "source": [
    "### With Feature selected with correlation statistics \n",
    "-  We will be building models with selected features from correlation statistics and taget variables- hvac_S and hvac_N\n",
    "-  And we will select selective feature from feature dataset"
   ]
  },
  {
   "cell_type": "markdown",
   "id": "20ae1bfb-86b0-4277-bc25-660a039151f3",
   "metadata": {},
   "source": [
    "### With Feature selected with correlation statistics for target variable Hvac_S"
   ]
  },
  {
   "cell_type": "code",
   "execution_count": 187,
   "id": "d53645df-7867-44fc-a534-e97b1c0a5e2f",
   "metadata": {},
   "outputs": [],
   "source": [
    "#Selected features through Cooreleation Statistics for target Hvac_S : top_40_withcorr_score_S.index\n",
    "feature_corr=feature.loc[:,top_40_withcorr_score_S.index]"
   ]
  },
  {
   "cell_type": "code",
   "execution_count": 198,
   "id": "c9b7edba-6e91-4a52-b47c-e7dca87ce7fd",
   "metadata": {},
   "outputs": [],
   "source": [
    "#data=feature_corr\n",
    "#data.to_csv('data_X_all_corr.csv', index=False) \n",
    "#target.to_csv('target_all_corr.csv',index=False)"
   ]
  },
  {
   "cell_type": "code",
   "execution_count": 188,
   "id": "22eee149-c6db-4840-8517-c9f13a75ff1f",
   "metadata": {},
   "outputs": [],
   "source": [
    "##We will keep 10% data for demo purpose.\n",
    "X1, X_test_demo, y1, y_test_demo = train_test_split(feature_corr,target, random_state=42, test_size=0.1)\n"
   ]
  },
  {
   "cell_type": "code",
   "execution_count": 195,
   "id": "3b42d9a3-d171-4de0-907f-2f7f64ca1959",
   "metadata": {},
   "outputs": [],
   "source": [
    "## Saving the data for Demo\n",
    "X_test_demo.to_csv('X_test_corr_demo.csv', index=False)  \n",
    "y_test_demo.to_csv('y_test_corr_demo.csv', index=False)  "
   ]
  },
  {
   "cell_type": "code",
   "execution_count": 196,
   "id": "b1498156-fa6b-40b0-88f3-19ba51d9ce4e",
   "metadata": {},
   "outputs": [],
   "source": [
    "## Saving the data for demo modelling\n",
    "X1.to_csv('X_train_corr_demo.csv', index=False) \n",
    "y1.to_csv('y_train_corr_demo.csv', index=False) "
   ]
  },
  {
   "cell_type": "code",
   "execution_count": 190,
   "id": "064414e6-015c-4932-8807-2d4261895a30",
   "metadata": {},
   "outputs": [],
   "source": [
    "#Splitting the data in 70-30 split\n",
    "X_train, X_test, y_train, y_test = train_test_split(X1,y1, random_state=42, test_size=0.3)"
   ]
  },
  {
   "cell_type": "markdown",
   "id": "a819ac31-4536-44d2-acea-80b7245c3b96",
   "metadata": {},
   "source": [
    "### Function to evaluate model evaluation metrics for linear regression"
   ]
  },
  {
   "cell_type": "code",
   "execution_count": 191,
   "id": "c6e9aad0-53b5-422a-b9e7-f138714e4f72",
   "metadata": {},
   "outputs": [],
   "source": [
    "## Function to evaluate the regression models\n",
    "def evaluate_regression_model(y_test,y_pred):\n",
    "    print('R2 score: {}'.format(r2_score(y_test,y_pred)))\n",
    "    print('Mean Absolute Error (MAE): {}'.format(mean_absolute_error(y_test, y_pred)))\n",
    "    print('Mean Squared Error (MSE): {}'.format(mean_squared_error(y_test, y_pred)))\n",
    "    rmse = np.sqrt(mean_squared_error(y_test, y_pred))\n",
    "    print('Root Mean Squared Error (RMSE): {}'.format(rmse))\n",
    "    print('Mean Absolute Percentage Error (MAPE): {}'.format(mean_absolute_percentage_error(y_test, y_pred)))\n",
    "    "
   ]
  },
  {
   "cell_type": "markdown",
   "id": "90feea7d-2b53-4341-986d-cb7b7dc2df8c",
   "metadata": {},
   "source": [
    "### Multiple Linear Regression with Feature Standardization "
   ]
  },
  {
   "cell_type": "code",
   "execution_count": 192,
   "id": "47b099cd-1f5b-435e-82b7-06784c729eb5",
   "metadata": {},
   "outputs": [
    {
     "name": "stdout",
     "output_type": "stream",
     "text": [
      "Training score: 0.5627261885038681\n",
      "Test score: 0.5586883313334714\n"
     ]
    }
   ],
   "source": [
    "#Creating Polynomial feature and then performing linear regression with Robust Scalar transformaton\n",
    "steps = [\n",
    "    ('scalar', RobustScaler()),\n",
    "  #  ('poly', PolynomialFeatures(degree=2,include_bias=False)),\n",
    "    ('model', LinearRegression())\n",
    "]\n",
    "\n",
    "pipeline = Pipeline(steps)\n",
    "pipeline.fit(X_train, y_train)\n",
    "\n",
    "print('Training score: {}'.format(pipeline.score(X_train, y_train)))\n",
    "print('Test score: {}'.format(pipeline.score(X_test,y_test)))"
   ]
  },
  {
   "cell_type": "code",
   "execution_count": 193,
   "id": "5f038587-319c-4995-9c98-720954b1b6d5",
   "metadata": {},
   "outputs": [],
   "source": [
    "#Predicting the target variables\n",
    "pred_cor_y=pipeline.predict(X_test)"
   ]
  },
  {
   "cell_type": "markdown",
   "id": "b850c36c-c316-4bc1-9179-ef914de12d73",
   "metadata": {},
   "source": [
    "#### Model Evaluation"
   ]
  },
  {
   "cell_type": "code",
   "execution_count": 194,
   "id": "af73aa1d-0ea3-4053-bee4-821ace7d4b76",
   "metadata": {},
   "outputs": [
    {
     "name": "stdout",
     "output_type": "stream",
     "text": [
      "R2 score: 0.5586883313334714\n",
      "Mean Absolute Error (MAE): 6.540254996775684\n",
      "Mean Squared Error (MSE): 78.66600104305084\n",
      "Root Mean Squared Error (RMSE): 8.869385606852981\n",
      "Mean Absolute Percentage Error (MAPE): 4496384876333519.0\n"
     ]
    }
   ],
   "source": [
    "#Model Evaluation\n",
    "evaluate_regression_model(y_test,pred_cor_y)"
   ]
  },
  {
   "cell_type": "markdown",
   "id": "76297bb8-3e81-4ff8-a59b-2ddbfa9d194f",
   "metadata": {},
   "source": [
    "### Multiple Linear Regression with Feature Standardization and Ridge Regularization"
   ]
  },
  {
   "cell_type": "code",
   "execution_count": 181,
   "id": "24470e5b-31b8-4b02-a127-a624ed151852",
   "metadata": {},
   "outputs": [
    {
     "name": "stdout",
     "output_type": "stream",
     "text": [
      "Training score: 0.7868793650562942\n",
      "Test score: 0.773986670947008\n"
     ]
    }
   ],
   "source": [
    "#Creating Polynomial feature and then performing linear regression with Standard Scalar and Ridge Regularization\n",
    "steps = [\n",
    "    ('scalar', StandardScaler()),\n",
    "    ('poly', PolynomialFeatures(degree=2,include_bias=False)),\n",
    "    ('model', Ridge(alpha=3, fit_intercept=True))\n",
    "]\n",
    "\n",
    "ridge_pipeline = Pipeline(steps)\n",
    "ridge_pipeline.fit(X_train, y_train)\n",
    "\n",
    "print('Training score: {}'.format(ridge_pipeline.score(X_train, y_train)))\n",
    "print('Test score: {}'.format(ridge_pipeline.score(X_test,y_test)))"
   ]
  },
  {
   "cell_type": "code",
   "execution_count": 182,
   "id": "7803295c-53a5-492f-85ca-bdb388b55e35",
   "metadata": {},
   "outputs": [],
   "source": [
    "#Predicting the target variables\n",
    "pred_cor_y_ridge=ridge_pipeline.predict(X_test)"
   ]
  },
  {
   "cell_type": "markdown",
   "id": "19a18422-01eb-4820-9604-1b048ac835b2",
   "metadata": {},
   "source": [
    "#### Model Evaluation"
   ]
  },
  {
   "cell_type": "code",
   "execution_count": 183,
   "id": "26fe939e-7057-4111-bcba-2199e4c1022a",
   "metadata": {},
   "outputs": [
    {
     "name": "stdout",
     "output_type": "stream",
     "text": [
      "R2 score: 0.773986670947008\n",
      "Mean Absolute Error (MAE): 4.4037480917082625\n",
      "Mean Squared Error (MSE): 39.892032084619444\n",
      "Root Mean Squared Error (RMSE): 6.316013939552338\n",
      "Mean Absolute Percentage Error (MAPE): 2598941275649747.5\n"
     ]
    }
   ],
   "source": [
    "#Model Evaluation\n",
    "evaluate_regression_model(y_test,pred_cor_y_ridge)"
   ]
  },
  {
   "cell_type": "markdown",
   "id": "d88b29d1-3617-4b6f-82ee-ea90e71bf49b",
   "metadata": {},
   "source": [
    "### We will be saving this model for Demo:"
   ]
  },
  {
   "cell_type": "code",
   "execution_count": 184,
   "id": "a15b9d56-255e-4688-bb45-c0698323f515",
   "metadata": {},
   "outputs": [],
   "source": [
    "Pkl_Filename = \"Pickle_MLRwithRidge_Model.pkl\"  \n",
    "\n",
    "with open(Pkl_Filename, 'wb') as file:  \n",
    "    pickle.dump(ridge_pipeline, file)"
   ]
  },
  {
   "cell_type": "markdown",
   "id": "e4154cc9-aac1-4aa4-aa16-eef67706ba90",
   "metadata": {},
   "source": [
    "### Multiple Linear Regression with Feature Standardization and Lasso Regularization"
   ]
  },
  {
   "cell_type": "code",
   "execution_count": 123,
   "id": "071b556d-c9b8-4d32-91dd-0361cc8cd6ed",
   "metadata": {},
   "outputs": [
    {
     "name": "stdout",
     "output_type": "stream",
     "text": [
      "Training score: 0.581848725283964\n",
      "Test score: 0.576040357460478\n"
     ]
    }
   ],
   "source": [
    "steps = [\n",
    "    ('scalar', StandardScaler()),\n",
    "   ('poly', PolynomialFeatures(degree=2)),\n",
    "    ('model', Lasso(alpha=.5, fit_intercept=True))\n",
    "]\n",
    "\n",
    "lasso_pipe = Pipeline(steps)\n",
    "lasso_pipe.fit(X_train, y_train)\n",
    "\n",
    "print('Training score: {}'.format(lasso_pipe.score(X_train, y_train)))\n",
    "print('Test score: {}'.format(lasso_pipe.score(X_test,y_test)))"
   ]
  },
  {
   "cell_type": "code",
   "execution_count": 124,
   "id": "0604d152-9455-44b4-87bc-f1e0a0076b07",
   "metadata": {},
   "outputs": [],
   "source": [
    "#Predicting the target variables\n",
    "pred_cor_y_lasso=lasso_pipe.predict(X_test)"
   ]
  },
  {
   "cell_type": "markdown",
   "id": "ee645989-f340-4f3e-860c-2e878bef3b58",
   "metadata": {},
   "source": [
    "#### Model Evaluation"
   ]
  },
  {
   "cell_type": "code",
   "execution_count": 125,
   "id": "e66a570e-f3bc-48aa-9784-402ae2d9cd31",
   "metadata": {},
   "outputs": [
    {
     "name": "stdout",
     "output_type": "stream",
     "text": [
      "R2 score: 0.576040357460478\n",
      "Mean Absolute Error (MAE): 6.256362856602495\n",
      "Mean Squared Error (MSE): 74.89660383662407\n",
      "Root Mean Squared Error (RMSE): 8.654282398710135\n",
      "Mean Absolute Percentage Error (MAPE): 5507639687378086.0\n"
     ]
    }
   ],
   "source": [
    "#Model Evaluation\n",
    "evaluate_regression_model(y_test,pred_cor_y_lasso)"
   ]
  },
  {
   "cell_type": "markdown",
   "id": "957d91e0-7dc3-44bc-b3f8-b22bd34aa6b8",
   "metadata": {},
   "source": [
    "### Feature selected with Correlation Statistics for target variable hvac_N"
   ]
  },
  {
   "cell_type": "code",
   "execution_count": 170,
   "id": "e5f58148-cf1c-48b7-9614-e89c84a38fc6",
   "metadata": {},
   "outputs": [],
   "source": [
    "#Selected features through Cooreleation Statistics for target Hvac_N : top_40_withcorr_score_N.index\n",
    "feature_corr_N=feature.loc[:,top_40_withcorr_score_N.index]"
   ]
  },
  {
   "cell_type": "code",
   "execution_count": 127,
   "id": "18a94218-c3ed-4796-bdb7-fd6df3746d78",
   "metadata": {},
   "outputs": [],
   "source": [
    "##We will keep 10% data for demo purpose.\n",
    "X2, X_test_demo2, y2, y_test_demo2 = train_test_split(feature_corr_N,target, random_state=42, test_size=0.1)"
   ]
  },
  {
   "cell_type": "code",
   "execution_count": 128,
   "id": "84192f2d-7d22-4dfd-a8ac-ce6b59f48f32",
   "metadata": {},
   "outputs": [],
   "source": [
    "#Splitting the data\n",
    "X_train, X_test, y_train, y_test = train_test_split(X2,y2, random_state=42, test_size=0.3)"
   ]
  },
  {
   "cell_type": "markdown",
   "id": "6faf3659-79d2-410c-8f07-88d1461e2979",
   "metadata": {},
   "source": [
    "### Multiple Linear Regression with Feature Standardization "
   ]
  },
  {
   "cell_type": "code",
   "execution_count": 129,
   "id": "d12466ae-5a5f-47cc-974d-82e8ade8205c",
   "metadata": {},
   "outputs": [
    {
     "name": "stdout",
     "output_type": "stream",
     "text": [
      "Training score: 0.8767288953893999\n",
      "Test score: -1670366715512159.2\n"
     ]
    }
   ],
   "source": [
    "#Creating Polynomial feature and then performing linear regression with Robust Scalar transformaton\n",
    "steps = [\n",
    "    ('scalar', RobustScaler()),\n",
    "    ('poly', PolynomialFeatures(degree=2,include_bias=False)),\n",
    "    ('model', LinearRegression())\n",
    "]\n",
    "\n",
    "pipeline = Pipeline(steps)\n",
    "pipeline.fit(X_train, y_train)\n",
    "\n",
    "print('Training score: {}'.format(pipeline.score(X_train, y_train)))\n",
    "print('Test score: {}'.format(pipeline.score(X_test,y_test)))"
   ]
  },
  {
   "cell_type": "code",
   "execution_count": 130,
   "id": "6e396969-c290-459c-a3ea-786689ec5d42",
   "metadata": {},
   "outputs": [],
   "source": [
    "#Predicting the target variables\n",
    "pred_cor_y=pipeline.predict(X_test)"
   ]
  },
  {
   "cell_type": "markdown",
   "id": "a776218a-b1d0-4e7a-a190-fa806848f1fa",
   "metadata": {},
   "source": [
    "#### Model Evaluation"
   ]
  },
  {
   "cell_type": "code",
   "execution_count": 131,
   "id": "0fad040b-d93e-427f-81ba-0422ee8db485",
   "metadata": {},
   "outputs": [
    {
     "name": "stdout",
     "output_type": "stream",
     "text": [
      "R2 score: -1670366715512159.2\n",
      "Mean Absolute Error (MAE): 11083243.196928866\n",
      "Mean Squared Error (MSE): 2.8584496059718733e+17\n",
      "Root Mean Squared Error (RMSE): 534644705.01183057\n",
      "Mean Absolute Percentage Error (MAPE): 7.292249156085209e+20\n"
     ]
    }
   ],
   "source": [
    "#Model Evaluation\n",
    "evaluate_regression_model(y_test,pred_cor_y)"
   ]
  },
  {
   "cell_type": "markdown",
   "id": "def9252d-00e8-475a-b405-b8563d14f9cd",
   "metadata": {},
   "source": [
    "### Multiple Linear Regression with Feature Standardization and Ridge Regularization"
   ]
  },
  {
   "cell_type": "code",
   "execution_count": 132,
   "id": "2ca37a45-2833-43fe-8b7a-861f20eee043",
   "metadata": {},
   "outputs": [
    {
     "name": "stdout",
     "output_type": "stream",
     "text": [
      "Training score: 0.7665602174306878\n",
      "Test score: 0.729840591527394\n"
     ]
    }
   ],
   "source": [
    "#Creating Polynomial feature and then performing linear regression with Standard Scalar and Ridge Regularization\n",
    "steps = [\n",
    "    ('scalar', StandardScaler()),\n",
    "    ('poly', PolynomialFeatures(degree=2,include_bias=False)),\n",
    "    ('model', Ridge(alpha=3, fit_intercept=True))\n",
    "]\n",
    "\n",
    "ridge_pipeline = Pipeline(steps)\n",
    "ridge_pipeline.fit(X_train, y_train)\n",
    "\n",
    "print('Training score: {}'.format(ridge_pipeline.score(X_train, y_train)))\n",
    "print('Test score: {}'.format(ridge_pipeline.score(X_test,y_test)))"
   ]
  },
  {
   "cell_type": "code",
   "execution_count": 133,
   "id": "90aefae8-3315-419d-a509-08cc4ee7c285",
   "metadata": {},
   "outputs": [],
   "source": [
    "#Predicting the target variables\n",
    "pred_cor_y_ridge=ridge_pipeline.predict(X_test)"
   ]
  },
  {
   "cell_type": "markdown",
   "id": "c2ee62d5-476e-47a5-85af-ebb0d4331969",
   "metadata": {},
   "source": [
    "#### Model Evaluation"
   ]
  },
  {
   "cell_type": "code",
   "execution_count": 134,
   "id": "08e157d8-b7df-45e6-9208-8aa188bc5f4d",
   "metadata": {},
   "outputs": [
    {
     "name": "stdout",
     "output_type": "stream",
     "text": [
      "R2 score: 0.729840591527394\n",
      "Mean Absolute Error (MAE): 4.7234692049939575\n",
      "Mean Squared Error (MSE): 47.60565580226904\n",
      "Root Mean Squared Error (RMSE): 6.8996851958816965\n",
      "Mean Absolute Percentage Error (MAPE): 2702190024943235.0\n"
     ]
    }
   ],
   "source": [
    "#Model Evaluation\n",
    "evaluate_regression_model(y_test,pred_cor_y_ridge)"
   ]
  },
  {
   "cell_type": "markdown",
   "id": "01593854-01c6-4f22-b4c5-334d0866c145",
   "metadata": {},
   "source": [
    "### Multiple Linear Regression with Feature Standardization and Lasso Regularization"
   ]
  },
  {
   "cell_type": "code",
   "execution_count": 135,
   "id": "a9cad108-403e-40d9-a34d-1e02dd49df2d",
   "metadata": {},
   "outputs": [
    {
     "name": "stdout",
     "output_type": "stream",
     "text": [
      "Training score: 0.5682590191691637\n",
      "Test score: 0.5650762630219444\n"
     ]
    }
   ],
   "source": [
    "steps = [\n",
    "    ('scalar', StandardScaler()),\n",
    "   ('poly', PolynomialFeatures(degree=2)),\n",
    "    ('model', Lasso(alpha=.5, fit_intercept=True))\n",
    "]\n",
    "\n",
    "lasso_pipe = Pipeline(steps)\n",
    "lasso_pipe.fit(X_train, y_train)\n",
    "\n",
    "print('Training score: {}'.format(lasso_pipe.score(X_train, y_train)))\n",
    "print('Test score: {}'.format(lasso_pipe.score(X_test,y_test)))"
   ]
  },
  {
   "cell_type": "code",
   "execution_count": 136,
   "id": "f385e39d-7005-4ea0-a3d8-c01c9e0c13d4",
   "metadata": {},
   "outputs": [],
   "source": [
    "#Predicting the target variables\n",
    "pred_cor_y_lasso=lasso_pipe.predict(X_test)"
   ]
  },
  {
   "cell_type": "markdown",
   "id": "1d3ea529-619e-4d82-9bea-962506f260da",
   "metadata": {},
   "source": [
    "#### Model Evaluation "
   ]
  },
  {
   "cell_type": "code",
   "execution_count": 137,
   "id": "98af8538-ad25-46b1-982c-d6251832ee02",
   "metadata": {},
   "outputs": [
    {
     "name": "stdout",
     "output_type": "stream",
     "text": [
      "R2 score: 0.5650762630219444\n",
      "Mean Absolute Error (MAE): 6.3382526396540495\n",
      "Mean Squared Error (MSE): 76.68238537142031\n",
      "Root Mean Squared Error (RMSE): 8.756847913000449\n",
      "Mean Absolute Percentage Error (MAPE): 5040569538481658.0\n"
     ]
    }
   ],
   "source": [
    "#Model Evaluation\n",
    "evaluate_regression_model(y_test,pred_cor_y_lasso)"
   ]
  },
  {
   "cell_type": "code",
   "execution_count": null,
   "id": "6072046d-603e-424d-ab3c-1023496503a2",
   "metadata": {},
   "outputs": [],
   "source": []
  },
  {
   "cell_type": "markdown",
   "id": "8cecb108-d80b-41c8-a8fb-4b0f214b9f1c",
   "metadata": {},
   "source": [
    "### With Feature selected with Mutual Information statistics \n",
    "-  We will be building models with selected features from mutual information statistics and taget variables- hvac_S and hvac_N\n",
    "-  And we will select selective feature from feature dataset"
   ]
  },
  {
   "cell_type": "markdown",
   "id": "f8c1fcb4-8e3b-4a30-a278-c13d54fd568a",
   "metadata": {},
   "source": [
    "### Selected features through Mutual Information Statistics for target Hvac_S "
   ]
  },
  {
   "cell_type": "code",
   "execution_count": 138,
   "id": "0b33a570-bdbf-4d68-b35a-54a9c2d4414d",
   "metadata": {},
   "outputs": [],
   "source": [
    "#Selected features through Mutual Information Statistics for target Hvac_S : top_40_withmut_score.index\n",
    "\n",
    "feature_mut=feature.loc[:,top_40_withmut_score.index]"
   ]
  },
  {
   "cell_type": "code",
   "execution_count": 139,
   "id": "cb90b3a6-50b0-44ab-b7c2-8ec4feff31ed",
   "metadata": {},
   "outputs": [],
   "source": [
    "##We will keep 10% data for demo purpose.\n",
    "X3, X_test_demo3, y3, y_test_demo3 = train_test_split(feature_mut,target, random_state=42, test_size=0.1)"
   ]
  },
  {
   "cell_type": "code",
   "execution_count": 140,
   "id": "f391ecbb-a047-43f8-8771-386f1cdef9ca",
   "metadata": {},
   "outputs": [],
   "source": [
    "#Splitting the data\n",
    "X_train, X_test, y_train, y_test = train_test_split(X3,y3, random_state=42, test_size=0.3)"
   ]
  },
  {
   "cell_type": "markdown",
   "id": "98cf6ca1-1d5c-4131-853c-09dd9d9bea40",
   "metadata": {},
   "source": [
    "### Multiple Linear Regression with Feature Standardization "
   ]
  },
  {
   "cell_type": "code",
   "execution_count": 141,
   "id": "27c89e14-4f64-4824-8fdd-8e12da1b3126",
   "metadata": {},
   "outputs": [
    {
     "name": "stdout",
     "output_type": "stream",
     "text": [
      "Training score: 0.41699209547148197\n",
      "Test score: -1.9794623521214203\n"
     ]
    }
   ],
   "source": [
    "#Creating Polynomial feature and then performing linear regression with Robust Scalar transformaton\n",
    "steps = [\n",
    "    ('scalar', StandardScaler()),\n",
    " #   ('poly', PolynomialFeatures(degree=2,include_bias=False)),\n",
    "    ('model', LinearRegression())\n",
    "]\n",
    "\n",
    "pipeline = Pipeline(steps)\n",
    "pipeline.fit(X_train, y_train)\n",
    "\n",
    "print('Training score: {}'.format(pipeline.score(X_train, y_train)))\n",
    "print('Test score: {}'.format(pipeline.score(X_test,y_test)))"
   ]
  },
  {
   "cell_type": "code",
   "execution_count": 142,
   "id": "505a4975-cbbf-4b0b-80ed-6b0f9aa86965",
   "metadata": {},
   "outputs": [],
   "source": [
    "#Predicting the target variables\n",
    "pred_mut_y=pipeline.predict(X_test)"
   ]
  },
  {
   "cell_type": "markdown",
   "id": "638e8efd-06c3-4962-8238-192c7206e0a8",
   "metadata": {},
   "source": [
    "### Model Evaluation"
   ]
  },
  {
   "cell_type": "code",
   "execution_count": 143,
   "id": "1822442b-9b59-4157-9906-a408acca72d4",
   "metadata": {},
   "outputs": [
    {
     "name": "stdout",
     "output_type": "stream",
     "text": [
      "R2 score: -1.9794623521214203\n",
      "Mean Absolute Error (MAE): 7.732300438152743\n",
      "Mean Squared Error (MSE): 552.6371118756764\n",
      "Root Mean Squared Error (RMSE): 23.508234980016606\n",
      "Mean Absolute Percentage Error (MAPE): 5495358499501677.0\n"
     ]
    }
   ],
   "source": [
    "#Model Evaluation\n",
    "evaluate_regression_model(y_test,pred_mut_y)"
   ]
  },
  {
   "cell_type": "markdown",
   "id": "3edd109f-478c-4626-9abe-6131f26c7a23",
   "metadata": {},
   "source": [
    "### Multiple Linear Regression with Feature Standardization and Ridge Regularization"
   ]
  },
  {
   "cell_type": "code",
   "execution_count": 144,
   "id": "0d9c0ff1-f035-43b3-9a24-a04744275c8b",
   "metadata": {},
   "outputs": [
    {
     "name": "stdout",
     "output_type": "stream",
     "text": [
      "Training score: 0.7098123611603643\n",
      "Test score: -2459888.5074168243\n"
     ]
    }
   ],
   "source": [
    "#Creating Polynomial feature and then performing linear regression with Standard Scalar and Ridge Regularization\n",
    "steps = [\n",
    "    ('scalar', RobustScaler()),\n",
    "    ('poly', PolynomialFeatures(degree=2,include_bias=False)),\n",
    "    ('model', Ridge(alpha=100, fit_intercept=True))\n",
    "]\n",
    "\n",
    "ridge_pipeline = Pipeline(steps)\n",
    "ridge_pipeline.fit(X_train, y_train)\n",
    "\n",
    "print('Training score: {}'.format(ridge_pipeline.score(X_train, y_train)))\n",
    "print('Test score: {}'.format(ridge_pipeline.score(X_test,y_test)))"
   ]
  },
  {
   "cell_type": "code",
   "execution_count": 145,
   "id": "3406ed60-4301-4026-afc6-fcc003cec43e",
   "metadata": {},
   "outputs": [],
   "source": [
    "#Predicting the target variables\n",
    "pred_mut_y_ridge=ridge_pipeline.predict(X_test)"
   ]
  },
  {
   "cell_type": "markdown",
   "id": "7f83793d-5a0d-4a94-b4b2-a90b146c9ee4",
   "metadata": {},
   "source": [
    "### Model Evaluation"
   ]
  },
  {
   "cell_type": "code",
   "execution_count": 146,
   "id": "decaba80-558e-496b-9d30-0f0556d9045e",
   "metadata": {},
   "outputs": [
    {
     "name": "stdout",
     "output_type": "stream",
     "text": [
      "R2 score: -2459888.5074168243\n",
      "Mean Absolute Error (MAE): 144.37038438688813\n",
      "Mean Squared Error (MSE): 414054930.77143574\n",
      "Root Mean Squared Error (RMSE): 20348.339754668825\n",
      "Mean Absolute Percentage Error (MAPE): 4178923967022160.0\n"
     ]
    }
   ],
   "source": [
    "#Model Evaluation\n",
    "evaluate_regression_model(y_test,pred_mut_y_ridge)"
   ]
  },
  {
   "cell_type": "markdown",
   "id": "a6872f08-a2d0-4823-9caf-751357bd485b",
   "metadata": {},
   "source": [
    "### Multiple Linear Regression with Feature Standardization and Lasso Regularization"
   ]
  },
  {
   "cell_type": "code",
   "execution_count": 147,
   "id": "a3901c6f-0849-49ed-bcc6-2773a5b889ae",
   "metadata": {},
   "outputs": [
    {
     "name": "stderr",
     "output_type": "stream",
     "text": [
      "D:\\MSDA_SJSU\\Application dwnload\\Anaconda_3\\Lib\\site-packages\\sklearn\\linear_model\\_coordinate_descent.py:631: ConvergenceWarning: Objective did not converge. You might want to increase the number of iterations, check the scale of the features or consider increasing regularisation. Duality gap: 2.952e+04, tolerance: 6.283e+02\n",
      "  model = cd_fast.enet_coordinate_descent(\n"
     ]
    },
    {
     "name": "stdout",
     "output_type": "stream",
     "text": [
      "Training score: 0.6030273886811406\n",
      "Test score: -2163.3104150414547\n"
     ]
    }
   ],
   "source": [
    "steps = [\n",
    "    ('scalar', StandardScaler()),\n",
    "   ('poly', PolynomialFeatures(degree=2)),\n",
    "    ('model', Lasso(alpha=.1, fit_intercept=True))\n",
    "]\n",
    "\n",
    "lasso_pipe = Pipeline(steps)\n",
    "lasso_pipe.fit(X_train, y_train)\n",
    "\n",
    "print('Training score: {}'.format(lasso_pipe.score(X_train, y_train)))\n",
    "print('Test score: {}'.format(lasso_pipe.score(X_test,y_test)))"
   ]
  },
  {
   "cell_type": "code",
   "execution_count": 148,
   "id": "d51c7998-01a6-4625-9e8d-fb0685b81980",
   "metadata": {},
   "outputs": [],
   "source": [
    "#Predicting the target variables\n",
    "pred_mut_y_lasso=lasso_pipe.predict(X_test)"
   ]
  },
  {
   "cell_type": "markdown",
   "id": "4c4dc110-e49a-43d3-815b-d7aa6102799a",
   "metadata": {},
   "source": [
    "### Model Evaluation"
   ]
  },
  {
   "cell_type": "code",
   "execution_count": 149,
   "id": "690e30cc-8ec0-4da5-b137-25e540cdae95",
   "metadata": {},
   "outputs": [
    {
     "name": "stdout",
     "output_type": "stream",
     "text": [
      "R2 score: -2163.3104150414547\n",
      "Mean Absolute Error (MAE): 11.104903918468338\n",
      "Mean Squared Error (MSE): 376056.45080908254\n",
      "Root Mean Squared Error (RMSE): 613.2344175020532\n",
      "Mean Absolute Percentage Error (MAPE): 4979520534206241.0\n"
     ]
    }
   ],
   "source": [
    "#Model Evaluation\n",
    "evaluate_regression_model(y_test,pred_mut_y_lasso)"
   ]
  },
  {
   "cell_type": "markdown",
   "id": "7c0da878-3b6a-4115-a1e3-39ea5476c146",
   "metadata": {},
   "source": [
    "### Selected features through Mutual  Information Statistics for target Hvac_N : top_40_withmut_score_N"
   ]
  },
  {
   "cell_type": "code",
   "execution_count": 150,
   "id": "c40ddde2-7c01-41f6-9220-94b04caab9c7",
   "metadata": {},
   "outputs": [],
   "source": [
    "#Selected features through Mutual Information Statistics for target Hvac_N : top_40_withmut_score_N.index\n",
    "\n",
    "feature_mut_N=feature.loc[:,top_40_withmut_score_N.index]"
   ]
  },
  {
   "cell_type": "code",
   "execution_count": 151,
   "id": "396607a7-e2c3-4354-bab7-24ec5b22c34a",
   "metadata": {},
   "outputs": [],
   "source": [
    "##We will keep 10% data for demo purpose.\n",
    "X4, X_test_demo4, y4, y_test_demo4 = train_test_split(feature_mut_N,target, random_state=42, test_size=0.1)"
   ]
  },
  {
   "cell_type": "code",
   "execution_count": 152,
   "id": "004159c5-0a81-4935-940c-011114a0e23a",
   "metadata": {},
   "outputs": [],
   "source": [
    "#Splitting the data\n",
    "X_train, X_test, y_train, y_test = train_test_split(X4,y4, random_state=42, test_size=0.3)"
   ]
  },
  {
   "cell_type": "markdown",
   "id": "ae8d0622-5660-417f-887d-5b95ffc87254",
   "metadata": {},
   "source": [
    "### Multiple Linear Regression with Feature Standardization "
   ]
  },
  {
   "cell_type": "code",
   "execution_count": 153,
   "id": "a6692ec0-c8a6-4873-b516-4ff84bb16591",
   "metadata": {},
   "outputs": [
    {
     "name": "stdout",
     "output_type": "stream",
     "text": [
      "Training score: 0.3811482292290813\n",
      "Test score: -12.058093950578279\n"
     ]
    }
   ],
   "source": [
    "#Creating Polynomial feature and then performing linear regression with Robust Scalar transformaton\n",
    "steps = [\n",
    "    ('scalar', StandardScaler()),\n",
    "  #  ('poly', PolynomialFeatures(degree=2,include_bias=False)),\n",
    "    ('model', LinearRegression())\n",
    "]\n",
    "\n",
    "pipeline = Pipeline(steps)\n",
    "pipeline.fit(X_train, y_train)\n",
    "\n",
    "print('Training score: {}'.format(pipeline.score(X_train, y_train)))\n",
    "print('Test score: {}'.format(pipeline.score(X_test,y_test)))"
   ]
  },
  {
   "cell_type": "code",
   "execution_count": 154,
   "id": "5cb0dd3c-834d-4a39-b8f8-f4e84b6a6583",
   "metadata": {},
   "outputs": [],
   "source": [
    "#Predicting the target variables\n",
    "pred_mut_y=pipeline.predict(X_test)"
   ]
  },
  {
   "cell_type": "markdown",
   "id": "644041d2-f395-4621-9b73-4de77b8c3627",
   "metadata": {},
   "source": [
    "### Model Evaluation"
   ]
  },
  {
   "cell_type": "code",
   "execution_count": 155,
   "id": "d17da048-0e03-4132-b2ee-4db70f797409",
   "metadata": {},
   "outputs": [
    {
     "name": "stdout",
     "output_type": "stream",
     "text": [
      "R2 score: -12.058093950578279\n",
      "Mean Absolute Error (MAE): 8.089582202947181\n",
      "Mean Squared Error (MSE): 2246.0658042401183\n",
      "Root Mean Squared Error (RMSE): 47.39267669419104\n",
      "Mean Absolute Percentage Error (MAPE): 5769236930067480.0\n"
     ]
    }
   ],
   "source": [
    "#Model Evaluation\n",
    "evaluate_regression_model(y_test,pred_mut_y)"
   ]
  },
  {
   "cell_type": "markdown",
   "id": "dfec3241-1ee7-4051-9822-9d34dbd9d98f",
   "metadata": {},
   "source": [
    "### Multiple Linear Regression with Feature Standardization and Ridge Regularization"
   ]
  },
  {
   "cell_type": "code",
   "execution_count": 156,
   "id": "221ab871-2f84-466f-abe6-78b9f037fc7f",
   "metadata": {},
   "outputs": [
    {
     "name": "stdout",
     "output_type": "stream",
     "text": [
      "Training score: 0.38107251542885207\n",
      "Test score: -11.877377213520857\n"
     ]
    }
   ],
   "source": [
    "#Creating Polynomial feature and then performing linear regression with Standard Scalar and Ridge Regularization\n",
    "steps = [\n",
    "    ('scalar', RobustScaler()),\n",
    " #   ('poly', PolynomialFeatures(degree=2,include_bias=False)),\n",
    "    ('model', Ridge(alpha=0.06, fit_intercept=True))\n",
    "]\n",
    "\n",
    "ridge_pipeline = Pipeline(steps)\n",
    "ridge_pipeline.fit(X_train, y_train)\n",
    "\n",
    "print('Training score: {}'.format(ridge_pipeline.score(X_train, y_train)))\n",
    "print('Test score: {}'.format(ridge_pipeline.score(X_test,y_test)))"
   ]
  },
  {
   "cell_type": "code",
   "execution_count": 157,
   "id": "d9531cac-1177-4dde-8b97-98c48cf4abf4",
   "metadata": {},
   "outputs": [],
   "source": [
    "#Predicting the target variables\n",
    "pred_mut_y_ridge=ridge_pipeline.predict(X_test)"
   ]
  },
  {
   "cell_type": "markdown",
   "id": "a792bbd8-e8a4-408a-98bb-8d57bcf1d281",
   "metadata": {},
   "source": [
    "### Model Evaluation"
   ]
  },
  {
   "cell_type": "code",
   "execution_count": 158,
   "id": "3a2aff2c-d17d-47c3-8eb0-724684621bef",
   "metadata": {},
   "outputs": [
    {
     "name": "stdout",
     "output_type": "stream",
     "text": [
      "R2 score: -11.877377213520857\n",
      "Mean Absolute Error (MAE): 8.086939496286234\n",
      "Mean Squared Error (MSE): 2216.4580133290974\n",
      "Root Mean Squared Error (RMSE): 47.079273712846266\n",
      "Mean Absolute Percentage Error (MAPE): 5773651278694969.0\n"
     ]
    }
   ],
   "source": [
    "#Model Evaluation\n",
    "evaluate_regression_model(y_test,pred_mut_y_ridge)"
   ]
  },
  {
   "cell_type": "markdown",
   "id": "31cb1b05-1083-4b5d-a809-87a3a1f6d19d",
   "metadata": {},
   "source": [
    "### Multiple Linear Regression with Feature Standardization and Lasso Regularization"
   ]
  },
  {
   "cell_type": "code",
   "execution_count": 159,
   "id": "cb5b5230-6244-430f-b8d8-c47c372736d9",
   "metadata": {},
   "outputs": [
    {
     "name": "stdout",
     "output_type": "stream",
     "text": [
      "Training score: 2.9976021664879227e-15\n",
      "Test score: -0.00012239884458731254\n"
     ]
    }
   ],
   "source": [
    "steps = [\n",
    "    ('scalar', StandardScaler()),\n",
    "   ('poly', PolynomialFeatures(degree=2)),\n",
    "    ('model', Lasso(alpha=100, fit_intercept=True))\n",
    "]\n",
    "\n",
    "lasso_pipe = Pipeline(steps)\n",
    "lasso_pipe.fit(X_train, y_train)\n",
    "\n",
    "print('Training score: {}'.format(lasso_pipe.score(X_train, y_train)))\n",
    "print('Test score: {}'.format(lasso_pipe.score(X_test,y_test)))"
   ]
  },
  {
   "cell_type": "code",
   "execution_count": 160,
   "id": "db5b69fa-9553-4262-ba93-fe9f88b11080",
   "metadata": {},
   "outputs": [],
   "source": [
    "#Predicting the target variables\n",
    "pred_mut_y_lasso=lasso_pipe.predict(X_test)"
   ]
  },
  {
   "cell_type": "markdown",
   "id": "914ea08b-46ad-453e-94c8-a6b9d3a4b665",
   "metadata": {},
   "source": [
    "### Model Evaluation"
   ]
  },
  {
   "cell_type": "code",
   "execution_count": 161,
   "id": "20df6b39-1264-4cf3-bcae-19e397c66fe1",
   "metadata": {},
   "outputs": [
    {
     "name": "stdout",
     "output_type": "stream",
     "text": [
      "R2 score: -0.00012239884458731254\n",
      "Mean Absolute Error (MAE): 10.582836904558455\n",
      "Mean Squared Error (MSE): 177.49923706245374\n",
      "Root Mean Squared Error (RMSE): 13.322883961907563\n",
      "Mean Absolute Percentage Error (MAPE): 7764055009408616.0\n"
     ]
    }
   ],
   "source": [
    "#Model Evaluation\n",
    "evaluate_regression_model(y_test,pred_mut_y_lasso)"
   ]
  },
  {
   "cell_type": "markdown",
   "id": "8a7bb66b-9803-4664-b4ff-3a9267a2b0be",
   "metadata": {},
   "source": [
    "### ------------------- End of Multiple Linear Regression Model --------- #"
   ]
  },
  {
   "cell_type": "markdown",
   "id": "b85281f6-d0c8-4d14-9961-f249d65982f0",
   "metadata": {},
   "source": [
    "## XGBoost for Regression "
   ]
  },
  {
   "cell_type": "markdown",
   "id": "bbd3b64e-8db9-4f17-a360-7abebba09f9f",
   "metadata": {},
   "source": [
    "### With Feature selected with correlation statistics \n",
    "-  We will be building models with selected features from correlation statistics and taget variables- hvac_S and hvac_N\n",
    "-  And we will select selective feature from feature dataset"
   ]
  },
  {
   "cell_type": "markdown",
   "id": "ac5b257d-26fe-4aaf-a3c1-8e99ffb3b0bf",
   "metadata": {},
   "source": [
    "#### Reference\n",
    "- https://medium.com/@okanyenigun/cross-validation-techniques-for-machine-learning-a-guide-to-improve-model-performance-8748d46281cc\n",
    "- https://machinelearningmastery.com/gradient-boosting-with-scikit-learn-xgboost-lightgbm-and-catboost/"
   ]
  },
  {
   "cell_type": "markdown",
   "id": "0c9c36e5-4858-4fdb-b664-eaf3db5d5f7b",
   "metadata": {},
   "source": [
    "#### Selected features through Cooreleation Statistics for target Hvac_S : top_40_withcorr_score_S"
   ]
  },
  {
   "cell_type": "code",
   "execution_count": 283,
   "id": "8ed5e818-b937-407b-9b4c-1c205a75d8b8",
   "metadata": {},
   "outputs": [],
   "source": [
    "#Selected features through Cooreleation Statistics for target Hvac_S : top_40_withcorr_score_S.index\n",
    "feature_corr_S=feature.loc[:,top_40_withcorr_score_S.index]\n",
    "\n",
    "##We will keep 10% data for demo purpose.\n",
    "X5, X_test_demo5, y5, y_test_demo5 = train_test_split(feature_corr_S,target, random_state=42, test_size=0.1)\n",
    "                                                      \n",
    "#Splitting the data\n",
    "X_train, X_test, y_train, y_test = train_test_split(X5,y5.hvac_S, random_state=42, test_size=0.3)"
   ]
  },
  {
   "cell_type": "code",
   "execution_count": 291,
   "id": "4ae29697-b546-455f-b344-020337eb0bcf",
   "metadata": {},
   "outputs": [],
   "source": [
    "## Saving the data for Demo\n",
    "X_test_demo5.to_csv('X_test_XGBcorrS_demo.csv', index=False)  \n",
    "y_test_demo5.to_csv('y_test_XGBcorrS_demo.csv', index=False)  "
   ]
  },
  {
   "cell_type": "code",
   "execution_count": 292,
   "id": "749f8ce6-3aad-43b1-8ead-4dd630c9efd5",
   "metadata": {},
   "outputs": [],
   "source": [
    "## Saving the data for demo modelling\n",
    "X5.to_csv('X_train_XGBcorrS_demo.csv', index=False) \n",
    "y5.to_csv('y_train_XGBcorrS_demo.csv', index=False)"
   ]
  },
  {
   "cell_type": "code",
   "execution_count": 286,
   "id": "4d93ab96-712f-4b13-9919-75683ef2988a",
   "metadata": {},
   "outputs": [],
   "source": [
    "# Building the model\n",
    "xgb_corrS = XGBRegressor(objective='reg:squarederror')"
   ]
  },
  {
   "cell_type": "code",
   "execution_count": 287,
   "id": "b1087ea4-3b10-4704-a2e6-66c70680d112",
   "metadata": {},
   "outputs": [
    {
     "name": "stdout",
     "output_type": "stream",
     "text": [
      "Best Parameters :  {'learning_rate': 0.2, 'max_depth': 7}\n",
      "Best Score :  0.8897494404396161\n"
     ]
    }
   ],
   "source": [
    "# Setting up hyperparameter grid\n",
    "param_grid = {'max_depth': [3, 5, 7], 'learning_rate': [0.1, 0.2, 0.3]}\n",
    "\n",
    "# k-fold cross validation using GridSearch\n",
    "kf = KFold(n_splits=5)\n",
    "grid_search_corrS = GridSearchCV(xgb_corrS, param_grid, cv=kf)\n",
    "grid_search_corrS.fit(X_train, y_train)\n",
    "print('Best Parameters : ', grid_search_corrS.best_params_)\n",
    "print('Best Score : ', grid_search_corrS.best_score_)"
   ]
  },
  {
   "cell_type": "code",
   "execution_count": 288,
   "id": "b3914394-f41b-4bea-b6ee-a615e486be6b",
   "metadata": {},
   "outputs": [],
   "source": [
    "#Predicting the target variables\n",
    "pred_corrS=grid_search_corrS.predict(X_test)"
   ]
  },
  {
   "cell_type": "markdown",
   "id": "03954235-5474-491e-8239-ae3ed863ddc3",
   "metadata": {},
   "source": [
    "### Model Evaluation"
   ]
  },
  {
   "cell_type": "code",
   "execution_count": 289,
   "id": "61b54c0c-9248-4b78-8cc3-3d20e56f71de",
   "metadata": {},
   "outputs": [
    {
     "name": "stdout",
     "output_type": "stream",
     "text": [
      "R2 score: 0.8923531075356226\n",
      "Mean Absolute Error (MAE): 2.9387807708894385\n",
      "Mean Squared Error (MSE): 18.071246140710723\n",
      "Root Mean Squared Error (RMSE): 4.251028833201525\n",
      "Mean Absolute Percentage Error (MAPE): 2186292397925481.5\n"
     ]
    }
   ],
   "source": [
    "#Model Evaluation\n",
    "evaluate_regression_model(y_test,pred_corrS)"
   ]
  },
  {
   "cell_type": "markdown",
   "id": "db91f191-6b31-4f34-aabc-f067a887378a",
   "metadata": {},
   "source": [
    "### We will be saving the model for demo - HvacS prediction"
   ]
  },
  {
   "cell_type": "code",
   "execution_count": 290,
   "id": "07e1aa81-9c05-41ee-bf30-825f464b4af6",
   "metadata": {},
   "outputs": [],
   "source": [
    "\n",
    "Pkl_Filename_HvacS = \"Pickle_XGBwithCorrS_Model.pkl\"  \n",
    "\n",
    "with open(Pkl_Filename_HvacS, 'wb') as file:  \n",
    "    pickle.dump(grid_search_corrS, file)"
   ]
  },
  {
   "cell_type": "markdown",
   "id": "c71fa55a-a608-4138-babf-4e5a6a83cca0",
   "metadata": {},
   "source": [
    "#### Selected features through Coorelation Statistics for target Hvac_N : top_40_withcorr_score_N"
   ]
  },
  {
   "cell_type": "code",
   "execution_count": 266,
   "id": "29744dc0-b87e-416e-817e-035da7c8bfbd",
   "metadata": {},
   "outputs": [],
   "source": [
    "#Selected features through Cooreleation Statistics for target Hvac_N : top_40_withcorr_score_N.index\n",
    "feature_corr_N=feature.loc[:,top_40_withcorr_score_N.index]\n",
    "\n",
    "##We will keep 10% data for demo purpose.\n",
    "X6, X_test_demo6, y6, y_test_demo6 = train_test_split(feature_corr_N,target, random_state=42, test_size=0.1)\n",
    "\n",
    "#Splitting the data\n",
    "X_train, X_test, y_train, y_test = train_test_split(X6,y6.hvac_N, random_state=42, test_size=0.3)"
   ]
  },
  {
   "cell_type": "code",
   "execution_count": 267,
   "id": "4418c027-ba29-4dd4-a05a-dcc32bcf2f4e",
   "metadata": {},
   "outputs": [],
   "source": [
    "## Saving the data for Demo\n",
    "X_test_demo6.to_csv('X_test_corrN_demo.csv', index=False)  \n",
    "y_test_demo6.to_csv('y_test_corrN_demo.csv', index=False)  \n"
   ]
  },
  {
   "cell_type": "code",
   "execution_count": 243,
   "id": "194d4e9d-8779-47a9-96b5-9f937c139159",
   "metadata": {},
   "outputs": [],
   "source": [
    "# Building the model\n",
    "xgb_corrN = XGBRegressor(objective='reg:squarederror')"
   ]
  },
  {
   "cell_type": "code",
   "execution_count": 244,
   "id": "b1a5ac6d-06f3-44b9-b174-ae8b431a8f12",
   "metadata": {},
   "outputs": [
    {
     "name": "stdout",
     "output_type": "stream",
     "text": [
      "Best Parameters :  {'learning_rate': 0.3, 'max_depth': 7}\n",
      "Best Score :  0.9396079672397023\n"
     ]
    }
   ],
   "source": [
    "# Setting up hyperparameter grid\n",
    "param_grid = {'max_depth': [3, 5, 7], 'learning_rate': [0.1, 0.2, 0.3]}\n",
    "\n",
    "# k-fold cross validation using GridSearch\n",
    "kf = KFold(n_splits=8)\n",
    "grid_search_corrN = GridSearchCV(xgb_corrN, param_grid, cv=kf)\n",
    "grid_search_corrN.fit(X_train, y_train)\n",
    "print('Best Parameters : ', grid_search_corrN.best_params_)\n",
    "print('Best Score : ', grid_search_corrN.best_score_)"
   ]
  },
  {
   "cell_type": "code",
   "execution_count": 245,
   "id": "e98f4db5-6301-4079-aee5-12dbcf90bc2f",
   "metadata": {},
   "outputs": [],
   "source": [
    "#Predicting the target variables\n",
    "pred_corrN=grid_search_corrN.predict(X_test)"
   ]
  },
  {
   "cell_type": "markdown",
   "id": "62d3d66d-3256-46c3-ac8a-27e31194d038",
   "metadata": {},
   "source": [
    "### Model Evaluation"
   ]
  },
  {
   "cell_type": "code",
   "execution_count": 246,
   "id": "72aee9ad-2c71-4879-86c8-0f8a235d3df8",
   "metadata": {},
   "outputs": [
    {
     "name": "stdout",
     "output_type": "stream",
     "text": [
      "R2 score: 0.9431022297267233\n",
      "Mean Absolute Error (MAE): 1.8973391380819615\n",
      "Mean Squared Error (MSE): 10.644348945181516\n",
      "Root Mean Squared Error (RMSE): 3.2625678452993916\n",
      "Mean Absolute Percentage Error (MAPE): 532253542903811.9\n"
     ]
    }
   ],
   "source": [
    "#Model Evaluation\n",
    "evaluate_regression_model(y_test,pred_corrN)"
   ]
  },
  {
   "cell_type": "markdown",
   "id": "9286df77-e74f-4517-ac44-2f8f7c684430",
   "metadata": {},
   "source": [
    "### We will be saving this model for Demo:"
   ]
  },
  {
   "cell_type": "code",
   "execution_count": 247,
   "id": "663c2779-5971-40a9-8881-948fa7ed52c2",
   "metadata": {},
   "outputs": [],
   "source": [
    "\n",
    "Pkl_Filename_2 = \"Pickle_XGBwithCorrN_Model.pkl\"  \n",
    "\n",
    "with open(Pkl_Filename_2, 'wb') as file:  \n",
    "    pickle.dump(grid_search_corrN, file)"
   ]
  },
  {
   "cell_type": "markdown",
   "id": "7e5bc8e4-006c-4cc9-87ba-64eb8f65c4df",
   "metadata": {},
   "source": [
    "### With Feature selected with Mutual Information statistics \n",
    "-  We will be building models with selected features from Mutual Information statistics and taget variables- hvac_S and hvac_N\n",
    "-  And we will select selective feature from feature dataset"
   ]
  },
  {
   "cell_type": "markdown",
   "id": "9c960fd6-3c37-430c-b06a-bb111955fb3c",
   "metadata": {},
   "source": [
    "#### Selected features through Mutual Information Statistics for target Hvac_S : top_40_withmut_score"
   ]
  },
  {
   "cell_type": "code",
   "execution_count": 275,
   "id": "90d5f495-5115-49da-b7fb-3807b4f53886",
   "metadata": {},
   "outputs": [],
   "source": [
    "#Selected features through Mutual Information Statistics for target Hvac_S : top_40_withmut_score.index\n",
    "\n",
    "feature_mut_S=feature.loc[:,top_40_withmut_score.index]\n",
    "\n",
    "##We will keep 10% data for demo purpose.\n",
    "X7, X_test_demo7, y7, y_test_demo7 = train_test_split(feature_mut_S,target, random_state=42, test_size=0.1)\n",
    "\n",
    "#Splitting the data\n",
    "X_train, X_test, y_train, y_test = train_test_split(X7,y7.hvac_S, random_state=42, test_size=0.3)"
   ]
  },
  {
   "cell_type": "code",
   "execution_count": 276,
   "id": "3565aa4d-cfb8-47f5-85ac-119ce011cfdc",
   "metadata": {},
   "outputs": [],
   "source": [
    "## Saving the data for Demo\n",
    "X_test_demo7.to_csv('X_test_XGBmutS_demo.csv', index=False)  \n",
    "y_test_demo7.to_csv('y_test_XGBmutS_demo.csv', index=False)  "
   ]
  },
  {
   "cell_type": "code",
   "execution_count": 277,
   "id": "036f0924-b2c8-4292-8433-cb10d361f0f5",
   "metadata": {},
   "outputs": [],
   "source": [
    "## Saving the data for demo modelling\n",
    "X7.to_csv('X_train_XGBmutS_demo.csv', index=False) \n",
    "y7.to_csv('y_train_XGBmutS_demo.csv', index=False)"
   ]
  },
  {
   "cell_type": "code",
   "execution_count": 278,
   "id": "cfb57325-a3e5-4af2-806d-101e85abd1df",
   "metadata": {},
   "outputs": [],
   "source": [
    "# Building the model\n",
    "xgb_mutS = XGBRegressor(objective='reg:squarederror')"
   ]
  },
  {
   "cell_type": "code",
   "execution_count": 279,
   "id": "1788926d-fa76-4a23-b872-3ed8e0cdb568",
   "metadata": {},
   "outputs": [
    {
     "name": "stdout",
     "output_type": "stream",
     "text": [
      "Best Parameters :  {'learning_rate': 0.1, 'max_depth': 10}\n",
      "Best Score :  0.8020478081922248\n"
     ]
    }
   ],
   "source": [
    "# Setting up hyperparameter grid\n",
    "param_grid = {'max_depth': [9,10,12], 'learning_rate': [0.01,0.05,0.1, 0.2]}\n",
    "\n",
    "# k-fold cross validation using GridSearch\n",
    "kf = KFold(n_splits=8)\n",
    "grid_search_mutS = GridSearchCV(xgb_mutS, param_grid, cv=kf)\n",
    "grid_search_mutS.fit(X_train, y_train)\n",
    "print('Best Parameters : ', grid_search_mutS.best_params_)\n",
    "print('Best Score : ', grid_search_mutS.best_score_)"
   ]
  },
  {
   "cell_type": "code",
   "execution_count": 280,
   "id": "b9cfdde4-0db6-41f7-ae2d-2b11957fa03a",
   "metadata": {},
   "outputs": [],
   "source": [
    "#Predicting the target variables\n",
    "pred_mutS=grid_search_mutS.predict(X_test)"
   ]
  },
  {
   "cell_type": "markdown",
   "id": "5977548c-ae90-46b0-8f81-ed9d6c034b06",
   "metadata": {},
   "source": [
    "### Model Evaluation"
   ]
  },
  {
   "cell_type": "code",
   "execution_count": 281,
   "id": "3fefda51-4b69-4abd-80a3-274e0f794cb5",
   "metadata": {},
   "outputs": [
    {
     "name": "stdout",
     "output_type": "stream",
     "text": [
      "R2 score: 0.801654081233053\n",
      "Mean Absolute Error (MAE): 3.7462658396619624\n",
      "Mean Squared Error (MSE): 33.297365460215694\n",
      "Root Mean Squared Error (RMSE): 5.7703869419836735\n",
      "Mean Absolute Percentage Error (MAPE): 3133373976372010.5\n"
     ]
    }
   ],
   "source": [
    "#Model Evaluation\n",
    "evaluate_regression_model(y_test,pred_mutS)"
   ]
  },
  {
   "cell_type": "code",
   "execution_count": 282,
   "id": "42fd71ab-807f-4bac-95f2-a5b382264c47",
   "metadata": {},
   "outputs": [],
   "source": [
    "### We will be saving this model for Demo:\n",
    "\n",
    "Pkl_Filename_3 = \"Pickle_XGBwithMutS_Model.pkl\"  \n",
    "\n",
    "with open(Pkl_Filename_3, 'wb') as file:  \n",
    "    pickle.dump(grid_search_mutS, file)"
   ]
  },
  {
   "cell_type": "markdown",
   "id": "614ad547-077e-4d37-a164-1bb896d8b739",
   "metadata": {},
   "source": [
    "#### Selected features through Mutual Information Statistics for target Hvac_N : top_40_withmut_score_N"
   ]
  },
  {
   "cell_type": "code",
   "execution_count": 252,
   "id": "e830b199-e67c-41cf-b349-e566854d5c0e",
   "metadata": {},
   "outputs": [],
   "source": [
    "#Selected features through Mutual Information Statistics for target Hvac_N : top_40_withmut_score_N.index\n",
    "\n",
    "feature_mut_N=feature.loc[:,top_40_withmut_score_N.index]\n",
    "\n",
    "##We will keep 10% data for demo purpose.\n",
    "X8, X_test_demo8, y8, y_test_demo8 = train_test_split(feature_mut_N,target, random_state=42, test_size=0.1)\n",
    "\n",
    "\n",
    "#Splitting the data\n",
    "X_train, X_test, y_train, y_test = train_test_split(X8,y8.hvac_N, random_state=42, test_size=0.3)"
   ]
  },
  {
   "cell_type": "code",
   "execution_count": 254,
   "id": "e94973aa-18d6-4309-b52c-4eeb06a70264",
   "metadata": {},
   "outputs": [],
   "source": [
    "# Building the model\n",
    "xgb_mutN = XGBRegressor(objective='reg:squarederror')"
   ]
  },
  {
   "cell_type": "code",
   "execution_count": 236,
   "id": "5880f4aa-f413-4d6c-8546-1c8506549c42",
   "metadata": {},
   "outputs": [
    {
     "name": "stdout",
     "output_type": "stream",
     "text": [
      "Best Parameters :  {'learning_rate': 0.1, 'max_depth': 7}\n",
      "Best Score :  0.8212509099004706\n"
     ]
    }
   ],
   "source": [
    "# Setting up hyperparameter grid\n",
    "param_grid = {'max_depth': [6, 7, 9 , 10, 12], 'learning_rate': [0.01, 0.05, 0.1, 0.2]}\n",
    "\n",
    "# k-fold cross validation using GridSearch\n",
    "kf = KFold(n_splits=8)\n",
    "grid_search_mutN = GridSearchCV(xgb_mutN, param_grid, cv=kf)\n",
    "grid_search_mutN.fit(X_train, y_train)\n",
    "print('Best Parameters : ', grid_search_mutN.best_params_)\n",
    "print('Best Score : ', grid_search_mutN.best_score_)"
   ]
  },
  {
   "cell_type": "code",
   "execution_count": 237,
   "id": "e6448eb1-6cf9-4270-b18e-fa0703433a16",
   "metadata": {},
   "outputs": [],
   "source": [
    "#Predicting the target variables\n",
    "pred_mutN=grid_search_mutN.predict(X_test)"
   ]
  },
  {
   "cell_type": "markdown",
   "id": "0c40cac4-2b43-435b-9c2c-d44a8e802979",
   "metadata": {},
   "source": [
    "### Model Evaluation"
   ]
  },
  {
   "cell_type": "code",
   "execution_count": 238,
   "id": "d75ed706-0d39-40fc-8f8f-68a4b3719fc7",
   "metadata": {},
   "outputs": [
    {
     "name": "stdout",
     "output_type": "stream",
     "text": [
      "R2 score: 0.8204294066918683\n",
      "Mean Absolute Error (MAE): 3.2288326176187816\n",
      "Mean Squared Error (MSE): 33.59379543846148\n",
      "Root Mean Squared Error (RMSE): 5.796015479487738\n",
      "Mean Absolute Percentage Error (MAPE): 1712047587603719.5\n"
     ]
    }
   ],
   "source": [
    "#Model Evaluation\n",
    "evaluate_regression_model(y_test,pred_mutN)"
   ]
  },
  {
   "cell_type": "markdown",
   "id": "9f8115ea-c758-4c74-b863-c2df9b95c8b3",
   "metadata": {},
   "source": [
    "### ---------------------- End of XGBoost Model ----------------------- #"
   ]
  },
  {
   "cell_type": "code",
   "execution_count": null,
   "id": "29291d7c-4f62-4ab1-8b12-14f43d6ccce8",
   "metadata": {},
   "outputs": [],
   "source": []
  }
 ],
 "metadata": {
  "kernelspec": {
   "display_name": "Python 3 (ipykernel)",
   "language": "python",
   "name": "python3"
  },
  "language_info": {
   "codemirror_mode": {
    "name": "ipython",
    "version": 3
   },
   "file_extension": ".py",
   "mimetype": "text/x-python",
   "name": "python",
   "nbconvert_exporter": "python",
   "pygments_lexer": "ipython3",
   "version": "3.11.5"
  }
 },
 "nbformat": 4,
 "nbformat_minor": 5
}
