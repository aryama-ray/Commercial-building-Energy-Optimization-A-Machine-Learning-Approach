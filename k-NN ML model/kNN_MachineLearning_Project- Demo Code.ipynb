{
 "cells": [
  {
   "cell_type": "code",
   "execution_count": 13,
   "id": "4184ed6e",
   "metadata": {},
   "outputs": [],
   "source": [
    "import pickle\n",
    "import pandas as pd\n",
    "import warnings\n",
    "warnings.filterwarnings(\"ignore\")"
   ]
  },
  {
   "cell_type": "code",
   "execution_count": 14,
   "id": "19dcfc7e",
   "metadata": {},
   "outputs": [
    {
     "data": {
      "text/html": [
       "<style>#sk-container-id-4 {color: black;}#sk-container-id-4 pre{padding: 0;}#sk-container-id-4 div.sk-toggleable {background-color: white;}#sk-container-id-4 label.sk-toggleable__label {cursor: pointer;display: block;width: 100%;margin-bottom: 0;padding: 0.3em;box-sizing: border-box;text-align: center;}#sk-container-id-4 label.sk-toggleable__label-arrow:before {content: \"▸\";float: left;margin-right: 0.25em;color: #696969;}#sk-container-id-4 label.sk-toggleable__label-arrow:hover:before {color: black;}#sk-container-id-4 div.sk-estimator:hover label.sk-toggleable__label-arrow:before {color: black;}#sk-container-id-4 div.sk-toggleable__content {max-height: 0;max-width: 0;overflow: hidden;text-align: left;background-color: #f0f8ff;}#sk-container-id-4 div.sk-toggleable__content pre {margin: 0.2em;color: black;border-radius: 0.25em;background-color: #f0f8ff;}#sk-container-id-4 input.sk-toggleable__control:checked~div.sk-toggleable__content {max-height: 200px;max-width: 100%;overflow: auto;}#sk-container-id-4 input.sk-toggleable__control:checked~label.sk-toggleable__label-arrow:before {content: \"▾\";}#sk-container-id-4 div.sk-estimator input.sk-toggleable__control:checked~label.sk-toggleable__label {background-color: #d4ebff;}#sk-container-id-4 div.sk-label input.sk-toggleable__control:checked~label.sk-toggleable__label {background-color: #d4ebff;}#sk-container-id-4 input.sk-hidden--visually {border: 0;clip: rect(1px 1px 1px 1px);clip: rect(1px, 1px, 1px, 1px);height: 1px;margin: -1px;overflow: hidden;padding: 0;position: absolute;width: 1px;}#sk-container-id-4 div.sk-estimator {font-family: monospace;background-color: #f0f8ff;border: 1px dotted black;border-radius: 0.25em;box-sizing: border-box;margin-bottom: 0.5em;}#sk-container-id-4 div.sk-estimator:hover {background-color: #d4ebff;}#sk-container-id-4 div.sk-parallel-item::after {content: \"\";width: 100%;border-bottom: 1px solid gray;flex-grow: 1;}#sk-container-id-4 div.sk-label:hover label.sk-toggleable__label {background-color: #d4ebff;}#sk-container-id-4 div.sk-serial::before {content: \"\";position: absolute;border-left: 1px solid gray;box-sizing: border-box;top: 0;bottom: 0;left: 50%;z-index: 0;}#sk-container-id-4 div.sk-serial {display: flex;flex-direction: column;align-items: center;background-color: white;padding-right: 0.2em;padding-left: 0.2em;position: relative;}#sk-container-id-4 div.sk-item {position: relative;z-index: 1;}#sk-container-id-4 div.sk-parallel {display: flex;align-items: stretch;justify-content: center;background-color: white;position: relative;}#sk-container-id-4 div.sk-item::before, #sk-container-id-4 div.sk-parallel-item::before {content: \"\";position: absolute;border-left: 1px solid gray;box-sizing: border-box;top: 0;bottom: 0;left: 50%;z-index: -1;}#sk-container-id-4 div.sk-parallel-item {display: flex;flex-direction: column;z-index: 1;position: relative;background-color: white;}#sk-container-id-4 div.sk-parallel-item:first-child::after {align-self: flex-end;width: 50%;}#sk-container-id-4 div.sk-parallel-item:last-child::after {align-self: flex-start;width: 50%;}#sk-container-id-4 div.sk-parallel-item:only-child::after {width: 0;}#sk-container-id-4 div.sk-dashed-wrapped {border: 1px dashed gray;margin: 0 0.4em 0.5em 0.4em;box-sizing: border-box;padding-bottom: 0.4em;background-color: white;}#sk-container-id-4 div.sk-label label {font-family: monospace;font-weight: bold;display: inline-block;line-height: 1.2em;}#sk-container-id-4 div.sk-label-container {text-align: center;}#sk-container-id-4 div.sk-container {/* jupyter's `normalize.less` sets `[hidden] { display: none; }` but bootstrap.min.css set `[hidden] { display: none !important; }` so we also need the `!important` here to be able to override the default hidden behavior on the sphinx rendered scikit-learn.org. See: https://github.com/scikit-learn/scikit-learn/issues/21755 */display: inline-block !important;position: relative;}#sk-container-id-4 div.sk-text-repr-fallback {display: none;}</style><div id=\"sk-container-id-4\" class=\"sk-top-container\"><div class=\"sk-text-repr-fallback\"><pre>KNeighborsRegressor(metric=&#x27;mahalanobis&#x27;,\n",
       "                    metric_params={&#x27;VI&#x27;: array([[ 33.76833004, -33.75873386,   2.25332975, ...,   8.12025428,\n",
       "         -2.52696835,  -0.4010113 ],\n",
       "       [-33.75873386,  40.58472601,  -3.00150562, ...,  -6.03159385,\n",
       "          3.17785674,   0.17627688],\n",
       "       [  2.25332975,  -3.00150562,   7.73961407, ...,  -1.97323965,\n",
       "         -0.67009865,   1.64541436],\n",
       "       ...,\n",
       "       [  8.12025428,  -6.03159385,  -1.97323965, ..., 139.76917364,\n",
       "         10.11662333,   2.67248324],\n",
       "       [ -2.52696835,   3.17785674,  -0.67009865, ...,  10.11662333,\n",
       "          8.90096571,   2.11257881],\n",
       "       [ -0.4010113 ,   0.17627688,   1.64541436, ...,   2.67248324,\n",
       "          2.11257881,  16.03252175]])})</pre><b>In a Jupyter environment, please rerun this cell to show the HTML representation or trust the notebook. <br />On GitHub, the HTML representation is unable to render, please try loading this page with nbviewer.org.</b></div><div class=\"sk-container\" hidden><div class=\"sk-item\"><div class=\"sk-estimator sk-toggleable\"><input class=\"sk-toggleable__control sk-hidden--visually\" id=\"sk-estimator-id-4\" type=\"checkbox\" checked><label for=\"sk-estimator-id-4\" class=\"sk-toggleable__label sk-toggleable__label-arrow\">KNeighborsRegressor</label><div class=\"sk-toggleable__content\"><pre>KNeighborsRegressor(metric=&#x27;mahalanobis&#x27;,\n",
       "                    metric_params={&#x27;VI&#x27;: array([[ 33.76833004, -33.75873386,   2.25332975, ...,   8.12025428,\n",
       "         -2.52696835,  -0.4010113 ],\n",
       "       [-33.75873386,  40.58472601,  -3.00150562, ...,  -6.03159385,\n",
       "          3.17785674,   0.17627688],\n",
       "       [  2.25332975,  -3.00150562,   7.73961407, ...,  -1.97323965,\n",
       "         -0.67009865,   1.64541436],\n",
       "       ...,\n",
       "       [  8.12025428,  -6.03159385,  -1.97323965, ..., 139.76917364,\n",
       "         10.11662333,   2.67248324],\n",
       "       [ -2.52696835,   3.17785674,  -0.67009865, ...,  10.11662333,\n",
       "          8.90096571,   2.11257881],\n",
       "       [ -0.4010113 ,   0.17627688,   1.64541436, ...,   2.67248324,\n",
       "          2.11257881,  16.03252175]])})</pre></div></div></div></div></div>"
      ],
      "text/plain": [
       "KNeighborsRegressor(metric='mahalanobis',\n",
       "                    metric_params={'VI': array([[ 33.76833004, -33.75873386,   2.25332975, ...,   8.12025428,\n",
       "         -2.52696835,  -0.4010113 ],\n",
       "       [-33.75873386,  40.58472601,  -3.00150562, ...,  -6.03159385,\n",
       "          3.17785674,   0.17627688],\n",
       "       [  2.25332975,  -3.00150562,   7.73961407, ...,  -1.97323965,\n",
       "         -0.67009865,   1.64541436],\n",
       "       ...,\n",
       "       [  8.12025428,  -6.03159385,  -1.97323965, ..., 139.76917364,\n",
       "         10.11662333,   2.67248324],\n",
       "       [ -2.52696835,   3.17785674,  -0.67009865, ...,  10.11662333,\n",
       "          8.90096571,   2.11257881],\n",
       "       [ -0.4010113 ,   0.17627688,   1.64541436, ...,   2.67248324,\n",
       "          2.11257881,  16.03252175]])})"
      ]
     },
     "execution_count": 14,
     "metadata": {},
     "output_type": "execute_result"
    }
   ],
   "source": [
    "# Load the pickled KNN model\n",
    "with open(\"Pickle_kNN_hvac_S_Model.pkl\", \"rb\") as file:\n",
    "    knn_hvac_S_model = pickle.load(file)\n",
    "\n",
    "knn_hvac_S_model"
   ]
  },
  {
   "cell_type": "code",
   "execution_count": 15,
   "id": "acfd7ba1",
   "metadata": {},
   "outputs": [],
   "source": [
    "X1_test = pd.read_csv(\"test_10_S.csv\")\n",
    "X2_test = pd.read_csv(\"test_10_N.csv\")\n",
    "target_10 = pd.read_csv(\"target_test_10.csv\")\n",
    "y1_test = target_10['hvac_S']\n",
    "y2_test = target_10['hvac_S']"
   ]
  },
  {
   "cell_type": "code",
   "execution_count": 16,
   "id": "c15f516c",
   "metadata": {},
   "outputs": [
    {
     "data": {
      "text/plain": [
       "array([19.52806798, 18.17485745, 19.52806798, ..., 22.17191009,\n",
       "       19.52806798, 19.52806798])"
      ]
     },
     "execution_count": 16,
     "metadata": {},
     "output_type": "execute_result"
    }
   ],
   "source": [
    "knn_hvac_S_model.predict(X1_test)"
   ]
  },
  {
   "cell_type": "code",
   "execution_count": 18,
   "id": "ea360560",
   "metadata": {},
   "outputs": [
    {
     "data": {
      "text/html": [
       "<style>#sk-container-id-5 {color: black;}#sk-container-id-5 pre{padding: 0;}#sk-container-id-5 div.sk-toggleable {background-color: white;}#sk-container-id-5 label.sk-toggleable__label {cursor: pointer;display: block;width: 100%;margin-bottom: 0;padding: 0.3em;box-sizing: border-box;text-align: center;}#sk-container-id-5 label.sk-toggleable__label-arrow:before {content: \"▸\";float: left;margin-right: 0.25em;color: #696969;}#sk-container-id-5 label.sk-toggleable__label-arrow:hover:before {color: black;}#sk-container-id-5 div.sk-estimator:hover label.sk-toggleable__label-arrow:before {color: black;}#sk-container-id-5 div.sk-toggleable__content {max-height: 0;max-width: 0;overflow: hidden;text-align: left;background-color: #f0f8ff;}#sk-container-id-5 div.sk-toggleable__content pre {margin: 0.2em;color: black;border-radius: 0.25em;background-color: #f0f8ff;}#sk-container-id-5 input.sk-toggleable__control:checked~div.sk-toggleable__content {max-height: 200px;max-width: 100%;overflow: auto;}#sk-container-id-5 input.sk-toggleable__control:checked~label.sk-toggleable__label-arrow:before {content: \"▾\";}#sk-container-id-5 div.sk-estimator input.sk-toggleable__control:checked~label.sk-toggleable__label {background-color: #d4ebff;}#sk-container-id-5 div.sk-label input.sk-toggleable__control:checked~label.sk-toggleable__label {background-color: #d4ebff;}#sk-container-id-5 input.sk-hidden--visually {border: 0;clip: rect(1px 1px 1px 1px);clip: rect(1px, 1px, 1px, 1px);height: 1px;margin: -1px;overflow: hidden;padding: 0;position: absolute;width: 1px;}#sk-container-id-5 div.sk-estimator {font-family: monospace;background-color: #f0f8ff;border: 1px dotted black;border-radius: 0.25em;box-sizing: border-box;margin-bottom: 0.5em;}#sk-container-id-5 div.sk-estimator:hover {background-color: #d4ebff;}#sk-container-id-5 div.sk-parallel-item::after {content: \"\";width: 100%;border-bottom: 1px solid gray;flex-grow: 1;}#sk-container-id-5 div.sk-label:hover label.sk-toggleable__label {background-color: #d4ebff;}#sk-container-id-5 div.sk-serial::before {content: \"\";position: absolute;border-left: 1px solid gray;box-sizing: border-box;top: 0;bottom: 0;left: 50%;z-index: 0;}#sk-container-id-5 div.sk-serial {display: flex;flex-direction: column;align-items: center;background-color: white;padding-right: 0.2em;padding-left: 0.2em;position: relative;}#sk-container-id-5 div.sk-item {position: relative;z-index: 1;}#sk-container-id-5 div.sk-parallel {display: flex;align-items: stretch;justify-content: center;background-color: white;position: relative;}#sk-container-id-5 div.sk-item::before, #sk-container-id-5 div.sk-parallel-item::before {content: \"\";position: absolute;border-left: 1px solid gray;box-sizing: border-box;top: 0;bottom: 0;left: 50%;z-index: -1;}#sk-container-id-5 div.sk-parallel-item {display: flex;flex-direction: column;z-index: 1;position: relative;background-color: white;}#sk-container-id-5 div.sk-parallel-item:first-child::after {align-self: flex-end;width: 50%;}#sk-container-id-5 div.sk-parallel-item:last-child::after {align-self: flex-start;width: 50%;}#sk-container-id-5 div.sk-parallel-item:only-child::after {width: 0;}#sk-container-id-5 div.sk-dashed-wrapped {border: 1px dashed gray;margin: 0 0.4em 0.5em 0.4em;box-sizing: border-box;padding-bottom: 0.4em;background-color: white;}#sk-container-id-5 div.sk-label label {font-family: monospace;font-weight: bold;display: inline-block;line-height: 1.2em;}#sk-container-id-5 div.sk-label-container {text-align: center;}#sk-container-id-5 div.sk-container {/* jupyter's `normalize.less` sets `[hidden] { display: none; }` but bootstrap.min.css set `[hidden] { display: none !important; }` so we also need the `!important` here to be able to override the default hidden behavior on the sphinx rendered scikit-learn.org. See: https://github.com/scikit-learn/scikit-learn/issues/21755 */display: inline-block !important;position: relative;}#sk-container-id-5 div.sk-text-repr-fallback {display: none;}</style><div id=\"sk-container-id-5\" class=\"sk-top-container\"><div class=\"sk-text-repr-fallback\"><pre>KNeighborsRegressor(metric=&#x27;mahalanobis&#x27;,\n",
       "                    metric_params={&#x27;VI&#x27;: array([[ 7.32102305e+01,  2.48173641e+00,  2.33373591e+00, ...,\n",
       "        -2.91099071e+00,  2.38340250e+00, -7.54795040e+01],\n",
       "       [ 2.48173641e+00,  3.42215797e+01,  1.85744465e+00, ...,\n",
       "        -4.61738173e-03, -1.46439741e+00, -3.38584373e-01],\n",
       "       [ 2.33373591e+00,  1.85744465e+00,  8.30547027e+00, ...,\n",
       "        -1.04554806e+00,  4.53023199e-01, -8.66874296e-01],\n",
       "       ...,\n",
       "       [-2.91099071e+00, -4.61738173e-03, -1.04554806e+00, ...,\n",
       "         5.84805362e+00, -2.07057451e+00,  1.54844569e+00],\n",
       "       [ 2.38340250e+00, -1.46439741e+00,  4.53023199e-01, ...,\n",
       "        -2.07057451e+00,  8.24152812e+00, -7.48403819e-01],\n",
       "       [-7.54795040e+01, -3.38584373e-01, -8.66874296e-01, ...,\n",
       "         1.54844569e+00, -7.48403819e-01,  2.38801894e+02]])})</pre><b>In a Jupyter environment, please rerun this cell to show the HTML representation or trust the notebook. <br />On GitHub, the HTML representation is unable to render, please try loading this page with nbviewer.org.</b></div><div class=\"sk-container\" hidden><div class=\"sk-item\"><div class=\"sk-estimator sk-toggleable\"><input class=\"sk-toggleable__control sk-hidden--visually\" id=\"sk-estimator-id-5\" type=\"checkbox\" checked><label for=\"sk-estimator-id-5\" class=\"sk-toggleable__label sk-toggleable__label-arrow\">KNeighborsRegressor</label><div class=\"sk-toggleable__content\"><pre>KNeighborsRegressor(metric=&#x27;mahalanobis&#x27;,\n",
       "                    metric_params={&#x27;VI&#x27;: array([[ 7.32102305e+01,  2.48173641e+00,  2.33373591e+00, ...,\n",
       "        -2.91099071e+00,  2.38340250e+00, -7.54795040e+01],\n",
       "       [ 2.48173641e+00,  3.42215797e+01,  1.85744465e+00, ...,\n",
       "        -4.61738173e-03, -1.46439741e+00, -3.38584373e-01],\n",
       "       [ 2.33373591e+00,  1.85744465e+00,  8.30547027e+00, ...,\n",
       "        -1.04554806e+00,  4.53023199e-01, -8.66874296e-01],\n",
       "       ...,\n",
       "       [-2.91099071e+00, -4.61738173e-03, -1.04554806e+00, ...,\n",
       "         5.84805362e+00, -2.07057451e+00,  1.54844569e+00],\n",
       "       [ 2.38340250e+00, -1.46439741e+00,  4.53023199e-01, ...,\n",
       "        -2.07057451e+00,  8.24152812e+00, -7.48403819e-01],\n",
       "       [-7.54795040e+01, -3.38584373e-01, -8.66874296e-01, ...,\n",
       "         1.54844569e+00, -7.48403819e-01,  2.38801894e+02]])})</pre></div></div></div></div></div>"
      ],
      "text/plain": [
       "KNeighborsRegressor(metric='mahalanobis',\n",
       "                    metric_params={'VI': array([[ 7.32102305e+01,  2.48173641e+00,  2.33373591e+00, ...,\n",
       "        -2.91099071e+00,  2.38340250e+00, -7.54795040e+01],\n",
       "       [ 2.48173641e+00,  3.42215797e+01,  1.85744465e+00, ...,\n",
       "        -4.61738173e-03, -1.46439741e+00, -3.38584373e-01],\n",
       "       [ 2.33373591e+00,  1.85744465e+00,  8.30547027e+00, ...,\n",
       "        -1.04554806e+00,  4.53023199e-01, -8.66874296e-01],\n",
       "       ...,\n",
       "       [-2.91099071e+00, -4.61738173e-03, -1.04554806e+00, ...,\n",
       "         5.84805362e+00, -2.07057451e+00,  1.54844569e+00],\n",
       "       [ 2.38340250e+00, -1.46439741e+00,  4.53023199e-01, ...,\n",
       "        -2.07057451e+00,  8.24152812e+00, -7.48403819e-01],\n",
       "       [-7.54795040e+01, -3.38584373e-01, -8.66874296e-01, ...,\n",
       "         1.54844569e+00, -7.48403819e-01,  2.38801894e+02]])})"
      ]
     },
     "execution_count": 18,
     "metadata": {},
     "output_type": "execute_result"
    }
   ],
   "source": [
    "# Load the pickled KNN model\n",
    "with open(\"Pickle_kNN_hvac_N_Model.pkl\", \"rb\") as file:\n",
    "    hvac_N_model = pickle.load(file)\n",
    "\n",
    "hvac_N_model\n",
    "\n",
    " \n",
    " "
   ]
  },
  {
   "cell_type": "code",
   "execution_count": 20,
   "id": "a81a510d",
   "metadata": {},
   "outputs": [
    {
     "name": "stdout",
     "output_type": "stream",
     "text": [
      "Test score: 86.75 %\n"
     ]
    }
   ],
   "source": [
    "# Calculate the Score \n",
    "score = hvac_N_Model.score(X2_test, y2_test)  \n",
    "# Print the Score\n",
    "print(\"Test score: {0:.2f} %\".format(100 * score))  \n"
   ]
  },
  {
   "cell_type": "code",
   "execution_count": null,
   "id": "069ba736",
   "metadata": {},
   "outputs": [],
   "source": []
  }
 ],
 "metadata": {
  "kernelspec": {
   "display_name": "Python 3 (ipykernel)",
   "language": "python",
   "name": "python3"
  },
  "language_info": {
   "codemirror_mode": {
    "name": "ipython",
    "version": 3
   },
   "file_extension": ".py",
   "mimetype": "text/x-python",
   "name": "python",
   "nbconvert_exporter": "python",
   "pygments_lexer": "ipython3",
   "version": "3.11.4"
  }
 },
 "nbformat": 4,
 "nbformat_minor": 5
}
