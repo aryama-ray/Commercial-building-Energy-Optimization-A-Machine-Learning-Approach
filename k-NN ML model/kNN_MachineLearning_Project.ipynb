{
 "cells": [
  {
   "cell_type": "markdown",
   "id": "ecb87be3",
   "metadata": {},
   "source": [
    "# k-NN Algorithm - Correlation Statistics for target variable hvac_S"
   ]
  },
  {
   "cell_type": "code",
   "execution_count": 21,
   "id": "14d27e18",
   "metadata": {},
   "outputs": [],
   "source": [
    "import pandas as pd\n",
    "from sklearn.model_selection import train_test_split\n",
    "from sklearn.preprocessing import StandardScaler\n",
    "from sklearn.neighbors import KNeighborsRegressor\n",
    "from sklearn.metrics import mean_squared_error\n",
    "from sklearn.metrics import mean_absolute_error, r2_score"
   ]
  },
  {
   "cell_type": "markdown",
   "id": "3d35051d",
   "metadata": {},
   "source": [
    "### Validation split of data by keeping aside 10 percent of data and working on 90 percent of data for model building"
   ]
  },
  {
   "cell_type": "code",
   "execution_count": 13,
   "id": "c4519ed1",
   "metadata": {},
   "outputs": [],
   "source": [
    "# Load the CSV file\n",
    "#df = pd.read_csv(\"feature_select_df_hvacS_1.csv\")\n",
    "\n",
    "# Perform 90:10 train-test split\n",
    "#train_90, test_10 = train_test_split(df, test_size=0.1, random_state=42)\n",
    "\n",
    "# Save the 90% split files\n",
    "#train_90.to_csv(\"train_90.csv\", index=False)\n",
    "#test_10.to_csv(\"test_10.csv\", index=False)"
   ]
  },
  {
   "cell_type": "code",
   "execution_count": 14,
   "id": "ed302c75",
   "metadata": {},
   "outputs": [],
   "source": [
    "#target = all_df[['hvac_S', 'hvac_N']]\n",
    "\n",
    "#target.to_csv(\"target.csv\", index=False)\n",
    "\n",
    "# Perform 90:10 train-test split for the target variable\n",
    "#target_train_90, target_test_10 = train_test_split(target, test_size=0.1, random_state=42)\n",
    "\n",
    "# Save the 90% split target variable\n",
    "#target_train_90.to_csv(\"target_train_90.csv\", index=False)\n",
    "#target_test_10.to_csv(\"target_test_10.csv\", index=False)\n",
    "\n",
    "target_90 = pd.read_csv(\"target_train_90.csv\")\n",
    "\n",
    "# Align indices of features with the 90% split target variable\n",
    "#df_target_90 = df.loc[target_90.index]\n"
   ]
  },
  {
   "cell_type": "code",
   "execution_count": 15,
   "id": "1f81fc85",
   "metadata": {},
   "outputs": [],
   "source": [
    "df_features_90 = pd.read_csv(\"train_90_S.csv\")"
   ]
  },
  {
   "cell_type": "code",
   "execution_count": 16,
   "id": "1550fe0a",
   "metadata": {},
   "outputs": [],
   "source": [
    "\n",
    "X1_train, X1_test, y1_train, y1_test = train_test_split(df_features_90, target_90['hvac_S'], random_state=42, test_size=0.3)"
   ]
  },
  {
   "cell_type": "code",
   "execution_count": 17,
   "id": "0a7e3edf",
   "metadata": {},
   "outputs": [
    {
     "name": "stdout",
     "output_type": "stream",
     "text": [
      "Mean Squared Error: 28.82916824489818\n"
     ]
    }
   ],
   "source": [
    "\n",
    "scaler = StandardScaler()\n",
    "X1_train_scaled = scaler.fit_transform(X1_train)\n",
    "X1_test_scaled = scaler.transform(X1_test)\n",
    "\n",
    "knn = KNeighborsRegressor(n_neighbors=5)\n",
    "\n",
    "knn.fit(X1_train_scaled, y1_train)\n",
    "\n",
    "y1_pred = knn.predict(X1_test_scaled)\n",
    "\n",
    "mse_hvacS = mean_squared_error(y1_test, y1_pred)\n",
    "print(\"Mean Squared Error:\", mse_hvacS)\n"
   ]
  },
  {
   "cell_type": "code",
   "execution_count": 23,
   "id": "660e9977",
   "metadata": {},
   "outputs": [
    {
     "name": "stdout",
     "output_type": "stream",
     "text": [
      "k-NN R2 score for hvacS: 0.8282825654851133\n",
      "k-NN Mean Absolute Error (MAE) for hvacS: 3.3433649369199396\n",
      "k-NN Mean Squared Error (MSE) for hvacS: 28.82916824489818\n",
      "k-NN Root Mean Squared Error (RMSE) for hvacS: 5.369280049028751\n"
     ]
    }
   ],
   "source": [
    "print('k-NN R2 score for hvacS: {}'.format(r2_score(y1_test,y1_pred)))\n",
    "print('k-NN Mean Absolute Error (MAE) for hvacS: {}'.format(mean_absolute_error(y1_test, y1_pred)))\n",
    "print('k-NN Mean Squared Error (MSE) for hvacS: {}'.format(mean_squared_error(y1_test, y1_pred)))\n",
    "rmse_hvacS = np.sqrt(mean_squared_error(y1_test, y1_pred))\n",
    "print('k-NN Root Mean Squared Error (RMSE) for hvacS: {}'.format(rmse_hvacS))"
   ]
  },
  {
   "cell_type": "markdown",
   "id": "0a9bc5fa",
   "metadata": {},
   "source": [
    "# Hyperparameter tuning in k-NN through cross-validation and gridsearch"
   ]
  },
  {
   "cell_type": "code",
   "execution_count": 19,
   "id": "4d0eb9cb",
   "metadata": {},
   "outputs": [
    {
     "name": "stdout",
     "output_type": "stream",
     "text": [
      "CV Scores (RMSE): [5.52224117 5.65746091 5.45893267 5.50326052 5.50503789]\n",
      "Mean CV Score (RMSE): 5.529386630786256\n",
      "CV Scores (R squared): [0.81794709 0.81011869 0.82995449 0.81953875 0.82222567]\n",
      "Mean CV Score (R squared): 0.8199569380909955\n",
      "Best n_neighbors value: {'n_neighbors': 5}\n",
      "Best CV Score (RMSE): 5.524417821602885\n",
      "Test Set RMSE: 5.369280049028751\n",
      "Test Set R squared: 0.8282825654851133\n"
     ]
    }
   ],
   "source": [
    "import pandas as pd\n",
    "import numpy as np\n",
    "from sklearn.model_selection import cross_val_score, GridSearchCV, train_test_split\n",
    "from sklearn.neighbors import KNeighborsRegressor\n",
    "from sklearn.metrics import mean_squared_error\n",
    "from sklearn.metrics import r2_score\n",
    "\n",
    "knn_cv = KNeighborsRegressor(n_neighbors=3)\n",
    "\n",
    "cv_scores = cross_val_score(knn_cv, X1_train_scaled, y1_train, cv=5, scoring='neg_mean_squared_error')\n",
    "cv_scores_r2 = cross_val_score(knn_cv, X1_train_scaled, y1_train, cv=5, scoring='r2')\n",
    "\n",
    "print(\"CV Scores (RMSE):\", np.sqrt(-cv_scores))\n",
    "print(\"Mean CV Score (RMSE):\", np.mean(np.sqrt(-cv_scores)))\n",
    "\n",
    "print(\"CV Scores (R squared):\", cv_scores_r2)\n",
    "print(\"Mean CV Score (R squared):\", np.mean(cv_scores_r2))\n",
    "\n",
    "param_grid = {'n_neighbors': np.arange(1, 25, 2)}\n",
    "\n",
    "# Using GridSearch to test all values for n_neighbors\n",
    "knn_gscv = GridSearchCV(KNeighborsRegressor(), param_grid, cv=5, scoring='neg_mean_squared_error')\n",
    "\n",
    "knn_gscv.fit(X1_train_scaled, y1_train)\n",
    "\n",
    "print(\"Best n_neighbors value:\", knn_gscv.best_params_)\n",
    "\n",
    "print(\"Best CV Score (RMSE):\", np.sqrt(-knn_gscv.best_score_))\n",
    "\n",
    "y_pred_tuned = knn_gscv.predict(X1_test_scaled)\n",
    "rmse = np.sqrt(mean_squared_error(y1_test, y_pred_tuned))\n",
    "r_squared = r2_score(y1_test, y_pred_tuned)\n",
    "print(\"Test Set RMSE:\", rmse)\n",
    "print(\"Test Set R squared:\", r_squared)\n"
   ]
  },
  {
   "cell_type": "markdown",
   "id": "6b36fc10",
   "metadata": {},
   "source": [
    "#### From Hyperparameter tuning results, we can see that k-NN model performs best at k=5\n"
   ]
  },
  {
   "cell_type": "markdown",
   "id": "8bbf1e8d",
   "metadata": {},
   "source": [
    "#### Implementing k-NN with other distance metrics such as manhattan and minkowski"
   ]
  },
  {
   "cell_type": "code",
   "execution_count": 24,
   "id": "6609e60c",
   "metadata": {},
   "outputs": [
    {
     "name": "stdout",
     "output_type": "stream",
     "text": [
      "\n",
      "Manhattan Distance:\n",
      "Mean Squared Error: 27.630878360373906\n",
      "k-NN R2 score for hvacS: 0.8354200334490759\n",
      "k-NN Mean Absolute Error (MAE) for hvacS: 3.2773541570332063\n",
      "k-NN Mean Squared Error (MSE) for hvacS: 27.630878360373906\n",
      "k-NN Root Mean Squared Error (RMSE) for hvacS: 5.25650819084056\n"
     ]
    }
   ],
   "source": [
    "knn_manhattan = KNeighborsRegressor(n_neighbors=5, metric='manhattan')\n",
    "\n",
    "knn_manhattan.fit(X1_train_scaled, y1_train)\n",
    "\n",
    "y1_pred_manhattan = knn_manhattan.predict(X1_test_scaled)\n",
    "\n",
    "# Evaluate the model with Manhattan distance\n",
    "mse_hvacS_manhattan = mean_squared_error(y1_test, y1_pred_manhattan)\n",
    "print(\"\\nManhattan Distance:\")\n",
    "print(\"Mean Squared Error:\", mse_hvacS_manhattan)\n",
    "print('k-NN R2 score for hvacS: {}'.format(r2_score(y1_test, y1_pred_manhattan)))\n",
    "print('k-NN Mean Absolute Error (MAE) for hvacS: {}'.format(mean_absolute_error(y1_test, y1_pred_manhattan)))\n",
    "print('k-NN Mean Squared Error (MSE) for hvacS: {}'.format(mse_hvacS_manhattan))\n",
    "rmse_hvacS_manhattan = np.sqrt(mse_hvacS_manhattan)\n",
    "print('k-NN Root Mean Squared Error (RMSE) for hvacS: {}'.format(rmse_hvacS_manhattan))\n"
   ]
  },
  {
   "cell_type": "code",
   "execution_count": 25,
   "id": "428f9217",
   "metadata": {},
   "outputs": [
    {
     "name": "stdout",
     "output_type": "stream",
     "text": [
      "\n",
      "Minkowski Distance (p=2, equivalent to Euclidean):\n",
      "Mean Squared Error: 28.82916824489818\n",
      "k-NN R2 score for hvacS: 0.8282825654851133\n",
      "k-NN Mean Absolute Error (MAE) for hvacS: 3.3433649369199396\n",
      "k-NN Mean Squared Error (MSE) for hvacS: 28.82916824489818\n",
      "k-NN Root Mean Squared Error (RMSE) for hvacS: 5.369280049028751\n"
     ]
    }
   ],
   "source": [
    "knn_minkowski = KNeighborsRegressor(n_neighbors=5, metric='minkowski')\n",
    "\n",
    "knn_minkowski.fit(X1_train_scaled, y1_train)\n",
    "\n",
    "y1_pred_minkowski = knn_minkowski.predict(X1_test_scaled)\n",
    "\n",
    "# Evaluate the model with Minkowski distance\n",
    "mse_hvacS_minkowski = mean_squared_error(y1_test, y1_pred_minkowski)\n",
    "print(\"\\nMinkowski Distance (p=2, equivalent to Euclidean):\")\n",
    "print(\"Mean Squared Error:\", mse_hvacS_minkowski)\n",
    "print('k-NN R2 score for hvacS: {}'.format(r2_score(y1_test, y1_pred_minkowski)))\n",
    "print('k-NN Mean Absolute Error (MAE) for hvacS: {}'.format(mean_absolute_error(y1_test, y1_pred_minkowski)))\n",
    "print('k-NN Mean Squared Error (MSE) for hvacS: {}'.format(mse_hvacS_minkowski))\n",
    "rmse_hvacS_minkowski = np.sqrt(mse_hvacS_minkowski)\n",
    "print('k-NN Root Mean Squared Error (RMSE) for hvacS: {}'.format(rmse_hvacS_minkowski))\n"
   ]
  },
  {
   "cell_type": "code",
   "execution_count": 27,
   "id": "786e04e6",
   "metadata": {},
   "outputs": [
    {
     "name": "stdout",
     "output_type": "stream",
     "text": [
      "Chebyshev\n",
      "Mean Squared Error: 32.80170631391751\n",
      "k-NN R2 score for hvacS: 0.8046206256077656\n",
      "k-NN Mean Absolute Error (MAE) for hvacS: 3.633392168247137\n",
      "k-NN Root Mean Squared Error (RMSE) for hvacS: 5.727277391039961\n",
      "\n",
      "Mahalanobis\n",
      "Mean Squared Error: 27.062579548351504\n",
      "k-NN R2 score for hvacS: 0.8388050362077182\n",
      "k-NN Mean Absolute Error (MAE) for hvacS: 3.230357714860493\n",
      "k-NN Root Mean Squared Error (RMSE) for hvacS: 5.202170657365203\n",
      "\n"
     ]
    }
   ],
   "source": [
    "import numpy as np\n",
    "\n",
    "# Scale the features\n",
    "scaler = StandardScaler()\n",
    "X1_train_scaled = scaler.fit_transform(X1_train)\n",
    "X1_test_scaled = scaler.transform(X1_test)\n",
    "\n",
    "# Calculate the inverse covariance matrix\n",
    "VI = np.linalg.inv(np.cov(X1_train_scaled, rowvar=False))\n",
    "\n",
    "# Chebyshev distance\n",
    "knn_chebyshev = KNeighborsRegressor(n_neighbors=5, metric='chebyshev')\n",
    "\n",
    "# Mahalanobis distance\n",
    "knn_mahalanobis = KNeighborsRegressor(n_neighbors=5, metric='mahalanobis', metric_params={'VI': VI})\n",
    "\n",
    "# Train and evaluate models with different distance metrics\n",
    "\n",
    "models = {\n",
    "    \"Chebyshev\": knn_chebyshev,\n",
    "    \"Mahalanobis\": knn_mahalanobis\n",
    "}\n",
    "\n",
    "for name, model in models.items():\n",
    "    print(name)\n",
    "    model.fit(X1_train_scaled, y1_train)\n",
    "    y1_pred_dis = model.predict(X1_test_scaled)\n",
    "    \n",
    "    mse_hvacS = mean_squared_error(y1_test, y1_pred_dis)\n",
    "    print(\"Mean Squared Error:\", mse_hvacS)\n",
    "    print('k-NN R2 score for hvacS:', r2_score(y1_test, y1_pred_dis))\n",
    "    print('k-NN Mean Absolute Error (MAE) for hvacS:', mean_absolute_error(y1_test, y1_pred_dis))\n",
    "    print('k-NN Root Mean Squared Error (RMSE) for hvacS:', np.sqrt(mse_hvacS))\n",
    "    print()\n"
   ]
  },
  {
   "cell_type": "code",
   "execution_count": 28,
   "id": "44ef58c6",
   "metadata": {},
   "outputs": [],
   "source": [
    "# Saving the k-NN model through pickle file\n",
    "\n",
    "import pickle\n",
    "\n",
    "Pkl_kNN_hvac_S = \"Pickle_kNN_hvac_S_Model.pkl\"  \n",
    "\n",
    "with open(Pkl_kNN_hvac_S, 'wb') as file:  \n",
    "    pickle.dump(knn_mahalanobis, file)\n",
    "\n",
    "with open(Pkl_kNN_hvac_S, 'rb') as file:  \n",
    "    Pickled_kNN_hvac_S_Model = pickle.load(file)\n",
    "\n",
    "Pickled_kNN_hvac_S_Model\n",
    "\n",
    "Ypredict_hvac_S = Pickled_kNN_hvac_S_Model.predict(X1_test_scaled)  \n",
    " "
   ]
  },
  {
   "cell_type": "markdown",
   "id": "cc97962e",
   "metadata": {},
   "source": [
    "## k-NN Algorithm - Correlation Statistics for target variable hvac_N"
   ]
  },
  {
   "cell_type": "code",
   "execution_count": 29,
   "id": "af6a8c84",
   "metadata": {},
   "outputs": [],
   "source": [
    "# Load the CSV file\n",
    "#df_N = pd.read_csv(\"feature_select_df_hvacN_1.csv\")\n",
    "\n",
    "# Perform 90:10 train-test split\n",
    "#train_90_N, test_10_N = train_test_split(df_N, test_size=0.1, random_state=42)\n",
    "\n",
    "# Save the 90% split files\n",
    "#train_90_N.to_csv(\"train_90_N.csv\", index=False)\n",
    "#test_10_N.to_csv(\"test_10_N.csv\", index=False)"
   ]
  },
  {
   "cell_type": "code",
   "execution_count": 30,
   "id": "851ea1b3",
   "metadata": {},
   "outputs": [],
   "source": [
    "df_features_90_N = pd.read_csv(\"train_90_N.csv\")"
   ]
  },
  {
   "cell_type": "code",
   "execution_count": 31,
   "id": "2df6fc5a",
   "metadata": {},
   "outputs": [],
   "source": [
    "#Splitting the data\n",
    "X2_train, X2_test, y2_train, y2_test = train_test_split(df_features_90_N, target_90['hvac_N'], random_state=42, test_size=0.3)"
   ]
  },
  {
   "cell_type": "code",
   "execution_count": 32,
   "id": "0c10ffb7",
   "metadata": {},
   "outputs": [
    {
     "name": "stdout",
     "output_type": "stream",
     "text": [
      "Mean Squared Error: 23.43564496598298\n"
     ]
    }
   ],
   "source": [
    "# Scaling the features\n",
    "scaler = StandardScaler()\n",
    "X2_train_scaled = scaler.fit_transform(X2_train)\n",
    "X2_test_scaled = scaler.transform(X2_test)\n",
    "\n",
    "knn = KNeighborsRegressor(n_neighbors=5)\n",
    "\n",
    "knn.fit(X2_train_scaled, y2_train)\n",
    "\n",
    "# Predicting on the testing set\n",
    "y2_pred = knn.predict(X2_test_scaled)\n",
    "\n",
    "# Evaluating model performance the model\n",
    "mse_hvacN = mean_squared_error(y2_test, y2_pred)\n",
    "print(\"Mean Squared Error:\", mse_hvacN)\n"
   ]
  },
  {
   "cell_type": "code",
   "execution_count": 33,
   "id": "85d8b3c0",
   "metadata": {},
   "outputs": [
    {
     "name": "stdout",
     "output_type": "stream",
     "text": [
      "k-NN R2 score for hvacN: 0.8749333032065396\n",
      "k-NN Mean Absolute Error (MAE) for hvacN: 2.6985699008857518\n",
      "k-NN Mean Squared Error (MSE) for hvacN: 23.43564496598298\n",
      "k-NN Root Mean Squared Error (RMSE) for hvacN: 4.8410375918787265\n"
     ]
    }
   ],
   "source": [
    "print('k-NN R2 score for hvacN: {}'.format(r2_score(y2_test,y2_pred)))\n",
    "print('k-NN Mean Absolute Error (MAE) for hvacN: {}'.format(mean_absolute_error(y2_test, y2_pred)))\n",
    "print('k-NN Mean Squared Error (MSE) for hvacN: {}'.format(mean_squared_error(y2_test, y2_pred)))\n",
    "rmse_hvacN = np.sqrt(mean_squared_error(y2_test, y2_pred))\n",
    "print('k-NN Root Mean Squared Error (RMSE) for hvacN: {}'.format(rmse_hvacN))\n"
   ]
  },
  {
   "cell_type": "markdown",
   "id": "3143f451",
   "metadata": {},
   "source": [
    "## Hyperparameter tuning in k-NN through cross-validation and gridsearch"
   ]
  },
  {
   "cell_type": "code",
   "execution_count": 34,
   "id": "b2bbae57",
   "metadata": {},
   "outputs": [
    {
     "name": "stdout",
     "output_type": "stream",
     "text": [
      "CV Scores (RMSE): [5.0082472  4.90665337 5.0367324  5.17095444 5.16853483]\n",
      "Mean CV Score (RMSE): 5.058224446998724\n",
      "CV Scores (R squared): [0.86929166 0.86991346 0.87166254 0.85869447 0.86132217]\n",
      "Mean CV Score (R squared): 0.8661768595282566\n",
      "Best n_neighbors value: {'n_neighbors': 5}\n",
      "Best CV Score (RMSE): 5.041717714193332\n",
      "Test Set RMSE: 4.8410375918787265\n",
      "Test Set R squared: 0.8749333032065396\n"
     ]
    }
   ],
   "source": [
    "import pandas as pd\n",
    "import numpy as np\n",
    "from sklearn.model_selection import cross_val_score, GridSearchCV, train_test_split\n",
    "from sklearn.neighbors import KNeighborsRegressor\n",
    "from sklearn.metrics import mean_squared_error\n",
    "from sklearn.metrics import r2_score\n",
    "\n",
    "knn_cv_n = KNeighborsRegressor(n_neighbors=3)\n",
    "\n",
    "# Training model with cross-validation of 5 folds\n",
    "cv_scores_n = cross_val_score(knn_cv_n, X2_train_scaled, y2_train, cv=5, scoring='neg_mean_squared_error')\n",
    "cv_scores_r2_n = cross_val_score(knn_cv_n, X2_train_scaled, y2_train, cv=5, scoring='r2')\n",
    "\n",
    "print(\"CV Scores (RMSE):\", np.sqrt(-cv_scores_n))\n",
    "print(\"Mean CV Score (RMSE):\", np.mean(np.sqrt(-cv_scores_n)))\n",
    "\n",
    "print(\"CV Scores (R squared):\", cv_scores_r2_n)\n",
    "print(\"Mean CV Score (R squared):\", np.mean(cv_scores_r2_n))\n",
    "\n",
    "# Creating a dictionary of values we want to test for n_neighbors\n",
    "param_grid_n = {'n_neighbors': np.arange(1, 25, 2)}\n",
    "\n",
    "# Using GridSearch\n",
    "knn_gscv_n = GridSearchCV(KNeighborsRegressor(), param_grid_n, cv=5, scoring='neg_mean_squared_error')\n",
    "\n",
    "knn_gscv_n.fit(X2_train_scaled, y2_train)\n",
    "\n",
    "print(\"Best n_neighbors value:\", knn_gscv_n.best_params_)\n",
    "\n",
    "print(\"Best CV Score (RMSE):\", np.sqrt(-knn_gscv_n.best_score_))\n",
    "\n",
    "# Evaluating model performance on test set\n",
    "y_pred_tuned = knn_gscv_n.predict(X2_test_scaled)\n",
    "rmse = np.sqrt(mean_squared_error(y2_test, y_pred_tuned))\n",
    "r_squared = r2_score(y2_test, y_pred_tuned)\n",
    "print(\"Test Set RMSE:\", rmse)\n",
    "print(\"Test Set R squared:\", r_squared)"
   ]
  },
  {
   "cell_type": "markdown",
   "id": "8993dd3a",
   "metadata": {},
   "source": [
    "#### From Hyperparameter tuning results, we can see that k-NN model performs best at k=5"
   ]
  },
  {
   "cell_type": "markdown",
   "id": "5e45d61f",
   "metadata": {},
   "source": [
    "#### Implementing k-NN with other distance metrics such as manhattan and minkowski"
   ]
  },
  {
   "cell_type": "code",
   "execution_count": 35,
   "id": "f8d26345",
   "metadata": {},
   "outputs": [
    {
     "name": "stdout",
     "output_type": "stream",
     "text": [
      "\n",
      "Manhattan Distance:\n",
      "Mean Squared Error: 21.195831600423308\n",
      "k-NN R2 score for hvacN: 0.8868862944500491\n",
      "k-NN Mean Absolute Error (MAE) for hvacN: 2.5691088623998137\n",
      "k-NN Mean Squared Error (MSE) for hvacN: 21.195831600423308\n",
      "k-NN Root Mean Squared Error (RMSE) for hvacN: 4.603893091767369\n"
     ]
    }
   ],
   "source": [
    "knn_manhattan_n = KNeighborsRegressor(n_neighbors=5, metric='manhattan')\n",
    "\n",
    "knn_manhattan_n.fit(X2_train_scaled, y2_train)\n",
    "\n",
    "# Predict on the testing set with Manhattan distance\n",
    "y2_pred_manhattan = knn_manhattan_n.predict(X2_test_scaled)\n",
    "\n",
    "mse_hvacN_manhattan = mean_squared_error(y2_test, y2_pred_manhattan)\n",
    "print(\"\\nManhattan Distance:\")\n",
    "print(\"Mean Squared Error:\", mse_hvacN_manhattan)\n",
    "print('k-NN R2 score for hvacN: {}'.format(r2_score(y2_test, y2_pred_manhattan)))\n",
    "print('k-NN Mean Absolute Error (MAE) for hvacN: {}'.format(mean_absolute_error(y2_test, y2_pred_manhattan)))\n",
    "print('k-NN Mean Squared Error (MSE) for hvacN: {}'.format(mse_hvacN_manhattan))\n",
    "rmse_hvacN_manhattan = np.sqrt(mse_hvacN_manhattan)\n",
    "print('k-NN Root Mean Squared Error (RMSE) for hvacN: {}'.format(rmse_hvacN_manhattan))"
   ]
  },
  {
   "cell_type": "code",
   "execution_count": 36,
   "id": "bd955683",
   "metadata": {},
   "outputs": [
    {
     "name": "stdout",
     "output_type": "stream",
     "text": [
      "\n",
      "Minkowski Distance (p=2, equivalent to Euclidean):\n",
      "Mean Squared Error: 23.43564496598298\n",
      "k-NN R2 score for hvacN: 0.8749333032065396\n",
      "k-NN Mean Absolute Error (MAE) for hvacN: 2.6985699008857518\n",
      "k-NN Mean Squared Error (MSE) for hvacN: 23.43564496598298\n",
      "k-NN Root Mean Squared Error (RMSE) for hvacN: 4.8410375918787265\n"
     ]
    }
   ],
   "source": [
    "knn_minkowski_n = KNeighborsRegressor(n_neighbors=5, metric='minkowski')\n",
    "\n",
    "knn_minkowski_n.fit(X2_train_scaled, y2_train)\n",
    "\n",
    "# Predict on the testing set with Minkowski distance\n",
    "y2_pred_minkowski = knn_minkowski_n.predict(X2_test_scaled)\n",
    "\n",
    "mse_hvacN_minkowski = mean_squared_error(y2_test, y2_pred_minkowski)\n",
    "print(\"\\nMinkowski Distance (p=2, equivalent to Euclidean):\")\n",
    "print(\"Mean Squared Error:\", mse_hvacN_minkowski)\n",
    "print('k-NN R2 score for hvacN: {}'.format(r2_score(y2_test, y2_pred_minkowski)))\n",
    "print('k-NN Mean Absolute Error (MAE) for hvacN: {}'.format(mean_absolute_error(y2_test, y2_pred_minkowski)))\n",
    "print('k-NN Mean Squared Error (MSE) for hvacN: {}'.format(mse_hvacN_minkowski))\n",
    "rmse_hvacN_minkowski = np.sqrt(mse_hvacN_minkowski)\n",
    "print('k-NN Root Mean Squared Error (RMSE) for hvacN: {}'.format(rmse_hvacN_minkowski))"
   ]
  },
  {
   "cell_type": "code",
   "execution_count": 37,
   "id": "af61b70c",
   "metadata": {},
   "outputs": [
    {
     "name": "stdout",
     "output_type": "stream",
     "text": [
      "Chebyshev\n",
      "Mean Squared Error: 28.001720527197847\n",
      "k-NN R2 score for hvacN: 0.8505659777679013\n",
      "k-NN Mean Absolute Error (MAE) for hvacN: 2.988847265791097\n",
      "k-NN Root Mean Squared Error (RMSE) for hvacN: 5.2916651941707205\n",
      "\n",
      "Mahalanobis\n",
      "Mean Squared Error: 20.094745657481138\n",
      "k-NN R2 score for hvacN: 0.8927623512843873\n",
      "k-NN Mean Absolute Error (MAE) for hvacN: 2.4743898992965874\n",
      "k-NN Root Mean Squared Error (RMSE) for hvacN: 4.482716325787428\n",
      "\n"
     ]
    }
   ],
   "source": [
    "import numpy as np\n",
    "\n",
    "# Scale the features\n",
    "scaler = StandardScaler()\n",
    "X2_train_scaled = scaler.fit_transform(X2_train)\n",
    "X2_test_scaled = scaler.transform(X2_test)\n",
    "\n",
    "# Calculate the inverse covariance matrix\n",
    "VI_n = np.linalg.inv(np.cov(X2_train_scaled, rowvar=False))\n",
    "\n",
    "# Chebyshev distance\n",
    "knn_chebyshev_n = KNeighborsRegressor(n_neighbors=5, metric='chebyshev')\n",
    "\n",
    "# Mahalanobis distance\n",
    "knn_mahalanobis_n = KNeighborsRegressor(n_neighbors=5, metric='mahalanobis', metric_params={'VI': VI_n})\n",
    "\n",
    "models_n = {\n",
    "    \"Chebyshev\": knn_chebyshev_n,\n",
    "    \"Mahalanobis\": knn_mahalanobis_n\n",
    "}\n",
    "\n",
    "for name, model in models_n.items():\n",
    "    print(name)\n",
    "    model.fit(X2_train_scaled, y2_train)\n",
    "    y2_pred_dis = model.predict(X2_test_scaled)\n",
    "\n",
    "    # Evaluate the model\n",
    "    mse_hvacN = mean_squared_error(y2_test, y2_pred_dis)\n",
    "    print(\"Mean Squared Error:\", mse_hvacN)\n",
    "    print('k-NN R2 score for hvacN:', r2_score(y2_test, y2_pred_dis))\n",
    "    print('k-NN Mean Absolute Error (MAE) for hvacN:', mean_absolute_error(y2_test, y2_pred_dis))\n",
    "    print('k-NN Root Mean Squared Error (RMSE) for hvacN:', np.sqrt(mse_hvacN))\n",
    "    print()\n"
   ]
  },
  {
   "cell_type": "code",
   "execution_count": 38,
   "id": "5fdbeae0",
   "metadata": {},
   "outputs": [],
   "source": [
    "# Saving the model through pickle file\n",
    "\n",
    "import pickle\n",
    "\n",
    "Pkl_kNN_hvac_N = \"Pickle_kNN_hvac_N_Model.pkl\"  \n",
    "\n",
    "with open(Pkl_kNN_hvac_N, 'wb') as file:  \n",
    "    pickle.dump(knn_mahalanobis_n, file)\n",
    "    \n",
    "with open(Pkl_kNN_hvac_N, 'rb') as file:  \n",
    "    Pickled_kNN_hvac_N_Model = pickle.load(file)\n",
    "\n",
    "Pickled_kNN_hvac_N_Model\n",
    "\n",
    "# Predict the Labels using the reloaded Model\n",
    "Ypredict_hvac_N = Pickled_kNN_hvac_N_Model.predict(X2_test_scaled)  "
   ]
  },
  {
   "cell_type": "code",
   "execution_count": null,
   "id": "5a2e317d",
   "metadata": {},
   "outputs": [],
   "source": []
  }
 ],
 "metadata": {
  "kernelspec": {
   "display_name": "Python 3 (ipykernel)",
   "language": "python",
   "name": "python3"
  },
  "language_info": {
   "codemirror_mode": {
    "name": "ipython",
    "version": 3
   },
   "file_extension": ".py",
   "mimetype": "text/x-python",
   "name": "python",
   "nbconvert_exporter": "python",
   "pygments_lexer": "ipython3",
   "version": "3.11.4"
  }
 },
 "nbformat": 4,
 "nbformat_minor": 5
}
